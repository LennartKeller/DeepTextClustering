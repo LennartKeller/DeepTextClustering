{
 "cells": [
  {
   "cell_type": "markdown",
   "metadata": {},
   "source": [
    "# This notebook is a test bench for working on the core model"
   ]
  },
  {
   "cell_type": "code",
   "execution_count": 1,
   "metadata": {},
   "outputs": [],
   "source": [
    "import os\n",
    "os.environ['CUDA_VISIBLE_DEVICES'] = \"0\""
   ]
  },
  {
   "cell_type": "code",
   "execution_count": 2,
   "metadata": {},
   "outputs": [
    {
     "name": "stderr",
     "output_type": "stream",
     "text": [
      "/home/keller/.conda/envs/clustering/lib/python3.8/site-packages/sklearn/utils/deprecation.py:143: FutureWarning: The sklearn.cluster.k_means_ module is  deprecated in version 0.22 and will be removed in version 0.24. The corresponding classes / functions should instead be imported from sklearn.cluster. Anything that cannot be imported from sklearn.cluster is now part of the private API.\n",
      "  warnings.warn(message, FutureWarning)\n"
     ]
    }
   ],
   "source": [
    "import torch\n",
    "import numpy as np\n",
    "from torch import nn\n",
    "\n",
    "from sklearn.metrics import adjusted_rand_score, normalized_mutual_info_score, silhouette_score\n",
    "from sklearn.cluster.k_means_ import _k_init\n",
    "from sklearn.utils.extmath import row_norms\n",
    "from sklearn.datasets import fetch_20newsgroups\n",
    "\n",
    "from tqdm import tqdm\n",
    "from copy import deepcopy\n",
    "from dataclasses import dataclass\n",
    "from typing import List, Dict\n",
    "\n",
    "from transformers import get_linear_schedule_with_warmup\n",
    "\n",
    "import matplotlib.pyplot as plt\n",
    "import gc"
   ]
  },
  {
   "cell_type": "code",
   "execution_count": 3,
   "metadata": {},
   "outputs": [],
   "source": [
    "import numpy as np\n",
    "import torch\n",
    "from typing import Optional\n",
    "from scipy.optimize import linear_sum_assignment\n",
    "\n",
    "\n",
    "def cluster_accuracy(y_true, y_predicted, cluster_number: Optional[int] = None):\n",
    "    \"\"\"\n",
    "    Calculate clustering accuracy after using the linear_sum_assignment function in SciPy to\n",
    "    determine reassignments.\n",
    "    :param y_true: list of true cluster numbers, an integer array 0-indexed\n",
    "    :param y_predicted: list  of predicted cluster numbers, an integer array 0-indexed\n",
    "    :param cluster_number: number of clusters, if None then calculated from input\n",
    "    :return: reassignment dictionary, clustering accuracy\n",
    "    \"\"\"\n",
    "    if cluster_number is None:\n",
    "        cluster_number = (\n",
    "            max(y_predicted.max(), y_true.max()) + 1\n",
    "        )  # assume labels are 0-indexed\n",
    "    count_matrix = np.zeros((cluster_number, cluster_number), dtype=np.int64)\n",
    "    for i in range(y_predicted.size):\n",
    "        count_matrix[y_predicted[i], y_true[i]] += 1\n",
    "\n",
    "    row_ind, col_ind = linear_sum_assignment(count_matrix.max() - count_matrix)\n",
    "    reassignment = dict(zip(row_ind, col_ind))\n",
    "    accuracy = count_matrix[row_ind, col_ind].sum() / y_predicted.size\n",
    "    return reassignment, accuracy"
   ]
  },
  {
   "cell_type": "code",
   "execution_count": 4,
   "metadata": {},
   "outputs": [],
   "source": [
    "from torch.utils.data import Dataset, DataLoader\n",
    "\n",
    "\n",
    "class TextDataset(Dataset):\n",
    "    def __init__(self, texts, labels):\n",
    "        \n",
    "        self.texts = texts\n",
    "        self.labels = labels\n",
    "\n",
    "\n",
    "        self.labels = torch.tensor(self.labels, dtype=torch.float)\n",
    "        \n",
    "    def __getitem__(self, index):\n",
    "        return self.texts[index], self.labels[index]\n",
    "\n",
    "    \n",
    "    def __len__(self):\n",
    "        return len(self.texts)"
   ]
  },
  {
   "cell_type": "code",
   "execution_count": 5,
   "metadata": {},
   "outputs": [],
   "source": [
    "def lp_distance(X, Y, p=2):\n",
    "    \"\"\"\n",
    "    Computes row wise minkowski distances between matrices X and Y\n",
    "    \"\"\"\n",
    "    return torch.sum(torch.abs(X-Y)**p, dim=1)**(1/p)"
   ]
  },
  {
   "cell_type": "code",
   "execution_count": 6,
   "metadata": {},
   "outputs": [],
   "source": [
    "def cosine_distance(X, Y):\n",
    "    \"\"\"\n",
    "    Computes the rowwise cosine distance between matrices X and Y.\n",
    "    \"\"\"\n",
    "    dots = torch.stack([torch.dot(xi, yi) for xi, yi in zip(X, Y)])\n",
    "    norms = torch.stack([torch.dot(xi.unsqueeze(0), yi.unsqueeze(0)) for xi, yi in zip(torch.norm(X, dim=1), torch.norm(Y, dim=1))])\n",
    "    cos_sim = torch.div(dots, norms)\n",
    "    return 1.0 - cos_sim"
   ]
  },
  {
   "cell_type": "code",
   "execution_count": 7,
   "metadata": {},
   "outputs": [],
   "source": [
    "from transformers import PreTrainedTokenizer\n",
    "from typing import *\n",
    "\n",
    "def mask_tokens(inputs: torch.Tensor, tokenizer) -> Tuple[torch.Tensor, torch.Tensor]:\n",
    "    \"\"\"\n",
    "    Prepare masked tokens inputs/labels for masked language modeling: 80% MASK, 10% random, 10% original.\n",
    "    \"\"\"\n",
    "\n",
    "    if tokenizer.mask_token is None:\n",
    "        raise ValueError(\n",
    "            \"This tokenizer does not have a mask token which is necessary for masked language modeling. Remove the --mlm flag if you want to use this tokenizer.\"\n",
    "        )\n",
    "\n",
    "    labels = inputs.clone()\n",
    "    # We sample a few tokens in each sequence for masked-LM training (with probability args.mlm_probability defaults to 0.15 in Bert/RoBERTa)\n",
    "    probability_matrix = torch.full(labels.shape, 0.15)\n",
    "    special_tokens_mask = [\n",
    "        tokenizer.get_special_tokens_mask(val, already_has_special_tokens=True) for val in labels.tolist()\n",
    "    ]\n",
    "    probability_matrix.masked_fill_(torch.tensor(special_tokens_mask, dtype=torch.bool), value=0.0)\n",
    "    if tokenizer._pad_token is not None:\n",
    "        padding_mask = labels.eq(tokenizer.pad_token_id)\n",
    "        probability_matrix.masked_fill_(padding_mask, value=0.0)\n",
    "    masked_indices = torch.bernoulli(probability_matrix).bool()\n",
    "    labels[~masked_indices] = -100  # We only compute loss on masked tokens\n",
    "\n",
    "    # 80% of the time, we replace masked input tokens with tokenizer.mask_token ([MASK])\n",
    "    indices_replaced = torch.bernoulli(torch.full(labels.shape, 0.8)).bool() & masked_indices\n",
    "    inputs[indices_replaced] = tokenizer.convert_tokens_to_ids(tokenizer.mask_token)\n",
    "\n",
    "    # 10% of the time, we replace masked input tokens with random word\n",
    "    indices_random = torch.bernoulli(torch.full(labels.shape, 0.5)).bool() & masked_indices & ~indices_replaced\n",
    "    random_words = torch.randint(len(tokenizer), labels.shape, dtype=torch.long)\n",
    "    inputs[indices_random] = random_words[indices_random]\n",
    "\n",
    "    # The rest of the time (10% of the time) we keep the masked input tokens unchanged\n",
    "    return inputs, labels"
   ]
  },
  {
   "cell_type": "code",
   "execution_count": 8,
   "metadata": {},
   "outputs": [],
   "source": [
    "def mean_sparsity(X):\n",
    "    \"\"\"\n",
    "    Computes the mean of the row-wise sparsity of the input feature-matrix X\n",
    "    \"\"\"\n",
    "    return np.mean(np.count_nonzero(X, axis=1) / X.shape[1])"
   ]
  },
  {
   "cell_type": "code",
   "execution_count": 9,
   "metadata": {},
   "outputs": [],
   "source": [
    "from dataclasses import dataclass\n",
    "from transformers.file_utils import ModelOutput\n",
    "\n",
    "@dataclass\n",
    "class ClusterOutput(ModelOutput):\n",
    "    \n",
    "    loss: torch.FloatTensor = None\n",
    "    predicted_labels: torch.IntTensor = None\n",
    "    embeddings: torch.FloatTensor = None"
   ]
  },
  {
   "cell_type": "code",
   "execution_count": 10,
   "metadata": {},
   "outputs": [],
   "source": [
    "def cls_embedding_extractor(model_output: ModelOutput):\n",
    "    return model_output.last_hidden_state[:, 0, :].float()\n",
    "\n",
    "def meanpooler_embedding_extractor(model_ouput: ModelOutput):\n",
    "    return model_ouput.last_hidden_state.mean(dim=1).float()\n",
    "\n",
    "def concat_cls_n_hidden_states(model_output: ModelOutput, n=5):\n",
    "    n_hidden_states = model_output.hidden_states[-n:]\n",
    "    return torch.cat([t[:, 0, :] for t in n_hidden_states], 1).float()\n",
    "\n",
    "def concat_mean_n_hidden_states(model_output: ModelOutput, n=3):\n",
    "    n_hidden_states = model_output.hidden_states[-n:]    \n",
    "    return torch.cat([t.mean(dim=1) for t in n_hidden_states], 1).float()\n",
    "\n",
    "class LearnableWeightedAverage(nn.Module):\n",
    "\n",
    "    def __init__(self, n=3, device='cuda:0'):\n",
    "        super(LearnableWeightedAverage, self).__init__()\n",
    "        self.n = n\n",
    "        self.device = device\n",
    "        self.register_parameter(\n",
    "            'weights',\n",
    "            nn.Parameter(torch.ones(self.n).float().unsqueeze(1), requires_grad=True)\n",
    "        )\n",
    "        self.tanh = nn.Tanh()\n",
    "\n",
    "        self.to(self.device)\n",
    "\n",
    "    def __forward__(self, model_output: ModelOutput):\n",
    "        n_hidden_states = model_output.hidden_states[-self.n:]\n",
    "        stacked_cls = torch.cat([t[:, 0, :] for t in n_hidden_states], 0).reshape(-1, self.n, 768)\n",
    "        return (stacked_cls * self.tanh(self.weights)).mean(dim=1)\n",
    "\n",
    "    def __call__(self, *args, **kwargs):\n",
    "        return self.__forward__(*args, **kwargs)\n",
    "\n",
    "class Projection(nn.Module):\n",
    "\n",
    "    def __init__(self, n=6, out_features=768, device='cuda:0'):\n",
    "        super(Projection, self).__init__()\n",
    "        self.n = n\n",
    "        self.device = device\n",
    "        self.out_features = out_features\n",
    "        self.linear = nn.Linear(in_features=self.n*768, out_features=768)\n",
    "        self.linear2 = nn.Linear(in_features=768, out_features=self.out_features)\n",
    "        self.relu = nn.ReLU()\n",
    "        self.tanh = nn.Tanh()\n",
    "        self.to(self.device)\n",
    "\n",
    "    def __forward__(self, model_output: ModelOutput):\n",
    "        concatenated = concat_cls_n_hidden_states(model_output=model_output, n=self.n)\n",
    "        return self.tanh(self.linear2(self.relu(self.linear(concatenated))))\n",
    "\n",
    "    def __call__(self, *args, **kwargs):\n",
    "        return self.__forward__(*args, **kwargs)"
   ]
  },
  {
   "cell_type": "code",
   "execution_count": 11,
   "metadata": {},
   "outputs": [],
   "source": [
    "class ClusterLM(nn.Module):\n",
    "\n",
    "    def __init__(self,\n",
    "                 initial_centroids: torch.tensor,\n",
    "                 lm_model,\n",
    "                 tokenizer,\n",
    "                 metric=lp_distance,\n",
    "                 embedding_extractor=cls_embedding_extractor,\n",
    "                 do_language_modeling=True,\n",
    "                 device='cpu'\n",
    "                 ):\n",
    "        super(ClusterLM, self).__init__()\n",
    "\n",
    "        self.initial_centroids = initial_centroids\n",
    "\n",
    "        self.add_module('lm_model', lm_model)\n",
    "        self.register_parameter('centroids', nn.Parameter(initial_centroids.clone().float(), requires_grad=True))\n",
    "\n",
    "        self.tokenizer = tokenizer\n",
    "        self.metric = metric\n",
    "        self.embedding_extractor = embedding_extractor\n",
    "        self.do_language_modeling = do_language_modeling\n",
    "        self.device = device\n",
    "\n",
    "        self.to(self.device)\n",
    "\n",
    "    def forward(self, texts, alpha=1.0):\n",
    "        \"\"\"\n",
    "        Input: texts and labels (optional)\n",
    "        Returns: lm_language modelling output, own output dict (clustering_loss, predicted_labels)\n",
    "        \"\"\"\n",
    "        # Language Modeling Part:\n",
    "\n",
    "        lm_outputs = ModelOutput(loss=torch.tensor(0.0, requires_grad=True).to(self.device))\n",
    "\n",
    "        if self.do_language_modeling:\n",
    "            inputs = self.tokenizer(\n",
    "                texts,\n",
    "                return_tensors='pt',\n",
    "                padding=True,\n",
    "                truncation=True)\n",
    "\n",
    "            input_ids = inputs['input_ids'].clone()\n",
    "            input_ids, true_ids = mask_tokens(input_ids, self.tokenizer)\n",
    "            inputs['input_ids'] = input_ids\n",
    "\n",
    "            inputs = inputs.to(self.device)\n",
    "            true_ids = true_ids.to(self.device)\n",
    "            lm_outputs = self.lm_model(labels=true_ids, **inputs)\n",
    "\n",
    "        # Clustering Part:\n",
    "        inputs = self.tokenizer(\n",
    "            texts,\n",
    "            return_tensors='pt',\n",
    "            padding=True,\n",
    "            truncation=True)\n",
    "\n",
    "        inputs.to(self.device)\n",
    "\n",
    "        # 0. Obtain embeddings for each input\n",
    "        input_embeddings = self.embedding_extractor(self.lm_model.base_model(**inputs))\n",
    "        #input_embeddings = input_embeddings / torch.norm(input_embeddings, dim=0)\n",
    "        \n",
    "        # 1. Compute distances from each input embedding to each centroids\n",
    "        distances = torch.stack([self.metric(embedding.unsqueeze(0), self.centroids) for embedding in input_embeddings])\n",
    "        nearest_centroids = torch.argmin(distances.cpu().clone().detach(), dim=1)\n",
    "        distances = torch.transpose(distances, 0, 1)  # => shape (n_centroids, n_samples)\n",
    "\n",
    "        # 2. Compute the paramterized softmin for each centroid of each distance to each centroid per input sample\n",
    "        # Find min distances for each centroid\n",
    "        min_distances = torch.min(distances, dim=1).values\n",
    "        # Compute exponetials\n",
    "        exponentials = torch.exp(- alpha * (distances - min_distances.unsqueeze(1)))\n",
    "        # Compute softmin\n",
    "        softmin = exponentials / torch.sum(exponentials, dim=1).unsqueeze(1)\n",
    "\n",
    "        # 3. Weight the distance between each sample and each centroid\n",
    "        weighted_distances = distances * softmin\n",
    "\n",
    "        # 4. Sum over weighted_distances to obtain loss\n",
    "        clustering_loss = weighted_distances.sum(dim=1).mean()\n",
    "\n",
    "        # Create clustering output dictionary\n",
    "        cluster_outputs = ClusterOutput(\n",
    "            loss=clustering_loss,\n",
    "            predicted_labels=nearest_centroids.long(),\n",
    "            embeddings=input_embeddings.cpu().detach()\n",
    "        )\n",
    "\n",
    "        return lm_outputs, cluster_outputs\n"
   ]
  },
  {
   "cell_type": "code",
   "execution_count": 12,
   "metadata": {},
   "outputs": [],
   "source": [
    "def init_model(\n",
    "    lm_model,\n",
    "    tokenizer,\n",
    "    data_loader,\n",
    "    n_clusters,\n",
    "    embedding_extractor=concat_cls_n_hidden_states,\n",
    "    device='cpu',\n",
    "    random_state=np.random.RandomState(42),\n",
    "    **kwargs,\n",
    "):\n",
    "    \n",
    "    initial_embeddings = []\n",
    "    for batch_texts, _ in data_loader:\n",
    "        inputs = tokenizer(list(batch_texts), return_tensors='pt', padding=True, truncation=True)\n",
    "        inputs = inputs.to(device)\n",
    "        with torch.no_grad():\n",
    "            outputs = lm_model.base_model(**inputs)\n",
    "        extracted_embeddings = embedding_extractor(outputs).cpu().detach().numpy()\n",
    "        initial_embeddings.append(extracted_embeddings)\n",
    "        \n",
    "    initial_embeddings = np.vstack(initial_embeddings)\n",
    "    \n",
    "    \n",
    "    initial_centroids = _k_init(\n",
    "        initial_embeddings,\n",
    "        n_clusters=np.unique(labels).shape[0],\n",
    "        x_squared_norms=row_norms(initial_embeddings, squared=True),\n",
    "        random_state=np.random.RandomState(42)\n",
    "    )\n",
    "    \n",
    "    model = ClusterLM(\n",
    "        lm_model=lm_model,\n",
    "        tokenizer=tokenizer,\n",
    "        embedding_extractor=embedding_extractor,\n",
    "        initial_centroids=torch.from_numpy(initial_centroids),\n",
    "        device=device,\n",
    "        **kwargs\n",
    "    )\n",
    "    \n",
    "    return model, initial_centroids, initial_embeddings"
   ]
  },
  {
   "cell_type": "code",
   "execution_count": 13,
   "metadata": {},
   "outputs": [],
   "source": [
    "def evaluate(model, eval_data_loader, verbose=True):\n",
    "    model.eval()\n",
    "    true_labels = []\n",
    "    predicted_labels = []\n",
    "    eval_data_it = tqdm(eval_data_loader, desc='Eval') if verbose else eval_data_loader\n",
    "    for batch_texts, batch_labels in eval_data_it:\n",
    "        true_labels.extend(batch_labels.numpy().astype('int'))\n",
    "        with torch.no_grad():\n",
    "            _, cluster_outputs = model(texts=list(batch_texts))\n",
    "        predicted_labels.extend(cluster_outputs.predicted_labels.numpy().astype('int'))\n",
    "    \n",
    "    return np.array(predicted_labels), np.array(true_labels)"
   ]
  },
  {
   "cell_type": "code",
   "execution_count": 14,
   "metadata": {},
   "outputs": [],
   "source": [
    "@dataclass\n",
    "class TrainHistory:\n",
    "    clustering_losses: List[float] \n",
    "    lm_losses: List[float]\n",
    "    combined_losses: List[float]\n",
    "    prediction_history: List[np.array]\n",
    "    eval_hist: List[Dict[str, float]]\n",
    "    "
   ]
  },
  {
   "cell_type": "code",
   "execution_count": 15,
   "metadata": {},
   "outputs": [],
   "source": [
    "def train(\n",
    "    n_epochs,\n",
    "    model,\n",
    "    optimizer,\n",
    "    scheduler,\n",
    "    annealing_alphas,\n",
    "    train_data_loader,\n",
    "    eval_data_loader=None,\n",
    "    do_eval=True,\n",
    "    clustering_loss_weight=0.5,\n",
    "    metrics=(cluster_accuracy, adjusted_rand_score, normalized_mutual_info_score),\n",
    "    verbose=True\n",
    "):\n",
    "    \n",
    "    total_clustering_losses = []\n",
    "    total_lm_losses = []\n",
    "    total_combined_losses = []\n",
    "    prediction_history = []\n",
    "    eval_hist = []\n",
    "    \n",
    "    assert len(annealing_alphas) >= n_epochs\n",
    "    for epoch, alpha in zip(range(n_epochs), annealing_alphas):\n",
    "        model.train()\n",
    "        train_data_it = tqdm(train_data_loader, desc='Train') if verbose else train_data_loader\n",
    "        for batch_texts, _ in train_data_it:\n",
    "            lm_outputs, cluster_outputs = model(texts=list(batch_texts), alpha=alpha)\n",
    "            combined_loss = ((1- clustering_loss_weight) * lm_outputs.loss) + (clustering_loss_weight * cluster_outputs.loss)\n",
    "            \n",
    "        \n",
    "            optimizer.zero_grad()\n",
    "            combined_loss.backward()\n",
    "            optimizer.step()\n",
    "            scheduler.step()\n",
    "            \n",
    "            total_clustering_losses.append(cluster_outputs.loss.item())\n",
    "            total_lm_losses.append(lm_outputs.loss.item())\n",
    "            total_combined_losses.append(combined_loss.item())\n",
    "            \n",
    "            if verbose:\n",
    "                train_data_it.set_description(\n",
    "                    f'Epoch: {epoch} | CombLoss: {combined_loss.item()} |LMLoss: {lm_outputs.loss.item()} | ' \\\n",
    "                    f' ClusterLoss: {cluster_outputs.loss.item()} | LR: {scheduler.get_last_lr()[0]} | Alpha: {alpha}'\n",
    "                )\n",
    "            \n",
    "            \n",
    "        if do_eval:\n",
    "            if eval_data_loader is None:\n",
    "                eval_data_loader = train_data_it if not verbose else train_data_it.iterable\n",
    "            \n",
    "            predicted_labels, true_labels = evaluate(\n",
    "                model=model,\n",
    "                eval_data_loader=eval_data_loader,\n",
    "                verbose=verbose)\n",
    "            \n",
    "            prediction_history.append(deepcopy(predicted_labels))\n",
    "            \n",
    "            m = {}\n",
    "            for metric in metrics:\n",
    "                value = metric(true_labels, predicted_labels)\n",
    "                m[metric.__name__] = value\n",
    "                print(f'{metric.__name__}: {value}')\n",
    "            eval_hist.append(m)\n",
    "    \n",
    "    train_history = TrainHistory(\n",
    "        clustering_losses=total_clustering_losses,\n",
    "        lm_losses=total_lm_losses,\n",
    "        combined_losses=total_combined_losses,\n",
    "        prediction_history=prediction_history,\n",
    "        eval_hist=eval_hist\n",
    "    )\n",
    "    return train_history    "
   ]
  },
  {
   "cell_type": "code",
   "execution_count": 16,
   "metadata": {},
   "outputs": [],
   "source": [
    "#def train(\n",
    "#    n_epochs,\n",
    "#    model,\n",
    "#    optimizer,\n",
    "#    scheduler,\n",
    "#    annealing_alphas,\n",
    "#    train_data_loader,\n",
    "#    eval_data_loader=None,\n",
    "#    do_eval=True,\n",
    "#    clustering_loss_weight=0.5,\n",
    "#    metrics=(cluster_accuracy, adjusted_rand_score, normalized_mutual_info_score),\n",
    "#    verbose=True\n",
    "#):\n",
    "#    \n",
    "#    total_clustering_losses = []\n",
    "#    total_lm_losses = []\n",
    "#    total_combined_losses = []\n",
    "#    prediction_history = []\n",
    "#    eval_hist = []\n",
    "#    \n",
    "#    assert len(annealing_alphas) >= n_epochs\n",
    "#    for epoch, alpha in zip(range(n_epochs), annealing_alphas):\n",
    "#        model.train()\n",
    "#        train_data_it = tqdm(train_data_loader, desc='Train') if verbose else train_data_loader\n",
    "#        for batch_idx, (batch_texts, _) in enumerate(train_data_it):\n",
    "#            lm_outputs, cluster_outputs = model(texts=list(batch_texts), alpha=alpha)\n",
    "#            #combined_loss = lm_outputs.loss + (clustering_loss_weight * cluster_outputs.loss)\n",
    "#            combined_loss = ((1- clustering_loss_weight) * lm_outputs.loss) + (clustering_loss_weight * cluster_outputs.loss)\n",
    "#            \n",
    "#            combined_loss = combined_loss / 16\n",
    "#            combined_loss.backward()\n",
    "#            \n",
    "#            if (batch_idx+1) % 16 == 0:\n",
    "#                optimizer.step()\n",
    "#                optimizer.zero_grad()\n",
    "#                scheduler.step()\n",
    "#            \n",
    "#            total_clustering_losses.append(cluster_outputs.loss.item())\n",
    "#            total_lm_losses.append(lm_outputs.loss.item())\n",
    "#            total_combined_losses.append(combined_loss.item())\n",
    "#            \n",
    "#            if verbose:\n",
    "#                train_data_it.set_description(\n",
    "#                    f'Epoch: {epoch} | CombLoss: {combined_loss.item()} |LMLoss: {lm_outputs.loss.item()} | ' \\\n",
    "#                    f' ClusterLoss: {cluster_outputs.loss.item()} | LR: {scheduler.get_last_lr()[0]} | Alpha: {alpha}'\n",
    "#                )\n",
    "#            \n",
    "#            \n",
    "#        if do_eval:\n",
    "#            if eval_data_loader is None:\n",
    "#                eval_data_loader = train_data_it if not verbose else train_data_it.iterable\n",
    "#            \n",
    "#            predicted_labels, true_labels = evaluate(\n",
    "#                model=model,\n",
    "#                eval_data_loader=eval_data_loader,\n",
    "#                verbose=verbose)\n",
    "#            \n",
    "#            prediction_history.append(deepcopy(predicted_labels))\n",
    "#            \n",
    "#            m = {}\n",
    "#            for metric in metrics:\n",
    "#                value = metric(true_labels, predicted_labels)\n",
    "#                m[metric.__name__] = value\n",
    "#                print(f'{metric.__name__}: {value}')\n",
    "#            eval_hist.append(m)\n",
    "#    \n",
    "#    train_history = TrainHistory(\n",
    "#        clustering_losses=total_clustering_losses,\n",
    "#        lm_losses=total_lm_losses,\n",
    "#        combined_losses=total_combined_losses,\n",
    "#        prediction_history=prediction_history,\n",
    "#        eval_hist=eval_hist\n",
    "#    )\n",
    "#    return train_history    "
   ]
  },
  {
   "cell_type": "code",
   "execution_count": 17,
   "metadata": {},
   "outputs": [],
   "source": [
    "RANDOM_SEED = 42\n",
    "\n",
    "np.random.seed(RANDOM_SEED)\n",
    "torch.manual_seed(RANDOM_SEED)\n",
    "torch.cuda.manual_seed_all(RANDOM_SEED)"
   ]
  },
  {
   "cell_type": "code",
   "execution_count": 18,
   "metadata": {
    "tags": []
   },
   "outputs": [],
   "source": [
    "# Test params \n",
    "from functools import partial\n",
    "N_EPOCHS = 8\n",
    "DEVICE = 'cuda:0'\n",
    "\n",
    "EMBEDDING_EXTRACTOR = partial(concat_mean_n_hidden_states, n=2)"
   ]
  },
  {
   "cell_type": "code",
   "execution_count": 19,
   "metadata": {},
   "outputs": [],
   "source": [
    "import nltk\n",
    "\n",
    "data = fetch_20newsgroups(\n",
    "    categories=['comp.graphics', 'talk.religion.misc', 'rec.autos', 'misc.forsale'],\n",
    "    remove=('headers', 'footers', 'quotes'),\n",
    "    shuffle=True,\n",
    "    random_state=42\n",
    ")\n",
    "\n",
    "orig_texts = np.array(data.data)\n",
    "orig_labels = np.array(data.target)\n",
    "\n",
    "#to_remove = set(\"#<>-|\")\n",
    "#orig_texts = [\"\".join([char for char in text if char not in to_remove]) for text in orig_texts]\n",
    "\n",
    "texts, labels = [], []\n",
    "for text, label in zip(orig_texts, orig_labels):\n",
    "    sents = nltk.sent_tokenize(text)\n",
    "    for sent in sents:\n",
    "        texts.append(sent)\n",
    "        labels.append(label)"
   ]
  },
  {
   "cell_type": "code",
   "execution_count": 20,
   "metadata": {},
   "outputs": [],
   "source": [
    "import pandas as pd\n",
    "df = pd.read_csv('datasets/ag_news_subset5/ag_news_subset5.csv')\n",
    "texts, labels = df.texts.to_numpy(), df.labels.to_numpy()"
   ]
  },
  {
   "cell_type": "code",
   "execution_count": 21,
   "metadata": {},
   "outputs": [],
   "source": [
    "#df = pd.read_excel('/home/keller/Uni/Job/Avato/Textcat_Workshop/tagged_comments_anonym_200923.xlsx', engine='openpyxl')\n",
    "#df = df.dropna(subset=['Sentence', 'Class'])\n",
    "#df = df.query('Class != \"???\" and Class != \"An\"')\n",
    "#texts, labels = df.Sentence.to_numpy(), df.Class.to_numpy()\n",
    "#from sklearn.preprocessing import LabelEncoder\n",
    "#le = LabelEncoder()\n",
    "#labels = le.fit_transform(labels)"
   ]
  },
  {
   "cell_type": "code",
   "execution_count": 22,
   "metadata": {},
   "outputs": [],
   "source": [
    "from sklearn.model_selection import train_test_split\n",
    "\n",
    "#texts, _, labels, _ = train_test_split(texts, labels, stratify=labels, test_size=0.8, random_state=42)"
   ]
  },
  {
   "cell_type": "code",
   "execution_count": 23,
   "metadata": {},
   "outputs": [
    {
     "data": {
      "text/plain": [
       "(6380, 6380)"
      ]
     },
     "execution_count": 23,
     "metadata": {},
     "output_type": "execute_result"
    }
   ],
   "source": [
    "len(texts), len(labels)"
   ]
  },
  {
   "cell_type": "code",
   "execution_count": 24,
   "metadata": {},
   "outputs": [],
   "source": [
    "data = TextDataset(texts, labels)\n",
    "data_loader = DataLoader(dataset=data, batch_size=8, shuffle=False) # batch size bigger => results better\n",
    "# 16 for distilbert | 8 for bert-base"
   ]
  },
  {
   "cell_type": "code",
   "execution_count": 25,
   "metadata": {},
   "outputs": [
    {
     "data": {
      "text/plain": [
       "DistilBertForMaskedLM(\n",
       "  (distilbert): DistilBertModel(\n",
       "    (embeddings): Embeddings(\n",
       "      (word_embeddings): Embedding(30522, 768, padding_idx=0)\n",
       "      (position_embeddings): Embedding(512, 768)\n",
       "      (LayerNorm): LayerNorm((768,), eps=1e-12, elementwise_affine=True)\n",
       "      (dropout): Dropout(p=0.1, inplace=False)\n",
       "    )\n",
       "    (transformer): Transformer(\n",
       "      (layer): ModuleList(\n",
       "        (0): TransformerBlock(\n",
       "          (attention): MultiHeadSelfAttention(\n",
       "            (dropout): Dropout(p=0.1, inplace=False)\n",
       "            (q_lin): Linear(in_features=768, out_features=768, bias=True)\n",
       "            (k_lin): Linear(in_features=768, out_features=768, bias=True)\n",
       "            (v_lin): Linear(in_features=768, out_features=768, bias=True)\n",
       "            (out_lin): Linear(in_features=768, out_features=768, bias=True)\n",
       "          )\n",
       "          (sa_layer_norm): LayerNorm((768,), eps=1e-12, elementwise_affine=True)\n",
       "          (ffn): FFN(\n",
       "            (dropout): Dropout(p=0.1, inplace=False)\n",
       "            (lin1): Linear(in_features=768, out_features=3072, bias=True)\n",
       "            (lin2): Linear(in_features=3072, out_features=768, bias=True)\n",
       "          )\n",
       "          (output_layer_norm): LayerNorm((768,), eps=1e-12, elementwise_affine=True)\n",
       "        )\n",
       "        (1): TransformerBlock(\n",
       "          (attention): MultiHeadSelfAttention(\n",
       "            (dropout): Dropout(p=0.1, inplace=False)\n",
       "            (q_lin): Linear(in_features=768, out_features=768, bias=True)\n",
       "            (k_lin): Linear(in_features=768, out_features=768, bias=True)\n",
       "            (v_lin): Linear(in_features=768, out_features=768, bias=True)\n",
       "            (out_lin): Linear(in_features=768, out_features=768, bias=True)\n",
       "          )\n",
       "          (sa_layer_norm): LayerNorm((768,), eps=1e-12, elementwise_affine=True)\n",
       "          (ffn): FFN(\n",
       "            (dropout): Dropout(p=0.1, inplace=False)\n",
       "            (lin1): Linear(in_features=768, out_features=3072, bias=True)\n",
       "            (lin2): Linear(in_features=3072, out_features=768, bias=True)\n",
       "          )\n",
       "          (output_layer_norm): LayerNorm((768,), eps=1e-12, elementwise_affine=True)\n",
       "        )\n",
       "        (2): TransformerBlock(\n",
       "          (attention): MultiHeadSelfAttention(\n",
       "            (dropout): Dropout(p=0.1, inplace=False)\n",
       "            (q_lin): Linear(in_features=768, out_features=768, bias=True)\n",
       "            (k_lin): Linear(in_features=768, out_features=768, bias=True)\n",
       "            (v_lin): Linear(in_features=768, out_features=768, bias=True)\n",
       "            (out_lin): Linear(in_features=768, out_features=768, bias=True)\n",
       "          )\n",
       "          (sa_layer_norm): LayerNorm((768,), eps=1e-12, elementwise_affine=True)\n",
       "          (ffn): FFN(\n",
       "            (dropout): Dropout(p=0.1, inplace=False)\n",
       "            (lin1): Linear(in_features=768, out_features=3072, bias=True)\n",
       "            (lin2): Linear(in_features=3072, out_features=768, bias=True)\n",
       "          )\n",
       "          (output_layer_norm): LayerNorm((768,), eps=1e-12, elementwise_affine=True)\n",
       "        )\n",
       "        (3): TransformerBlock(\n",
       "          (attention): MultiHeadSelfAttention(\n",
       "            (dropout): Dropout(p=0.1, inplace=False)\n",
       "            (q_lin): Linear(in_features=768, out_features=768, bias=True)\n",
       "            (k_lin): Linear(in_features=768, out_features=768, bias=True)\n",
       "            (v_lin): Linear(in_features=768, out_features=768, bias=True)\n",
       "            (out_lin): Linear(in_features=768, out_features=768, bias=True)\n",
       "          )\n",
       "          (sa_layer_norm): LayerNorm((768,), eps=1e-12, elementwise_affine=True)\n",
       "          (ffn): FFN(\n",
       "            (dropout): Dropout(p=0.1, inplace=False)\n",
       "            (lin1): Linear(in_features=768, out_features=3072, bias=True)\n",
       "            (lin2): Linear(in_features=3072, out_features=768, bias=True)\n",
       "          )\n",
       "          (output_layer_norm): LayerNorm((768,), eps=1e-12, elementwise_affine=True)\n",
       "        )\n",
       "        (4): TransformerBlock(\n",
       "          (attention): MultiHeadSelfAttention(\n",
       "            (dropout): Dropout(p=0.1, inplace=False)\n",
       "            (q_lin): Linear(in_features=768, out_features=768, bias=True)\n",
       "            (k_lin): Linear(in_features=768, out_features=768, bias=True)\n",
       "            (v_lin): Linear(in_features=768, out_features=768, bias=True)\n",
       "            (out_lin): Linear(in_features=768, out_features=768, bias=True)\n",
       "          )\n",
       "          (sa_layer_norm): LayerNorm((768,), eps=1e-12, elementwise_affine=True)\n",
       "          (ffn): FFN(\n",
       "            (dropout): Dropout(p=0.1, inplace=False)\n",
       "            (lin1): Linear(in_features=768, out_features=3072, bias=True)\n",
       "            (lin2): Linear(in_features=3072, out_features=768, bias=True)\n",
       "          )\n",
       "          (output_layer_norm): LayerNorm((768,), eps=1e-12, elementwise_affine=True)\n",
       "        )\n",
       "        (5): TransformerBlock(\n",
       "          (attention): MultiHeadSelfAttention(\n",
       "            (dropout): Dropout(p=0.1, inplace=False)\n",
       "            (q_lin): Linear(in_features=768, out_features=768, bias=True)\n",
       "            (k_lin): Linear(in_features=768, out_features=768, bias=True)\n",
       "            (v_lin): Linear(in_features=768, out_features=768, bias=True)\n",
       "            (out_lin): Linear(in_features=768, out_features=768, bias=True)\n",
       "          )\n",
       "          (sa_layer_norm): LayerNorm((768,), eps=1e-12, elementwise_affine=True)\n",
       "          (ffn): FFN(\n",
       "            (dropout): Dropout(p=0.1, inplace=False)\n",
       "            (lin1): Linear(in_features=768, out_features=3072, bias=True)\n",
       "            (lin2): Linear(in_features=3072, out_features=768, bias=True)\n",
       "          )\n",
       "          (output_layer_norm): LayerNorm((768,), eps=1e-12, elementwise_affine=True)\n",
       "        )\n",
       "      )\n",
       "    )\n",
       "  )\n",
       "  (vocab_transform): Linear(in_features=768, out_features=768, bias=True)\n",
       "  (vocab_layer_norm): LayerNorm((768,), eps=1e-12, elementwise_affine=True)\n",
       "  (vocab_projector): Linear(in_features=768, out_features=30522, bias=True)\n",
       "  (mlm_loss_fct): CrossEntropyLoss()\n",
       ")"
      ]
     },
     "execution_count": 25,
     "metadata": {},
     "output_type": "execute_result"
    }
   ],
   "source": [
    "from transformers import DistilBertTokenizer, DistilBertForMaskedLM\n",
    "from transformers import ElectraTokenizer, ElectraForMaskedLM\n",
    "from transformers import AutoTokenizer, AutoModelForMaskedLM\n",
    "from transformers import BertTokenizer, BertForMaskedLM\n",
    "from transformers import RobertaTokenizer, RobertaForMaskedLM\n",
    "from transformers import XLNetTokenizer, XLNetLMHeadModel\n",
    "\n",
    "import torch\n",
    "\n",
    "tokenizer = DistilBertTokenizer.from_pretrained('distilbert-base-uncased', return_dict=True, output_hidden_states=True)\n",
    "lm_model = DistilBertForMaskedLM.from_pretrained('distilbert-base-uncased', return_dict=True, output_hidden_states=True)\n",
    "\n",
    "#tokenizer = BertTokenizer.from_pretrained('bert-base-uncased', return_dict=True, output_hidden_states=True)\n",
    "#lm_model = BertForMaskedLM.from_pretrained('bert-base-uncased', return_dict=True, output_hidden_states=True)\n",
    "\n",
    "#tokenizer = BertTokenizer.from_pretrained('bert-large-uncased', return_dict=True, output_hidden_states=True)\n",
    "#lm_model = BertForMaskedLM.from_pretrained('bert-large-uncased', return_dict=True, output_hidden_states=True)\n",
    "\n",
    "#tokenizer = RobertaTokenizer.from_pretrained('roberta-base', return_dict=True, output_hidden_states=True)\n",
    "#lm_model = RobertaForMaskedLM.from_pretrained('roberta-base', return_dict=True, output_hidden_states=True)\n",
    "\n",
    "#tokenizer = ElectraTokenizer.from_pretrained('google/electra-base-discriminator', return_dict=True, output_hidden_states=True)\n",
    "#lm_model = ElectraForMaskedLM.from_pretrained('google/electra-base-discriminator', return_dict=True, output_hidden_states=True)\n",
    "\n",
    "#tokenizer = AutoTokenizer.from_pretrained(\"distilroberta-base\", return_dict=True, output_hidden_states=True)\n",
    "#lm_model = AutoModelForMaskedLM.from_pretrained(\"distilroberta-base\", return_dict=True, output_hidden_states=True)\n",
    "\n",
    "\n",
    "#tokenizer = XLNetTokenizer.from_pretrained(\"xlnet-base-cased\", return_dict=True, output_hidden_states=True)\n",
    "#lm_model = XLNetLMHeadModel.from_pretrained(\"xlnet-base-cased\", return_dict=True, mem_len=1024, output_hidden_states=True)\n",
    "\n",
    "#tokenizer = AutoTokenizer.from_pretrained(\"textattack/distilbert-base-uncased-STS-B\", return_dict=True, output_hidden_states=True)\n",
    "#lm_model = AutoModelForMaskedLM.from_pretrained(\"textattack/distilbert-base-uncased-STS-B\", return_dict=True, output_hidden_states=True)\n",
    "\n",
    "#tokenizer = AutoTokenizer.from_pretrained(\"textattack/bert-base-cased-STS-B\", return_dict=True, output_hidden_states=True)\n",
    "#lm_model = AutoModelForMaskedLM.from_pretrained(\"textattack/bert-base-cased-STS-B\", return_dict=True, output_hidden_states=True)\n",
    "\n",
    "#tokenizer = AutoTokenizer.from_pretrained(\"textattack/bert-base-uncased-ag-news\")\n",
    "#lm_model = AutoModelForMaskedLM.from_pretrained(\"textattack/bert-base-uncased-ag-news\", return_dict=True, output_hidden_states=True)\n",
    "\n",
    "#tokenizer = AutoTokenizer.from_pretrained(\"allenai/news_roberta_base\")\n",
    "#lm_model = AutoModelForMaskedLM.from_pretrained(\"allenai/news_roberta_base\", return_dict=True, output_hidden_states=True)\n",
    "\n",
    "#tokenizer = AutoTokenizer.from_pretrained(\"prajjwal1/bert-small\")\n",
    "#lm_model = AutoModelForMaskedLM.from_pretrained(\"prajjwal1/bert-small\", return_dict=True, output_hidden_states=True)\n",
    "\n",
    "#tokenizer = AutoTokenizer.from_pretrained(\"google/reformer-crime-and-punishment\", return_dict=True, output_hidden_states=True, model_max_length=524288)\n",
    "#lm_model = AutoModelForMaskedLM.from_pretrained(\"google/reformer-crime-and-punishment\", is_decoder=False, return_dict=True, output_hidden_states=True)\n",
    "\n",
    "lm_model.to(DEVICE)"
   ]
  },
  {
   "cell_type": "code",
   "execution_count": 26,
   "metadata": {},
   "outputs": [],
   "source": [
    "constant_value = 1  # specs.embedding_size # Used to modify the range of the alpha scheme\n",
    "alphas = np.zeros(N_EPOCHS, dtype=float)\n",
    "alphas[0] = 0.1\n",
    "for i in range(1, N_EPOCHS):\n",
    "    alphas[i] = (2 ** (1 / (np.log(i + 1)) ** 2)) * alphas[i - 1]\n",
    "annealing_alphas = alphas / constant_value\n",
    "\n",
    "annealing_alphas = np.ones(N_EPOCHS) * 1000.0\n",
    "#annealing_alphas = np.arange(1, N_EPOCHS+1).astype('float')\n",
    "#\n",
    "#annealing_alphas = [i**2 for i in range(1, N_EPOCHS//2+1)] + [1000.0]*(N_EPOCHS//2)\n",
    "#\n",
    "#annealing_alphas = np.arange(1, N_EPOCHS+1).astype('float')**2"
   ]
  },
  {
   "cell_type": "code",
   "execution_count": 27,
   "metadata": {},
   "outputs": [
    {
     "name": "stdout",
     "output_type": "stream",
     "text": [
      "[1000. 1000. 1000. 1000. 1000. 1000. 1000. 1000.]\n"
     ]
    }
   ],
   "source": [
    "print(annealing_alphas)"
   ]
  },
  {
   "cell_type": "code",
   "execution_count": 28,
   "metadata": {},
   "outputs": [],
   "source": [
    "model, initial_centroids, initial_embeddings = init_model(\n",
    "    lm_model=lm_model,\n",
    "    tokenizer=tokenizer,\n",
    "    data_loader=data_loader,\n",
    "    embedding_extractor=EMBEDDING_EXTRACTOR,\n",
    "    n_clusters=np.unique(labels).shape[0],\n",
    "    device=DEVICE,\n",
    "    #metric=cosine_distance\n",
    ")"
   ]
  },
  {
   "cell_type": "code",
   "execution_count": 29,
   "metadata": {},
   "outputs": [],
   "source": [
    "from tqdm import tqdm\n",
    "import numpy as np\n",
    "from transformers import (\n",
    "    get_linear_schedule_with_warmup,\n",
    "    get_constant_schedule_with_warmup,\n",
    "    get_cosine_schedule_with_warmup,\n",
    "    get_cosine_with_hard_restarts_schedule_with_warmup\n",
    ")\n",
    "\n",
    "# RMSprop\n",
    "# or Adam(W)???\n",
    "opt = torch.optim.RMSprop(\n",
    "    params=model.parameters(),\n",
    "    lr=2e-5, #2e-5, 5e-7, \n",
    "    eps=1e-8,\n",
    "    weight_decay=1e-5\n",
    ")\n",
    "\n",
    "total_steps = len(data_loader) * N_EPOCHS\n",
    "\n",
    "#scheduler = get_cosine_with_hard_restarts_schedule_with_warmup(\n",
    "#    optimizer=opt,\n",
    "#    num_warmup_steps=int(len(data_loader)*0.5),\n",
    "#    num_training_steps=total_steps,\n",
    "#    num_cycles=N_EPOCHS//2\n",
    "#)\n",
    "\n",
    "scheduler = get_linear_schedule_with_warmup(\n",
    "    optimizer=opt,\n",
    "    num_warmup_steps=int(len(data_loader)*0.5),\n",
    "    num_training_steps=total_steps\n",
    ")\n"
   ]
  },
  {
   "cell_type": "code",
   "execution_count": 30,
   "metadata": {},
   "outputs": [
    {
     "name": "stderr",
     "output_type": "stream",
     "text": [
      "Epoch: 0 | CombLoss: 4.6763410568237305 |LMLoss: 6.2809858322143555 |  ClusterLoss: 4.6763410568237305 | LR: 1.866666666666667e-05 | Alpha: 1000.0: 100%|██████████| 798/798 [01:13<00:00, 10.88it/s] \n",
      "Eval: 100%|██████████| 798/798 [00:25<00:00, 31.09it/s]\n",
      "Epoch: 1 | CombLoss: 2.178640365600586 |LMLoss: 7.484373569488525 |  ClusterLoss: 2.178640365600586 | LR: 1.8663324979114454e-05 | Alpha: 1000.0:   0%|          | 1/798 [00:00<01:39,  8.01it/s]"
     ]
    },
    {
     "name": "stdout",
     "output_type": "stream",
     "text": [
      "cluster_accuracy: ({0: 3, 1: 2, 2: 1, 3: 0}, 0.46551724137931033)\n",
      "adjusted_rand_score: 0.2020917274004834\n",
      "normalized_mutual_info_score: 0.2370312497312415\n"
     ]
    },
    {
     "name": "stderr",
     "output_type": "stream",
     "text": [
      "Epoch: 1 | CombLoss: 3.8264095783233643 |LMLoss: 8.03705883026123 |  ClusterLoss: 3.8264095783233643 | LR: 1.6000000000000003e-05 | Alpha: 1000.0: 100%|██████████| 798/798 [01:13<00:00, 10.92it/s]  \n",
      "Eval: 100%|██████████| 798/798 [00:25<00:00, 31.30it/s]\n",
      "Epoch: 2 | CombLoss: 1.3548798561096191 |LMLoss: 7.5912346839904785 |  ClusterLoss: 1.3548798561096191 | LR: 1.5996658312447788e-05 | Alpha: 1000.0:   0%|          | 1/798 [00:00<01:33,  8.54it/s]"
     ]
    },
    {
     "name": "stdout",
     "output_type": "stream",
     "text": [
      "cluster_accuracy: ({0: 3, 1: 0, 2: 1, 3: 2}, 0.45109717868338556)\n",
      "adjusted_rand_score: 0.18443778433805358\n",
      "normalized_mutual_info_score: 0.19028691540577214\n"
     ]
    },
    {
     "name": "stderr",
     "output_type": "stream",
     "text": [
      "Epoch: 2 | CombLoss: 3.21821665763855 |LMLoss: 8.73885726928711 |  ClusterLoss: 3.21821665763855 | LR: 1.3333333333333333e-05 | Alpha: 1000.0: 100%|██████████| 798/798 [01:16<00:00, 10.43it/s]      \n",
      "Eval: 100%|██████████| 798/798 [00:27<00:00, 29.26it/s]\n",
      "Epoch: 3 | CombLoss: 0.772739589214325 |LMLoss: 9.645251274108887 |  ClusterLoss: 0.772739589214325 | LR: 1.3329991645781119e-05 | Alpha: 1000.0:   0%|          | 1/798 [00:00<01:26,  9.23it/s]"
     ]
    },
    {
     "name": "stdout",
     "output_type": "stream",
     "text": [
      "cluster_accuracy: ({0: 3, 1: 0, 2: 1, 3: 2}, 0.45015673981191223)\n",
      "adjusted_rand_score: 0.18793295540578905\n",
      "normalized_mutual_info_score: 0.20372725802316935\n"
     ]
    },
    {
     "name": "stderr",
     "output_type": "stream",
     "text": [
      "Epoch: 3 | CombLoss: 2.842294931411743 |LMLoss: 8.560929298400879 |  ClusterLoss: 2.842294931411743 | LR: 1.0666666666666667e-05 | Alpha: 1000.0: 100%|██████████| 798/798 [01:14<00:00, 10.65it/s]   \n",
      "Eval: 100%|██████████| 798/798 [00:25<00:00, 31.78it/s]\n",
      "Epoch: 4 | CombLoss: 0.48894909024238586 |LMLoss: 9.525764465332031 |  ClusterLoss: 0.48894909024238586 | LR: 1.0659983291562239e-05 | Alpha: 1000.0:   0%|          | 1/798 [00:00<01:24,  9.46it/s]"
     ]
    },
    {
     "name": "stdout",
     "output_type": "stream",
     "text": [
      "cluster_accuracy: ({0: 3, 1: 2, 2: 1, 3: 0}, 0.44764890282131664)\n",
      "adjusted_rand_score: 0.17225268804134622\n",
      "normalized_mutual_info_score: 0.18740782456255003\n"
     ]
    },
    {
     "name": "stderr",
     "output_type": "stream",
     "text": [
      "Epoch: 4 | CombLoss: 2.761416435241699 |LMLoss: 8.19271469116211 |  ClusterLoss: 2.761416435241699 | LR: 8.000000000000001e-06 | Alpha: 1000.0: 100%|██████████| 798/798 [01:14<00:00, 10.73it/s]      \n",
      "Eval: 100%|██████████| 798/798 [00:24<00:00, 32.80it/s]\n",
      "Epoch: 5 | CombLoss: 0.5115249156951904 |LMLoss: 9.687445640563965 |  ClusterLoss: 0.5115249156951904 | LR: 7.996658312447787e-06 | Alpha: 1000.0:   0%|          | 1/798 [00:00<01:30,  8.79it/s]"
     ]
    },
    {
     "name": "stdout",
     "output_type": "stream",
     "text": [
      "cluster_accuracy: ({0: 3, 1: 2, 2: 1, 3: 0}, 0.4445141065830721)\n",
      "adjusted_rand_score: 0.171814247750592\n",
      "normalized_mutual_info_score: 0.18649858222490395\n"
     ]
    },
    {
     "name": "stderr",
     "output_type": "stream",
     "text": [
      "Epoch: 5 | CombLoss: 2.6695210933685303 |LMLoss: 10.065566062927246 |  ClusterLoss: 2.6695210933685303 | LR: 5.333333333333334e-06 | Alpha: 1000.0: 100%|██████████| 798/798 [01:14<00:00, 10.64it/s]   \n",
      "Eval: 100%|██████████| 798/798 [00:25<00:00, 30.90it/s]\n",
      "Epoch: 6 | CombLoss: 0.5509175062179565 |LMLoss: 9.748733520507812 |  ClusterLoss: 0.5509175062179565 | LR: 5.329991645781119e-06 | Alpha: 1000.0:   0%|          | 1/798 [00:00<01:29,  8.88it/s]"
     ]
    },
    {
     "name": "stdout",
     "output_type": "stream",
     "text": [
      "cluster_accuracy: ({0: 3, 1: 2, 2: 1, 3: 0}, 0.4443573667711599)\n",
      "adjusted_rand_score: 0.17187686959711426\n",
      "normalized_mutual_info_score: 0.18769673618107094\n"
     ]
    },
    {
     "name": "stderr",
     "output_type": "stream",
     "text": [
      "Epoch: 6 | CombLoss: 2.659360408782959 |LMLoss: 9.287376403808594 |  ClusterLoss: 2.659360408782959 | LR: 2.666666666666667e-06 | Alpha: 1000.0: 100%|██████████| 798/798 [01:16<00:00, 10.43it/s]      \n",
      "Eval: 100%|██████████| 798/798 [00:27<00:00, 29.48it/s]\n",
      "Epoch: 7 | CombLoss: 0.4357689619064331 |LMLoss: 11.303024291992188 |  ClusterLoss: 0.4357689619064331 | LR: 2.663324979114453e-06 | Alpha: 1000.0:   0%|          | 1/798 [00:00<01:37,  8.20it/s]"
     ]
    },
    {
     "name": "stdout",
     "output_type": "stream",
     "text": [
      "cluster_accuracy: ({0: 3, 1: 2, 2: 1, 3: 0}, 0.4426332288401254)\n",
      "adjusted_rand_score: 0.17467052457576207\n",
      "normalized_mutual_info_score: 0.18820608840528966\n"
     ]
    },
    {
     "name": "stderr",
     "output_type": "stream",
     "text": [
      "Epoch: 7 | CombLoss: 2.709764242172241 |LMLoss: 8.615718841552734 |  ClusterLoss: 2.709764242172241 | LR: 0.0 | Alpha: 1000.0: 100%|██████████| 798/798 [01:15<00:00, 10.58it/s]                        \n",
      "Eval: 100%|██████████| 798/798 [00:24<00:00, 32.37it/s]"
     ]
    },
    {
     "name": "stdout",
     "output_type": "stream",
     "text": [
      "cluster_accuracy: ({0: 3, 1: 2, 2: 1, 3: 0}, 0.44404388714733545)\n",
      "adjusted_rand_score: 0.1748532650581352\n",
      "normalized_mutual_info_score: 0.18897543916643403\n"
     ]
    },
    {
     "name": "stderr",
     "output_type": "stream",
     "text": [
      "\n"
     ]
    }
   ],
   "source": [
    "hist = train(\n",
    "    n_epochs=N_EPOCHS,\n",
    "    model=model,\n",
    "    optimizer=opt,\n",
    "    scheduler=scheduler,\n",
    "    annealing_alphas=annealing_alphas,\n",
    "    train_data_loader=data_loader,\n",
    "    clustering_loss_weight=1.0,\n",
    "    verbose=True\n",
    ")"
   ]
  },
  {
   "cell_type": "code",
   "execution_count": null,
   "metadata": {},
   "outputs": [],
   "source": []
  },
  {
   "cell_type": "code",
   "execution_count": 31,
   "metadata": {},
   "outputs": [
    {
     "data": {
      "image/png": "[encoded data removed]",
      "text/plain": [
       "<Figure size 432x288 with 1 Axes>"
      ]
     },
     "metadata": {
      "needs_background": "light"
     },
     "output_type": "display_data"
    }
   ],
   "source": [
    "plt.plot(hist.clustering_losses)\n",
    "plt.show()"
   ]
  },
  {
   "cell_type": "code",
   "execution_count": 32,
   "metadata": {},
   "outputs": [
    {
     "data": {
      "image/png": "[encoded data removed]",
      "text/plain": [
       "<Figure size 432x288 with 1 Axes>"
      ]
     },
     "metadata": {
      "needs_background": "light"
     },
     "output_type": "display_data"
    }
   ],
   "source": [
    "plt.plot(hist.combined_losses)\n",
    "plt.show()"
   ]
  },
  {
   "cell_type": "code",
   "execution_count": 33,
   "metadata": {},
   "outputs": [
    {
     "data": {
      "text/plain": [
       "[{0: 3, 1: 2, 2: 1, 3: 0},\n",
       " {0: 3, 1: 0, 2: 1, 3: 2},\n",
       " {0: 3, 1: 0, 2: 1, 3: 2},\n",
       " {0: 3, 1: 2, 2: 1, 3: 0},\n",
       " {0: 3, 1: 2, 2: 1, 3: 0},\n",
       " {0: 3, 1: 2, 2: 1, 3: 0},\n",
       " {0: 3, 1: 2, 2: 1, 3: 0},\n",
       " {0: 3, 1: 2, 2: 1, 3: 0}]"
      ]
     },
     "execution_count": 33,
     "metadata": {},
     "output_type": "execute_result"
    }
   ],
   "source": [
    "[i['cluster_accuracy'][0] for i in hist.eval_hist]"
   ]
  },
  {
   "cell_type": "code",
   "execution_count": 34,
   "metadata": {},
   "outputs": [
    {
     "data": {
      "image/png": "[encoded data removed]",
      "text/plain": [
       "<Figure size 432x288 with 1 Axes>"
      ]
     },
     "metadata": {
      "needs_background": "light"
     },
     "output_type": "display_data"
    }
   ],
   "source": [
    "plt.plot([i['normalized_mutual_info_score'] for i in hist.eval_hist])\n",
    "plt.show()"
   ]
  },
  {
   "cell_type": "code",
   "execution_count": 35,
   "metadata": {},
   "outputs": [
    {
     "data": {
      "image/png": "[encoded data removed]",
      "text/plain": [
       "<Figure size 432x288 with 1 Axes>"
      ]
     },
     "metadata": {
      "needs_background": "light"
     },
     "output_type": "display_data"
    }
   ],
   "source": [
    "plt.plot([i['cluster_accuracy'][1] for i in hist.eval_hist])\n",
    "plt.show()"
   ]
  },
  {
   "cell_type": "code",
   "execution_count": 36,
   "metadata": {},
   "outputs": [],
   "source": [
    "import pickle\n",
    "with open('train_results_test.h', 'wb') as f:\n",
    "    pickle.dump(hist, file=f)"
   ]
  },
  {
   "cell_type": "code",
   "execution_count": 37,
   "metadata": {},
   "outputs": [
    {
     "ename": "AttributeError",
     "evalue": "'functools.partial' object has no attribute 'linear'",
     "output_type": "error",
     "traceback": [
      "\u001b[0;31m---------------------------------------------------------------------------\u001b[0m",
      "\u001b[0;31mAttributeError\u001b[0m                            Traceback (most recent call last)",
      "\u001b[0;32m<ipython-input-37-ee1cdb3ea9c2>\u001b[0m in \u001b[0;36m<module>\u001b[0;34m\u001b[0m\n\u001b[0;32m----> 1\u001b[0;31m \u001b[0mlist\u001b[0m\u001b[0;34m(\u001b[0m\u001b[0mEMBEDDING_EXTRACTOR\u001b[0m\u001b[0;34m.\u001b[0m\u001b[0mlinear\u001b[0m\u001b[0;34m.\u001b[0m\u001b[0mparameters\u001b[0m\u001b[0;34m(\u001b[0m\u001b[0;34m)\u001b[0m\u001b[0;34m)\u001b[0m\u001b[0;34m\u001b[0m\u001b[0;34m\u001b[0m\u001b[0m\n\u001b[0m",
      "\u001b[0;31mAttributeError\u001b[0m: 'functools.partial' object has no attribute 'linear'"
     ]
    }
   ],
   "source": [
    "list(EMBEDDING_EXTRACTOR.linear.parameters())"
   ]
  }
 ],
 "metadata": {
  "kernelspec": {
   "display_name": "Python 3",
   "language": "python",
   "name": "python3"
  },
  "language_info": {
   "codemirror_mode": {
    "name": "ipython",
    "version": 3
   },
   "file_extension": ".py",
   "mimetype": "text/x-python",
   "name": "python",
   "nbconvert_exporter": "python",
   "pygments_lexer": "ipython3",
   "version": "3.8.5"
  }
 },
 "nbformat": 4,
 "nbformat_minor": 4
}
