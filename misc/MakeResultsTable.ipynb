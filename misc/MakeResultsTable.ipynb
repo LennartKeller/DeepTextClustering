{
 "cells": [
  {
   "cell_type": "code",
   "execution_count": 1,
   "metadata": {},
   "outputs": [],
   "source": [
    "import pandas as pd"
   ]
  },
  {
   "cell_type": "code",
   "execution_count": 2,
   "metadata": {},
   "outputs": [],
   "source": [
    "ag_news_subset5_distilbert = pd.read_csv('../results/ag_news_subset5-distilbert/2021-03-25_11:17:44/ag_news_subset5-distilbert.csv')\n",
    "ag_news_subset5_bert = pd.read_csv('../results/ag_news_subset5-bert-base/2021-03-25_11:27:11/ag_news_subset5-bert-base.csv')\n",
    "ag_news_subset5_kmeans = pd.read_csv('../results/ag_news_subset5-kmeans/2021-03-26_13:06:57/ag_news_subset5-kmeans.csv')"
   ]
  },
  {
   "cell_type": "code",
   "execution_count": 3,
   "metadata": {},
   "outputs": [],
   "source": [
    "ag_news_subset5_distilbert['Model'] = ['Distilbert-Base'] * len(ag_news_subset5_distilbert)\n",
    "ag_news_subset5_distilbert['Dataset'] = ['AG_News_Subset5'] * len(ag_news_subset5_distilbert)\n",
    "\n",
    "ag_news_subset5_bert['Model'] = ['BERT-Base'] * len(ag_news_subset5_bert)\n",
    "ag_news_subset5_bert['Dataset'] = ['AG_News_Subset5'] * len(ag_news_subset5_bert)\n",
    "\n",
    "ag_news_subset5_kmeans['Model'] = ['UMAP + KMeans'] * len(ag_news_subset5_kmeans)\n",
    "ag_news_subset5_kmeans['Dataset'] = ['AG_News_Subset5'] * len(ag_news_subset5_kmeans)"
   ]
  },
  {
   "cell_type": "code",
   "execution_count": 4,
   "metadata": {},
   "outputs": [
    {
     "data": {
      "text/html": [
       "<div>\n",
       "<style scoped>\n",
       "    .dataframe tbody tr th:only-of-type {\n",
       "        vertical-align: middle;\n",
       "    }\n",
       "\n",
       "    .dataframe tbody tr th {\n",
       "        vertical-align: top;\n",
       "    }\n",
       "\n",
       "    .dataframe thead th {\n",
       "        text-align: right;\n",
       "    }\n",
       "</style>\n",
       "<table border=\"1\" class=\"dataframe\">\n",
       "  <thead>\n",
       "    <tr style=\"text-align: right;\">\n",
       "      <th></th>\n",
       "      <th>best_matching</th>\n",
       "      <th>accuracy</th>\n",
       "      <th>ari</th>\n",
       "      <th>nmi</th>\n",
       "      <th>purity</th>\n",
       "      <th>Model</th>\n",
       "      <th>Dataset</th>\n",
       "    </tr>\n",
       "  </thead>\n",
       "  <tbody>\n",
       "    <tr>\n",
       "      <th>0</th>\n",
       "      <td>{0: 3, 1: 2, 2: 1, 3: 0}</td>\n",
       "      <td>0.316614</td>\n",
       "      <td>0.009832</td>\n",
       "      <td>0.014229</td>\n",
       "      <td>0.318182</td>\n",
       "      <td>BERT-Base</td>\n",
       "      <td>AG_News_Subset5</td>\n",
       "    </tr>\n",
       "  </tbody>\n",
       "</table>\n",
       "</div>"
      ],
      "text/plain": [
       "              best_matching  accuracy       ari       nmi    purity  \\\n",
       "0  {0: 3, 1: 2, 2: 1, 3: 0}  0.316614  0.009832  0.014229  0.318182   \n",
       "\n",
       "       Model          Dataset  \n",
       "0  BERT-Base  AG_News_Subset5  "
      ]
     },
     "execution_count": 4,
     "metadata": {},
     "output_type": "execute_result"
    }
   ],
   "source": [
    "ag_news_subset5_bert"
   ]
  },
  {
   "cell_type": "code",
   "execution_count": 5,
   "metadata": {},
   "outputs": [],
   "source": [
    "trec6_distilbert = pd.read_csv('../results/trec6-distilbert/2021-03-25_11:49:02/trec6-distilbert.csv')\n",
    "trec6_bert = pd.read_csv('../results/trec6-bert-base/2021-03-25_11:55:32/trec6-bert-base.csv')\n",
    "trec_kmeans = pd.read_csv('../results/trec6-kmeans/2021-03-27_12:20:29/trec6-kmeans.csv')"
   ]
  },
  {
   "cell_type": "code",
   "execution_count": 6,
   "metadata": {},
   "outputs": [],
   "source": [
    "trec6_distilbert['Model'] = ['Distilbert-Base'] * len(trec6_distilbert)\n",
    "trec6_distilbert['Dataset'] = ['Trec 6'] * len(trec6_distilbert)\n",
    "\n",
    "trec6_bert['Model'] = ['BERT-Base'] * len(trec6_bert)\n",
    "trec6_bert['Dataset'] = ['Trec 6'] * len(trec6_bert)\n",
    "\n",
    "trec_kmeans['Model'] = ['UMAP + KMeans'] * len(trec_kmeans)\n",
    "trec_kmeans['Dataset'] = ['Trec 6'] * len(trec_kmeans)"
   ]
  },
  {
   "cell_type": "code",
   "execution_count": 7,
   "metadata": {},
   "outputs": [],
   "source": [
    "newsgroups_distilbert = pd.read_csv('../results/20newsgroups-distilbert/2021-03-25_15:39:19/20_newsgroups-distilbert.csv')\n",
    "newsgroups_bert = pd.read_csv('../results/20newsgroups-bert-base/2021-03-25_15:56:22/20_newsgroups-bert-base.csv')\n",
    "newsgroups_kmeans = pd.read_csv('../results/20newsgroups-kmeans/2021-03-26_13:17:55/20newsgroups-kmeans.csv')"
   ]
  },
  {
   "cell_type": "code",
   "execution_count": 8,
   "metadata": {},
   "outputs": [],
   "source": [
    "newsgroups_distilbert['Model'] = ['Distilbert-Base'] * len(newsgroups_distilbert)\n",
    "newsgroups_distilbert['Dataset'] = ['20 Newsgroups'] * len(newsgroups_distilbert)\n",
    "\n",
    "newsgroups_bert['Model'] = ['BERT-Base'] * len(newsgroups_bert)\n",
    "newsgroups_bert['Dataset'] = ['20 Newsgroups'] * len(newsgroups_bert)\n",
    "\n",
    "newsgroups_kmeans['Model'] = ['UMAP + KMeans'] * len(newsgroups_kmeans)\n",
    "newsgroups_kmeans['Dataset'] = ['20 Newsgroups'] * len(newsgroups_kmeans)"
   ]
  },
  {
   "cell_type": "code",
   "execution_count": 9,
   "metadata": {},
   "outputs": [
    {
     "data": {
      "text/html": [
       "<div>\n",
       "<style scoped>\n",
       "    .dataframe tbody tr th:only-of-type {\n",
       "        vertical-align: middle;\n",
       "    }\n",
       "\n",
       "    .dataframe tbody tr th {\n",
       "        vertical-align: top;\n",
       "    }\n",
       "\n",
       "    .dataframe thead th {\n",
       "        text-align: right;\n",
       "    }\n",
       "</style>\n",
       "<table border=\"1\" class=\"dataframe\">\n",
       "  <thead>\n",
       "    <tr style=\"text-align: right;\">\n",
       "      <th></th>\n",
       "      <th>best_matching</th>\n",
       "      <th>accuracy</th>\n",
       "      <th>ari</th>\n",
       "      <th>nmi</th>\n",
       "      <th>purity</th>\n",
       "      <th>Model</th>\n",
       "      <th>Dataset</th>\n",
       "    </tr>\n",
       "  </thead>\n",
       "  <tbody>\n",
       "    <tr>\n",
       "      <th>0</th>\n",
       "      <td>{0: 6, 1: 11, 2: 0, 3: 1, 4: 3, 5: 15, 6: 18, ...</td>\n",
       "      <td>0.148541</td>\n",
       "      <td>0.057043</td>\n",
       "      <td>0.146504</td>\n",
       "      <td>0.153316</td>\n",
       "      <td>Distilbert-Base</td>\n",
       "      <td>20 Newsgroups</td>\n",
       "    </tr>\n",
       "  </tbody>\n",
       "</table>\n",
       "</div>"
      ],
      "text/plain": [
       "                                       best_matching  accuracy       ari  \\\n",
       "0  {0: 6, 1: 11, 2: 0, 3: 1, 4: 3, 5: 15, 6: 18, ...  0.148541  0.057043   \n",
       "\n",
       "        nmi    purity            Model        Dataset  \n",
       "0  0.146504  0.153316  Distilbert-Base  20 Newsgroups  "
      ]
     },
     "execution_count": 9,
     "metadata": {},
     "output_type": "execute_result"
    }
   ],
   "source": [
    "newsgroups_distilbert"
   ]
  },
  {
   "cell_type": "code",
   "execution_count": 10,
   "metadata": {},
   "outputs": [],
   "source": [
    "total = pd.concat([\n",
    "    ag_news_subset5_distilbert,\n",
    "    ag_news_subset5_bert,\n",
    "    ag_news_subset5_kmeans,\n",
    "    trec6_distilbert,\n",
    "    trec6_bert,\n",
    "    trec_kmeans,\n",
    "    newsgroups_distilbert,\n",
    "    newsgroups_bert,\n",
    "    newsgroups_kmeans\n",
    "    \n",
    "])"
   ]
  },
  {
   "cell_type": "code",
   "execution_count": 11,
   "metadata": {},
   "outputs": [],
   "source": [
    "total = total[['Dataset', 'Model', 'accuracy', 'nmi', 'ari', 'purity']]\n",
    "total = total.rename(lambda x: x.capitalize(), axis=1)\n",
    "total = total.rename({'Nmi': 'NMI', 'Ari': 'ARI'}, axis=1)\n",
    "\n",
    "def convert_to_percenatage(entry):\n",
    "    return f'{entry * 100:.2f} %'\n",
    "\n",
    "total['Accuracy'] = total['Accuracy'].apply(convert_to_percenatage)\n",
    "total['NMI'] = total['NMI'].apply(convert_to_percenatage)\n",
    "total['ARI'] = total['ARI'].apply(convert_to_percenatage)\n",
    "total['Purity'] = total['Purity'].apply(convert_to_percenatage)"
   ]
  },
  {
   "cell_type": "code",
   "execution_count": 12,
   "metadata": {},
   "outputs": [
    {
     "data": {
      "text/plain": [
       "<pandas.core.groupby.generic.DataFrameGroupBy object at 0x7fdfe77d54f0>"
      ]
     },
     "execution_count": 12,
     "metadata": {},
     "output_type": "execute_result"
    }
   ],
   "source": [
    "total.groupby('Dataset')"
   ]
  },
  {
   "cell_type": "code",
   "execution_count": 13,
   "metadata": {},
   "outputs": [
    {
     "name": "stdout",
     "output_type": "stream",
     "text": [
      "\\begin{tabular}{c|c|c|c|c|c}\n",
      "\\toprule\n",
      "         Dataset &            Model & Accuracy &      NMI &      ARI &   Purity \\\\\n",
      "\\midrule\n",
      " AG\\_News\\_Subset5 &  Distilbert-Base &  84.33 \\% &  61.75 \\% &  64.18 \\% &  84.33 \\% \\\\\n",
      " AG\\_News\\_Subset5 &        BERT-Base &  31.66 \\% &   1.42 \\% &   0.98 \\% &  31.82 \\% \\\\\n",
      " AG\\_News\\_Subset5 &    UMAP + KMeans &  72.88 \\% &  48.17 \\% &  48.13 \\% &  72.88 \\% \\\\\n",
      "          Trec 6 &  Distilbert-Base &  42.99 \\% &  22.89 \\% &  17.78 \\% &  46.28 \\% \\\\\n",
      "          Trec 6 &        BERT-Base &  39.97 \\% &  19.87 \\% &  15.77 \\% &  43.65 \\% \\\\\n",
      "          Trec 6 &    UMAP + KMeans &  35.77 \\% &   8.07 \\% &   5.32 \\% &  36.34 \\% \\\\\n",
      "   20 Newsgroups &  Distilbert-Base &  14.85 \\% &  14.65 \\% &   5.70 \\% &  15.33 \\% \\\\\n",
      "   20 Newsgroups &        BERT-Base &   8.59 \\% &   2.41 \\% &   0.34 \\% &   8.59 \\% \\\\\n",
      "   20 Newsgroups &    UMAP + KMeans &   6.37 \\% &   0.38 \\% &   0.01 \\% &   6.37 \\% \\\\\n",
      "\\bottomrule\n",
      "\\end{tabular}\n",
      "\n"
     ]
    }
   ],
   "source": [
    "print(total.to_latex(multirow=True, index=False, column_format='|'.join(\"c\"*len(total.columns))))"
   ]
  },
  {
   "cell_type": "code",
   "execution_count": 14,
   "metadata": {},
   "outputs": [
    {
     "name": "stdout",
     "output_type": "stream",
     "text": [
      "<table border=\"1\" class=\"dataframe\">\n",
      "  <thead>\n",
      "    <tr style=\"text-align: right;\">\n",
      "      <th></th>\n",
      "      <th>Dataset</th>\n",
      "      <th>Model</th>\n",
      "      <th>Accuracy</th>\n",
      "      <th>NMI</th>\n",
      "      <th>ARI</th>\n",
      "      <th>Purity</th>\n",
      "    </tr>\n",
      "  </thead>\n",
      "  <tbody>\n",
      "    <tr>\n",
      "      <th>0</th>\n",
      "      <td>AG_News_Subset5</td>\n",
      "      <td>Distilbert-Base</td>\n",
      "      <td>84.33 %</td>\n",
      "      <td>61.75 %</td>\n",
      "      <td>64.18 %</td>\n",
      "      <td>84.33 %</td>\n",
      "    </tr>\n",
      "    <tr>\n",
      "      <th>0</th>\n",
      "      <td>AG_News_Subset5</td>\n",
      "      <td>BERT-Base</td>\n",
      "      <td>31.66 %</td>\n",
      "      <td>1.42 %</td>\n",
      "      <td>0.98 %</td>\n",
      "      <td>31.82 %</td>\n",
      "    </tr>\n",
      "    <tr>\n",
      "      <th>0</th>\n",
      "      <td>AG_News_Subset5</td>\n",
      "      <td>UMAP + KMeans</td>\n",
      "      <td>72.88 %</td>\n",
      "      <td>48.17 %</td>\n",
      "      <td>48.13 %</td>\n",
      "      <td>72.88 %</td>\n",
      "    </tr>\n",
      "    <tr>\n",
      "      <th>0</th>\n",
      "      <td>Trec 6</td>\n",
      "      <td>Distilbert-Base</td>\n",
      "      <td>42.99 %</td>\n",
      "      <td>22.89 %</td>\n",
      "      <td>17.78 %</td>\n",
      "      <td>46.28 %</td>\n",
      "    </tr>\n",
      "    <tr>\n",
      "      <th>0</th>\n",
      "      <td>Trec 6</td>\n",
      "      <td>BERT-Base</td>\n",
      "      <td>39.97 %</td>\n",
      "      <td>19.87 %</td>\n",
      "      <td>15.77 %</td>\n",
      "      <td>43.65 %</td>\n",
      "    </tr>\n",
      "    <tr>\n",
      "      <th>0</th>\n",
      "      <td>Trec 6</td>\n",
      "      <td>UMAP + KMeans</td>\n",
      "      <td>35.77 %</td>\n",
      "      <td>8.07 %</td>\n",
      "      <td>5.32 %</td>\n",
      "      <td>36.34 %</td>\n",
      "    </tr>\n",
      "    <tr>\n",
      "      <th>0</th>\n",
      "      <td>20 Newsgroups</td>\n",
      "      <td>Distilbert-Base</td>\n",
      "      <td>14.85 %</td>\n",
      "      <td>14.65 %</td>\n",
      "      <td>5.70 %</td>\n",
      "      <td>15.33 %</td>\n",
      "    </tr>\n",
      "    <tr>\n",
      "      <th>0</th>\n",
      "      <td>20 Newsgroups</td>\n",
      "      <td>BERT-Base</td>\n",
      "      <td>8.59 %</td>\n",
      "      <td>2.41 %</td>\n",
      "      <td>0.34 %</td>\n",
      "      <td>8.59 %</td>\n",
      "    </tr>\n",
      "    <tr>\n",
      "      <th>0</th>\n",
      "      <td>20 Newsgroups</td>\n",
      "      <td>UMAP + KMeans</td>\n",
      "      <td>6.37 %</td>\n",
      "      <td>0.38 %</td>\n",
      "      <td>0.01 %</td>\n",
      "      <td>6.37 %</td>\n",
      "    </tr>\n",
      "  </tbody>\n",
      "</table>\n"
     ]
    }
   ],
   "source": [
    "print(total.to_html())"
   ]
  },
  {
   "cell_type": "code",
   "execution_count": 15,
   "metadata": {},
   "outputs": [],
   "source": [
    "embeddings_kmeans_5 = pd.read_csv('../results/ag_news_subset5-embeddings-kmeans/2021-03-28_10:49:48/ag_news_subset5-embeddings-kmeans.csv')"
   ]
  },
  {
   "cell_type": "code",
   "execution_count": 16,
   "metadata": {},
   "outputs": [],
   "source": [
    "embeddings_kmeans_5.drop([3], inplace=True)"
   ]
  },
  {
   "cell_type": "code",
   "execution_count": 17,
   "metadata": {},
   "outputs": [
    {
     "data": {
      "text/html": [
       "<div>\n",
       "<style scoped>\n",
       "    .dataframe tbody tr th:only-of-type {\n",
       "        vertical-align: middle;\n",
       "    }\n",
       "\n",
       "    .dataframe tbody tr th {\n",
       "        vertical-align: top;\n",
       "    }\n",
       "\n",
       "    .dataframe thead th {\n",
       "        text-align: right;\n",
       "    }\n",
       "</style>\n",
       "<table border=\"1\" class=\"dataframe\">\n",
       "  <thead>\n",
       "    <tr style=\"text-align: right;\">\n",
       "      <th></th>\n",
       "      <th>model</th>\n",
       "      <th>best_matching</th>\n",
       "      <th>accuracy</th>\n",
       "      <th>ari</th>\n",
       "      <th>nmi</th>\n",
       "      <th>purity</th>\n",
       "    </tr>\n",
       "  </thead>\n",
       "  <tbody>\n",
       "    <tr>\n",
       "      <th>0</th>\n",
       "      <td>distilbert-base-uncased</td>\n",
       "      <td>{0: 1, 1: 0, 2: 3, 3: 2}</td>\n",
       "      <td>0.666144</td>\n",
       "      <td>0.363146</td>\n",
       "      <td>0.482676</td>\n",
       "      <td>0.666144</td>\n",
       "    </tr>\n",
       "    <tr>\n",
       "      <th>1</th>\n",
       "      <td>bert-base-uncased</td>\n",
       "      <td>{0: 2, 1: 3, 2: 1, 3: 0}</td>\n",
       "      <td>0.365204</td>\n",
       "      <td>0.037389</td>\n",
       "      <td>0.050005</td>\n",
       "      <td>0.365204</td>\n",
       "    </tr>\n",
       "    <tr>\n",
       "      <th>2</th>\n",
       "      <td>bert-large-uncased</td>\n",
       "      <td>{0: 1, 1: 3, 2: 0, 3: 2}</td>\n",
       "      <td>0.418495</td>\n",
       "      <td>0.086191</td>\n",
       "      <td>0.142095</td>\n",
       "      <td>0.423197</td>\n",
       "    </tr>\n",
       "  </tbody>\n",
       "</table>\n",
       "</div>"
      ],
      "text/plain": [
       "                     model             best_matching  accuracy       ari  \\\n",
       "0  distilbert-base-uncased  {0: 1, 1: 0, 2: 3, 3: 2}  0.666144  0.363146   \n",
       "1        bert-base-uncased  {0: 2, 1: 3, 2: 1, 3: 0}  0.365204  0.037389   \n",
       "2       bert-large-uncased  {0: 1, 1: 3, 2: 0, 3: 2}  0.418495  0.086191   \n",
       "\n",
       "        nmi    purity  \n",
       "0  0.482676  0.666144  \n",
       "1  0.050005  0.365204  \n",
       "2  0.142095  0.423197  "
      ]
     },
     "execution_count": 17,
     "metadata": {},
     "output_type": "execute_result"
    }
   ],
   "source": [
    "embeddings_kmeans_5"
   ]
  },
  {
   "cell_type": "code",
   "execution_count": 18,
   "metadata": {},
   "outputs": [],
   "source": [
    "embeddings_kmeans_5 = embeddings_kmeans_5[['model', 'accuracy', 'nmi', 'ari', 'purity']]\n",
    "embeddings_kmeans_5 = embeddings_kmeans_5.rename(lambda x: x.capitalize(), axis=1)\n",
    "embeddings_kmeans_5 = embeddings_kmeans_5.rename({'Nmi': 'NMI', 'Ari': 'ARI'}, axis=1)\n",
    "\n",
    "def convert_to_percenatage(entry):\n",
    "    return f'{entry * 100:.2f} %'\n",
    "\n",
    "embeddings_kmeans_5['Accuracy'] = embeddings_kmeans_5['Accuracy'].apply(convert_to_percenatage)\n",
    "embeddings_kmeans_5['NMI'] = embeddings_kmeans_5['NMI'].apply(convert_to_percenatage)\n",
    "embeddings_kmeans_5['ARI'] = embeddings_kmeans_5['ARI'].apply(convert_to_percenatage)\n",
    "embeddings_kmeans_5['Purity'] = embeddings_kmeans_5['Purity'].apply(convert_to_percenatage)"
   ]
  },
  {
   "cell_type": "code",
   "execution_count": 19,
   "metadata": {},
   "outputs": [],
   "source": [
    "embeddings_kmeans_5['Model'] = ['Distilbert-Base + KMeans', 'BERT-Base + KMeans',  'BERT-Large + KMeans']\n",
    "embeddings_kmeans_5['n layer'] = [5] * len(embeddings_kmeans_5)"
   ]
  },
  {
   "cell_type": "code",
   "execution_count": 20,
   "metadata": {},
   "outputs": [],
   "source": [
    "embeddings_kmeans_1 = pd.read_csv('../results/ag_news_subset5-embeddings-kmeans/2021-03-28_14:46:41/ag_news_subset5-embeddings-kmeans.csv')\n",
    "embeddings_kmeans_1.drop([3], inplace=True)"
   ]
  },
  {
   "cell_type": "code",
   "execution_count": 21,
   "metadata": {},
   "outputs": [],
   "source": [
    "embeddings_kmeans_1 = embeddings_kmeans_1[['model', 'accuracy', 'nmi', 'ari', 'purity']]\n",
    "embeddings_kmeans_1 = embeddings_kmeans_1.rename(lambda x: x.capitalize(), axis=1)\n",
    "embeddings_kmeans_1 = embeddings_kmeans_1.rename({'Nmi': 'NMI', 'Ari': 'ARI'}, axis=1)\n",
    "\n",
    "def convert_to_percenatage(entry):\n",
    "    return f'{entry * 100:.2f} %'\n",
    "\n",
    "embeddings_kmeans_1['Accuracy'] = embeddings_kmeans_1['Accuracy'].apply(convert_to_percenatage)\n",
    "embeddings_kmeans_1['NMI'] = embeddings_kmeans_1['NMI'].apply(convert_to_percenatage)\n",
    "embeddings_kmeans_1['ARI'] = embeddings_kmeans_1['ARI'].apply(convert_to_percenatage)\n",
    "embeddings_kmeans_1['Purity'] = embeddings_kmeans_1['Purity'].apply(convert_to_percenatage)"
   ]
  },
  {
   "cell_type": "code",
   "execution_count": 22,
   "metadata": {},
   "outputs": [],
   "source": [
    "embeddings_kmeans_1['Model'] = ['Distilbert-Base + KMeans', 'BERT-Base + KMeans',  'BERT-Large + KMeans']\n",
    "embeddings_kmeans_1['n layer'] = [1] * len(embeddings_kmeans_1)"
   ]
  },
  {
   "cell_type": "code",
   "execution_count": 23,
   "metadata": {},
   "outputs": [],
   "source": [
    "sbert_embeddings_kmeans_1 = pd.read_csv('../results/ag_news_subset5-sbert-embeddings-kmeans/2021-03-28_14:21:41/ag_news_subset5-sbert-embeddings-kmeans.csv')"
   ]
  },
  {
   "cell_type": "code",
   "execution_count": 24,
   "metadata": {},
   "outputs": [],
   "source": [
    "sbert_embeddings_kmeans_1 = sbert_embeddings_kmeans_1[['model', 'accuracy', 'nmi', 'ari', 'purity']]\n",
    "sbert_embeddings_kmeans_1 = sbert_embeddings_kmeans_1.rename(lambda x: x.capitalize(), axis=1)\n",
    "sbert_embeddings_kmeans_1 = sbert_embeddings_kmeans_1.rename({'Nmi': 'NMI', 'Ari': 'ARI'}, axis=1)\n",
    "\n",
    "def convert_to_percenatage(entry):\n",
    "    return f'{entry * 100:.2f} %'\n",
    "\n",
    "sbert_embeddings_kmeans_1['Accuracy'] = sbert_embeddings_kmeans_1['Accuracy'].apply(convert_to_percenatage)\n",
    "sbert_embeddings_kmeans_1['NMI'] = sbert_embeddings_kmeans_1['NMI'].apply(convert_to_percenatage)\n",
    "sbert_embeddings_kmeans_1['ARI'] = sbert_embeddings_kmeans_1['ARI'].apply(convert_to_percenatage)\n",
    "sbert_embeddings_kmeans_1['Purity'] = sbert_embeddings_kmeans_1['Purity'].apply(convert_to_percenatage)"
   ]
  },
  {
   "cell_type": "code",
   "execution_count": 25,
   "metadata": {},
   "outputs": [],
   "source": [
    "sbert_embeddings_kmeans_1['Model'] = ['STSB-Distilbert-Base' + 'KMeans', 'STSB-BERT-Large + KMeans']\n",
    "sbert_embeddings_kmeans_1['n layer'] = [1] * len(sbert_embeddings_kmeans_1)"
   ]
  },
  {
   "cell_type": "code",
   "execution_count": 26,
   "metadata": {},
   "outputs": [],
   "source": [
    "sbert_embeddings_kmeans_5 = pd.read_csv('../results/ag_news_subset5-sbert-embeddings-kmeans/2021-03-28_14:43:30/ag_news_subset5-sbert-embeddings-kmeans.csv')"
   ]
  },
  {
   "cell_type": "code",
   "execution_count": 27,
   "metadata": {},
   "outputs": [],
   "source": [
    "sbert_embeddings_kmeans_5 = sbert_embeddings_kmeans_5[['model', 'accuracy', 'nmi', 'ari', 'purity']]\n",
    "sbert_embeddings_kmeans_5 = sbert_embeddings_kmeans_5.rename(lambda x: x.capitalize(), axis=1)\n",
    "sbert_embeddings_kmeans_5 = sbert_embeddings_kmeans_5.rename({'Nmi': 'NMI', 'Ari': 'ARI'}, axis=1)\n",
    "\n",
    "def convert_to_percenatage(entry):\n",
    "    return f'{entry * 100:.2f} %'\n",
    "\n",
    "sbert_embeddings_kmeans_5['Accuracy'] = sbert_embeddings_kmeans_5['Accuracy'].apply(convert_to_percenatage)\n",
    "sbert_embeddings_kmeans_5['NMI'] = sbert_embeddings_kmeans_5['NMI'].apply(convert_to_percenatage)\n",
    "sbert_embeddings_kmeans_5['ARI'] = sbert_embeddings_kmeans_5['ARI'].apply(convert_to_percenatage)\n",
    "sbert_embeddings_kmeans_5['Purity'] = sbert_embeddings_kmeans_5['Purity'].apply(convert_to_percenatage)"
   ]
  },
  {
   "cell_type": "code",
   "execution_count": 28,
   "metadata": {},
   "outputs": [],
   "source": [
    "sbert_embeddings_kmeans_5['Model'] = ['STSB-Distilbert-Base' + 'KMeans', 'STSB-BERT-Large + KMeans']\n",
    "sbert_embeddings_kmeans_5['n layer'] = [5] * len(sbert_embeddings_kmeans_5)"
   ]
  },
  {
   "cell_type": "code",
   "execution_count": 31,
   "metadata": {},
   "outputs": [],
   "source": [
    "total_kmeans = pd.concat([embeddings_kmeans_1, embeddings_kmeans_5, sbert_embeddings_kmeans_1, sbert_embeddings_kmeans_5], axis=0)\n",
    "total_kmeans = total_kmeans[['Model', 'n layer', 'Accuracy', 'NMI', 'ARI', 'Purity']].sort_values(by=['Model', 'n layer'])"
   ]
  },
  {
   "cell_type": "code",
   "execution_count": 32,
   "metadata": {},
   "outputs": [
    {
     "name": "stdout",
     "output_type": "stream",
     "text": [
      "\\begin{tabular}{c|c|c|c|c|c}\n",
      "\\toprule\n",
      "                      Model &  n layer & Accuracy &      NMI &      ARI &   Purity \\\\\n",
      "\\midrule\n",
      "         BERT-Base + KMeans &        1 &  48.43 \\% &  20.37 \\% &  12.99 \\% &  48.43 \\% \\\\\n",
      "         BERT-Base + KMeans &        5 &  36.52 \\% &   5.00 \\% &   3.74 \\% &  36.52 \\% \\\\\n",
      "        BERT-Large + KMeans &        1 &  29.78 \\% &   2.35 \\% &   1.18 \\% &  30.56 \\% \\\\\n",
      "        BERT-Large + KMeans &        5 &  41.85 \\% &  14.21 \\% &   8.62 \\% &  42.32 \\% \\\\\n",
      "   Distilbert-Base + KMeans &        1 &  74.76 \\% &  49.20 \\% &  45.79 \\% &  74.76 \\% \\\\\n",
      "   Distilbert-Base + KMeans &        5 &  66.61 \\% &  48.27 \\% &  36.31 \\% &  66.61 \\% \\\\\n",
      "   STSB-BERT-Large + KMeans &        1 &  68.03 \\% &  32.90 \\% &  34.49 \\% &  68.03 \\% \\\\\n",
      "   STSB-BERT-Large + KMeans &        5 &  70.06 \\% &  36.44 \\% &  38.35 \\% &  70.06 \\% \\\\\n",
      " STSB-Distilbert-BaseKMeans &        1 &  61.60 \\% &  28.48 \\% &  27.05 \\% &  61.60 \\% \\\\\n",
      " STSB-Distilbert-BaseKMeans &        5 &  47.65 \\% &  18.18 \\% &  13.92 \\% &  49.37 \\% \\\\\n",
      "\\bottomrule\n",
      "\\end{tabular}\n",
      "\n"
     ]
    }
   ],
   "source": [
    "print(total_kmeans.to_latex(multirow=True, index=False, column_format='|'.join(\"c\"*len(total_kmeans.columns))))"
   ]
  },
  {
   "cell_type": "code",
   "execution_count": 33,
   "metadata": {},
   "outputs": [],
   "source": [
    "# last experiment"
   ]
  },
  {
   "cell_type": "code",
   "execution_count": 40,
   "metadata": {},
   "outputs": [],
   "source": [
    "news_kmeans = pd.read_csv('../results/20newsgroups_samples-kmeans/2021-03-28_17:17:22/20newsgroups_samples-kmeans.csv')\n",
    "news_kmeans['Model'] = ['KMeans'] * len(ag_news_subset5_kmeans)\n",
    "news_kmeans['Dataset'] = ['AG_News_Subset5'] * len(ag_news_subset5_kmeans)"
   ]
  },
  {
   "cell_type": "code",
   "execution_count": 41,
   "metadata": {},
   "outputs": [],
   "source": [
    "news_distilbert = pd.read_csv('../results/20newsgroups_samples-distilbert/2021-03-28_16:51:15/20newsgroups_samples-distilbert.csv')\n",
    "news_distilbert['Model'] = ['Distilbert-Base'] * len(news_distilbert)\n",
    "news_distilbert['Dataset'] = ['AG_News_Subset5'] * len(news_distilbert)"
   ]
  },
  {
   "cell_type": "code",
   "execution_count": 42,
   "metadata": {},
   "outputs": [],
   "source": [
    "news_total = pd.concat([news_kmeans, news_distilbert])"
   ]
  },
  {
   "cell_type": "code",
   "execution_count": 43,
   "metadata": {},
   "outputs": [],
   "source": [
    "news_total = news_total[['Dataset', 'Model', 'accuracy', 'nmi', 'ari', 'purity']]\n",
    "news_total = news_total.rename(lambda x: x.capitalize(), axis=1)\n",
    "news_total = news_total.rename({'Nmi': 'NMI', 'Ari': 'ARI'}, axis=1)\n",
    "\n",
    "def convert_to_percenatage(entry):\n",
    "    return f'{entry * 100:.2f} %'\n",
    "\n",
    "news_total['Accuracy'] = news_total['Accuracy'].apply(convert_to_percenatage)\n",
    "news_total['NMI'] = news_total['NMI'].apply(convert_to_percenatage)\n",
    "news_total['ARI'] = news_total['ARI'].apply(convert_to_percenatage)\n",
    "news_total['Purity'] = news_total['Purity'].apply(convert_to_percenatage)"
   ]
  },
  {
   "cell_type": "code",
   "execution_count": 44,
   "metadata": {},
   "outputs": [
    {
     "data": {
      "text/html": [
       "<div>\n",
       "<style scoped>\n",
       "    .dataframe tbody tr th:only-of-type {\n",
       "        vertical-align: middle;\n",
       "    }\n",
       "\n",
       "    .dataframe tbody tr th {\n",
       "        vertical-align: top;\n",
       "    }\n",
       "\n",
       "    .dataframe thead th {\n",
       "        text-align: right;\n",
       "    }\n",
       "</style>\n",
       "<table border=\"1\" class=\"dataframe\">\n",
       "  <thead>\n",
       "    <tr style=\"text-align: right;\">\n",
       "      <th></th>\n",
       "      <th>Dataset</th>\n",
       "      <th>Model</th>\n",
       "      <th>Accuracy</th>\n",
       "      <th>NMI</th>\n",
       "      <th>ARI</th>\n",
       "      <th>Purity</th>\n",
       "    </tr>\n",
       "  </thead>\n",
       "  <tbody>\n",
       "    <tr>\n",
       "      <th>0</th>\n",
       "      <td>AG_News_Subset5</td>\n",
       "      <td>KMeans</td>\n",
       "      <td>83.01 %</td>\n",
       "      <td>68.40 %</td>\n",
       "      <td>57.43 %</td>\n",
       "      <td>83.01 %</td>\n",
       "    </tr>\n",
       "    <tr>\n",
       "      <th>0</th>\n",
       "      <td>AG_News_Subset5</td>\n",
       "      <td>Distilbert-Base</td>\n",
       "      <td>62.62 %</td>\n",
       "      <td>43.12 %</td>\n",
       "      <td>38.05 %</td>\n",
       "      <td>63.35 %</td>\n",
       "    </tr>\n",
       "  </tbody>\n",
       "</table>\n",
       "</div>"
      ],
      "text/plain": [
       "           Dataset            Model Accuracy      NMI      ARI   Purity\n",
       "0  AG_News_Subset5           KMeans  83.01 %  68.40 %  57.43 %  83.01 %\n",
       "0  AG_News_Subset5  Distilbert-Base  62.62 %  43.12 %  38.05 %  63.35 %"
      ]
     },
     "execution_count": 44,
     "metadata": {},
     "output_type": "execute_result"
    }
   ],
   "source": [
    "news_total"
   ]
  },
  {
   "cell_type": "code",
   "execution_count": 45,
   "metadata": {},
   "outputs": [
    {
     "name": "stdout",
     "output_type": "stream",
     "text": [
      "\\begin{tabular}{c|c|c|c|c|c}\n",
      "\\toprule\n",
      "         Dataset &            Model & Accuracy &      NMI &      ARI &   Purity \\\\\n",
      "\\midrule\n",
      " AG\\_News\\_Subset5 &           KMeans &  83.01 \\% &  68.40 \\% &  57.43 \\% &  83.01 \\% \\\\\n",
      " AG\\_News\\_Subset5 &  Distilbert-Base &  62.62 \\% &  43.12 \\% &  38.05 \\% &  63.35 \\% \\\\\n",
      "\\bottomrule\n",
      "\\end{tabular}\n",
      "\n"
     ]
    }
   ],
   "source": [
    "print(news_total.to_latex(multirow=True, index=False, column_format='|'.join(\"c\"*len(total_kmeans.columns))))"
   ]
  },
  {
   "cell_type": "code",
   "execution_count": 46,
   "metadata": {},
   "outputs": [],
   "source": [
    "# really last table"
   ]
  },
  {
   "cell_type": "code",
   "execution_count": 54,
   "metadata": {},
   "outputs": [],
   "source": [
    "trec_k = pd.read_csv('../results/trec6-kmeans/2021-03-28_17:35:20/trec6-kmeans.csv')\n",
    "trec_k['Model'] = ['KMeans'] * len(trec_k)\n",
    "trec_k['Dataset'] = ['Trec 6'] * len(trec_k)"
   ]
  },
  {
   "cell_type": "code",
   "execution_count": 55,
   "metadata": {},
   "outputs": [],
   "source": [
    "ag_k = pd.read_csv('../results/ag_news_subset5-kmeans/2021-03-28_17:36:06/ag_news_subset5-kmeans.csv')\n",
    "ag_k['Model'] = ['KMeans'] * len(ag_k)\n",
    "ag_k['Dataset'] = ['AG_News_Subset5'] * len(ag_k)"
   ]
  },
  {
   "cell_type": "code",
   "execution_count": 56,
   "metadata": {},
   "outputs": [],
   "source": [
    "total_k = pd.concat([ag_k, trec_k])"
   ]
  },
  {
   "cell_type": "code",
   "execution_count": 57,
   "metadata": {},
   "outputs": [],
   "source": [
    "total_k = total_k[['Dataset', 'Model', 'accuracy', 'nmi', 'ari', 'purity']]\n",
    "total_k = total_k.rename(lambda x: x.capitalize(), axis=1)\n",
    "total_k = total_k.rename({'Nmi': 'NMI', 'Ari': 'ARI'}, axis=1)\n",
    "\n",
    "def convert_to_percenatage(entry):\n",
    "    return f'{entry * 100:.2f} %'\n",
    "\n",
    "total_k['Accuracy'] = total_k['Accuracy'].apply(convert_to_percenatage)\n",
    "total_k['NMI'] = total_k['NMI'].apply(convert_to_percenatage)\n",
    "total_k['ARI'] = total_k['ARI'].apply(convert_to_percenatage)\n",
    "total_k['Purity'] = total_k['Purity'].apply(convert_to_percenatage)"
   ]
  },
  {
   "cell_type": "code",
   "execution_count": 58,
   "metadata": {},
   "outputs": [
    {
     "data": {
      "text/html": [
       "<div>\n",
       "<style scoped>\n",
       "    .dataframe tbody tr th:only-of-type {\n",
       "        vertical-align: middle;\n",
       "    }\n",
       "\n",
       "    .dataframe tbody tr th {\n",
       "        vertical-align: top;\n",
       "    }\n",
       "\n",
       "    .dataframe thead th {\n",
       "        text-align: right;\n",
       "    }\n",
       "</style>\n",
       "<table border=\"1\" class=\"dataframe\">\n",
       "  <thead>\n",
       "    <tr style=\"text-align: right;\">\n",
       "      <th></th>\n",
       "      <th>Dataset</th>\n",
       "      <th>Model</th>\n",
       "      <th>Accuracy</th>\n",
       "      <th>NMI</th>\n",
       "      <th>ARI</th>\n",
       "      <th>Purity</th>\n",
       "    </tr>\n",
       "  </thead>\n",
       "  <tbody>\n",
       "    <tr>\n",
       "      <th>0</th>\n",
       "      <td>AG_News_Subset5</td>\n",
       "      <td>KMeans</td>\n",
       "      <td>31.66 %</td>\n",
       "      <td>2.31 %</td>\n",
       "      <td>0.55 %</td>\n",
       "      <td>32.13 %</td>\n",
       "    </tr>\n",
       "    <tr>\n",
       "      <th>0</th>\n",
       "      <td>Trec 6</td>\n",
       "      <td>KMeans</td>\n",
       "      <td>27.16 %</td>\n",
       "      <td>5.92 %</td>\n",
       "      <td>1.68 %</td>\n",
       "      <td>28.28 %</td>\n",
       "    </tr>\n",
       "  </tbody>\n",
       "</table>\n",
       "</div>"
      ],
      "text/plain": [
       "           Dataset   Model Accuracy     NMI     ARI   Purity\n",
       "0  AG_News_Subset5  KMeans  31.66 %  2.31 %  0.55 %  32.13 %\n",
       "0           Trec 6  KMeans  27.16 %  5.92 %  1.68 %  28.28 %"
      ]
     },
     "execution_count": 58,
     "metadata": {},
     "output_type": "execute_result"
    }
   ],
   "source": [
    "total_k"
   ]
  },
  {
   "cell_type": "code",
   "execution_count": 59,
   "metadata": {},
   "outputs": [
    {
     "name": "stdout",
     "output_type": "stream",
     "text": [
      "\\begin{tabular}{c|c|c|c|c|c}\n",
      "\\toprule\n",
      "         Dataset &   Model & Accuracy &     NMI &     ARI &   Purity \\\\\n",
      "\\midrule\n",
      " AG\\_News\\_Subset5 &  KMeans &  31.66 \\% &  2.31 \\% &  0.55 \\% &  32.13 \\% \\\\\n",
      "          Trec 6 &  KMeans &  27.16 \\% &  5.92 \\% &  1.68 \\% &  28.28 \\% \\\\\n",
      "\\bottomrule\n",
      "\\end{tabular}\n",
      "\n"
     ]
    }
   ],
   "source": [
    "print(total_k.to_latex(multirow=True, index=False, column_format='|'.join(\"c\"*len(total_kmeans.columns))))"
   ]
  },
  {
   "cell_type": "code",
   "execution_count": null,
   "metadata": {},
   "outputs": [],
   "source": []
  }
 ],
 "metadata": {
  "kernelspec": {
   "display_name": "Python 3",
   "language": "python",
   "name": "python3"
  },
  "language_info": {
   "codemirror_mode": {
    "name": "ipython",
    "version": 3
   },
   "file_extension": ".py",
   "mimetype": "text/x-python",
   "name": "python",
   "nbconvert_exporter": "python",
   "pygments_lexer": "ipython3",
   "version": "3.8.5"
  }
 },
 "nbformat": 4,
 "nbformat_minor": 4
}
