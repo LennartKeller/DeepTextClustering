{
 "cells": [
  {
   "cell_type": "code",
   "execution_count": 1,
   "metadata": {},
   "outputs": [],
   "source": [
    "import pandas as pd\n",
    "import matplotlib.pyplot as plt\n",
    "import re\n",
    "import seaborn as sns\n",
    "from pprint import pprint"
   ]
  },
  {
   "cell_type": "code",
   "execution_count": 2,
   "metadata": {},
   "outputs": [],
   "source": [
    "df = pd.read_csv('../results/ag_news_subset5-distilbert/opt/2020-12-09_18:49:38/opt_results_ag_news_subset5.csv')"
   ]
  },
  {
   "cell_type": "code",
   "execution_count": 3,
   "metadata": {},
   "outputs": [],
   "source": [
    "df['n'] = df.param_embedding_extractor.map(lambda x: int(x[-2]))"
   ]
  },
  {
   "cell_type": "code",
   "execution_count": 4,
   "metadata": {},
   "outputs": [],
   "source": [
    "df['extractor'] = df.param_embedding_extractor.map(lambda x: re.search(r'<function (.+?) ', x).group(1))"
   ]
  },
  {
   "cell_type": "code",
   "execution_count": 5,
   "metadata": {},
   "outputs": [],
   "source": [
    "# Uncomment to exlude a family of runs which did not work at all\n",
    "df = df[~(df.param_annealing_alphas == '[0.1 0.1 0.1 0.1 0.1 0.1 0.1 0.1 0.1 0.1]')]"
   ]
  },
  {
   "cell_type": "code",
   "execution_count": 6,
   "metadata": {},
   "outputs": [
    {
     "data": {
      "text/plain": [
       "(480, 9)"
      ]
     },
     "execution_count": 6,
     "metadata": {},
     "output_type": "execute_result"
    }
   ],
   "source": [
    "df.shape"
   ]
  },
  {
   "cell_type": "code",
   "execution_count": 41,
   "metadata": {},
   "outputs": [
    {
     "name": "stdout",
     "output_type": "stream",
     "text": [
      "{'accuracy': {229: 0.8683385579937304},\n",
      " 'ari': {229: 0.6870838318742025},\n",
      " 'best_matching': {229: '{0: 1, 1: 2, 2: 3, 3: 0}'},\n",
      " 'extractor': {229: 'concat_cls_n_hidden_states'},\n",
      " 'n': {229: 2},\n",
      " 'nmi': {229: 0.6519677304555203},\n",
      " 'param_annealing_alphas': {229: '[1000. 1000. 1000. 1000. 1000. 1000. 1000. '\n",
      "                                 '1000. 1000. 1000.]'},\n",
      " 'param_clustering_loss_weight': {229: 1.0},\n",
      " 'param_embedding_extractor': {229: 'functools.partial(<function '\n",
      "                                    'concat_cls_n_hidden_states at '\n",
      "                                    '0x7fb048539040>, n=2)'}}\n"
     ]
    }
   ],
   "source": [
    "pprint(df.sort_values(['accuracy', 'ari', 'nmi'], ascending=False).head(1).to_dict())"
   ]
  },
  {
   "cell_type": "code",
   "execution_count": 45,
   "metadata": {},
   "outputs": [
    {
     "data": {
      "text/html": [
       "<div>\n",
       "<style scoped>\n",
       "    .dataframe tbody tr th:only-of-type {\n",
       "        vertical-align: middle;\n",
       "    }\n",
       "\n",
       "    .dataframe tbody tr th {\n",
       "        vertical-align: top;\n",
       "    }\n",
       "\n",
       "    .dataframe thead th {\n",
       "        text-align: right;\n",
       "    }\n",
       "</style>\n",
       "<table border=\"1\" class=\"dataframe\">\n",
       "  <thead>\n",
       "    <tr style=\"text-align: right;\">\n",
       "      <th></th>\n",
       "      <th>param_annealing_alphas</th>\n",
       "      <th>param_clustering_loss_weight</th>\n",
       "      <th>param_embedding_extractor</th>\n",
       "      <th>best_matching</th>\n",
       "      <th>accuracy</th>\n",
       "      <th>ari</th>\n",
       "      <th>nmi</th>\n",
       "      <th>n</th>\n",
       "      <th>extractor</th>\n",
       "    </tr>\n",
       "  </thead>\n",
       "  <tbody>\n",
       "    <tr>\n",
       "      <th>229</th>\n",
       "      <td>[1000. 1000. 1000. 1000. 1000. 1000. 1000. 100...</td>\n",
       "      <td>1.0</td>\n",
       "      <td>functools.partial(&lt;function concat_cls_n_hidde...</td>\n",
       "      <td>{0: 1, 1: 2, 2: 3, 3: 0}</td>\n",
       "      <td>0.868339</td>\n",
       "      <td>0.687084</td>\n",
       "      <td>0.651968</td>\n",
       "      <td>2</td>\n",
       "      <td>concat_cls_n_hidden_states</td>\n",
       "    </tr>\n",
       "    <tr>\n",
       "      <th>52</th>\n",
       "      <td>[ 1.  2.  3.  4.  5.  6.  7.  8.  9. 10.]</td>\n",
       "      <td>0.5</td>\n",
       "      <td>functools.partial(&lt;function concat_cls_n_hidde...</td>\n",
       "      <td>{0: 1, 1: 3, 2: 0, 3: 2}</td>\n",
       "      <td>0.865204</td>\n",
       "      <td>0.682562</td>\n",
       "      <td>0.653894</td>\n",
       "      <td>5</td>\n",
       "      <td>concat_cls_n_hidden_states</td>\n",
       "    </tr>\n",
       "    <tr>\n",
       "      <th>149</th>\n",
       "      <td>[1000. 1000. 1000. 1000. 1000. 1000. 1000. 100...</td>\n",
       "      <td>0.3</td>\n",
       "      <td>functools.partial(&lt;function concat_cls_n_hidde...</td>\n",
       "      <td>{0: 0, 1: 3, 2: 1, 3: 2}</td>\n",
       "      <td>0.865204</td>\n",
       "      <td>0.679371</td>\n",
       "      <td>0.649483</td>\n",
       "      <td>6</td>\n",
       "      <td>concat_cls_n_hidden_states</td>\n",
       "    </tr>\n",
       "    <tr>\n",
       "      <th>210</th>\n",
       "      <td>[1000. 1000. 1000. 1000. 1000. 1000. 1000. 100...</td>\n",
       "      <td>0.8</td>\n",
       "      <td>functools.partial(&lt;function concat_mean_n_hidd...</td>\n",
       "      <td>{0: 0, 1: 3, 2: 2, 3: 1}</td>\n",
       "      <td>0.862069</td>\n",
       "      <td>0.673072</td>\n",
       "      <td>0.639687</td>\n",
       "      <td>1</td>\n",
       "      <td>concat_mean_n_hidden_states</td>\n",
       "    </tr>\n",
       "    <tr>\n",
       "      <th>349</th>\n",
       "      <td>[1. 1. 1. 1. 1. 1. 1. 1. 1. 1.]</td>\n",
       "      <td>1.0</td>\n",
       "      <td>functools.partial(&lt;function concat_cls_n_hidde...</td>\n",
       "      <td>{0: 1, 1: 2, 2: 0, 3: 3}</td>\n",
       "      <td>0.858934</td>\n",
       "      <td>0.668971</td>\n",
       "      <td>0.637447</td>\n",
       "      <td>2</td>\n",
       "      <td>concat_cls_n_hidden_states</td>\n",
       "    </tr>\n",
       "    <tr>\n",
       "      <th>352</th>\n",
       "      <td>[1. 1. 1. 1. 1. 1. 1. 1. 1. 1.]</td>\n",
       "      <td>1.0</td>\n",
       "      <td>functools.partial(&lt;function concat_cls_n_hidde...</td>\n",
       "      <td>{0: 3, 1: 0, 2: 2, 3: 1}</td>\n",
       "      <td>0.858934</td>\n",
       "      <td>0.668720</td>\n",
       "      <td>0.641739</td>\n",
       "      <td>5</td>\n",
       "      <td>concat_cls_n_hidden_states</td>\n",
       "    </tr>\n",
       "    <tr>\n",
       "      <th>109</th>\n",
       "      <td>[ 1.  2.  3.  4.  5.  6.  7.  8.  9. 10.]</td>\n",
       "      <td>1.0</td>\n",
       "      <td>functools.partial(&lt;function concat_cls_n_hidde...</td>\n",
       "      <td>{0: 1, 1: 2, 2: 3, 3: 0}</td>\n",
       "      <td>0.857367</td>\n",
       "      <td>0.667855</td>\n",
       "      <td>0.638040</td>\n",
       "      <td>2</td>\n",
       "      <td>concat_cls_n_hidden_states</td>\n",
       "    </tr>\n",
       "    <tr>\n",
       "      <th>38</th>\n",
       "      <td>[ 1.  2.  3.  4.  5.  6.  7.  8.  9. 10.]</td>\n",
       "      <td>0.4</td>\n",
       "      <td>functools.partial(&lt;function concat_cls_n_hidde...</td>\n",
       "      <td>{0: 2, 1: 0, 2: 1, 3: 3}</td>\n",
       "      <td>0.857367</td>\n",
       "      <td>0.665686</td>\n",
       "      <td>0.637221</td>\n",
       "      <td>3</td>\n",
       "      <td>concat_cls_n_hidden_states</td>\n",
       "    </tr>\n",
       "    <tr>\n",
       "      <th>170</th>\n",
       "      <td>[1000. 1000. 1000. 1000. 1000. 1000. 1000. 100...</td>\n",
       "      <td>0.5</td>\n",
       "      <td>functools.partial(&lt;function concat_cls_n_hidde...</td>\n",
       "      <td>{0: 3, 1: 2, 2: 1, 3: 0}</td>\n",
       "      <td>0.855799</td>\n",
       "      <td>0.661693</td>\n",
       "      <td>0.634656</td>\n",
       "      <td>3</td>\n",
       "      <td>concat_cls_n_hidden_states</td>\n",
       "    </tr>\n",
       "    <tr>\n",
       "      <th>350</th>\n",
       "      <td>[1. 1. 1. 1. 1. 1. 1. 1. 1. 1.]</td>\n",
       "      <td>1.0</td>\n",
       "      <td>functools.partial(&lt;function concat_cls_n_hidde...</td>\n",
       "      <td>{0: 3, 1: 2, 2: 0, 3: 1}</td>\n",
       "      <td>0.855799</td>\n",
       "      <td>0.660729</td>\n",
       "      <td>0.630778</td>\n",
       "      <td>3</td>\n",
       "      <td>concat_cls_n_hidden_states</td>\n",
       "    </tr>\n",
       "    <tr>\n",
       "      <th>423</th>\n",
       "      <td>[0.1        0.42320861 0.75156841 1.07797116 1...</td>\n",
       "      <td>0.6</td>\n",
       "      <td>functools.partial(&lt;function concat_cls_n_hidde...</td>\n",
       "      <td>{0: 1, 1: 3, 2: 0, 3: 2}</td>\n",
       "      <td>0.854232</td>\n",
       "      <td>0.659698</td>\n",
       "      <td>0.633420</td>\n",
       "      <td>4</td>\n",
       "      <td>concat_cls_n_hidden_states</td>\n",
       "    </tr>\n",
       "    <tr>\n",
       "      <th>88</th>\n",
       "      <td>[ 1.  2.  3.  4.  5.  6.  7.  8.  9. 10.]</td>\n",
       "      <td>0.8</td>\n",
       "      <td>functools.partial(&lt;function concat_cls_n_hidde...</td>\n",
       "      <td>{0: 1, 1: 3, 2: 2, 3: 0}</td>\n",
       "      <td>0.854232</td>\n",
       "      <td>0.659001</td>\n",
       "      <td>0.631735</td>\n",
       "      <td>5</td>\n",
       "      <td>concat_cls_n_hidden_states</td>\n",
       "    </tr>\n",
       "    <tr>\n",
       "      <th>15</th>\n",
       "      <td>[ 1.  2.  3.  4.  5.  6.  7.  8.  9. 10.]</td>\n",
       "      <td>0.2</td>\n",
       "      <td>functools.partial(&lt;function concat_cls_n_hidde...</td>\n",
       "      <td>{0: 0, 1: 2, 2: 3, 3: 1}</td>\n",
       "      <td>0.854232</td>\n",
       "      <td>0.656884</td>\n",
       "      <td>0.626427</td>\n",
       "      <td>4</td>\n",
       "      <td>concat_cls_n_hidden_states</td>\n",
       "    </tr>\n",
       "    <tr>\n",
       "      <th>25</th>\n",
       "      <td>[ 1.  2.  3.  4.  5.  6.  7.  8.  9. 10.]</td>\n",
       "      <td>0.3</td>\n",
       "      <td>functools.partial(&lt;function concat_cls_n_hidde...</td>\n",
       "      <td>{0: 2, 1: 3, 2: 1, 3: 0}</td>\n",
       "      <td>0.852665</td>\n",
       "      <td>0.654464</td>\n",
       "      <td>0.628814</td>\n",
       "      <td>2</td>\n",
       "      <td>concat_cls_n_hidden_states</td>\n",
       "    </tr>\n",
       "    <tr>\n",
       "      <th>27</th>\n",
       "      <td>[ 1.  2.  3.  4.  5.  6.  7.  8.  9. 10.]</td>\n",
       "      <td>0.3</td>\n",
       "      <td>functools.partial(&lt;function concat_cls_n_hidde...</td>\n",
       "      <td>{0: 3, 1: 2, 2: 0, 3: 1}</td>\n",
       "      <td>0.851097</td>\n",
       "      <td>0.652174</td>\n",
       "      <td>0.623494</td>\n",
       "      <td>4</td>\n",
       "      <td>concat_cls_n_hidden_states</td>\n",
       "    </tr>\n",
       "    <tr>\n",
       "      <th>48</th>\n",
       "      <td>[ 1.  2.  3.  4.  5.  6.  7.  8.  9. 10.]</td>\n",
       "      <td>0.5</td>\n",
       "      <td>functools.partial(&lt;function concat_cls_n_hidde...</td>\n",
       "      <td>{0: 2, 1: 1, 2: 0, 3: 3}</td>\n",
       "      <td>0.849530</td>\n",
       "      <td>0.652180</td>\n",
       "      <td>0.625303</td>\n",
       "      <td>1</td>\n",
       "      <td>concat_cls_n_hidden_states</td>\n",
       "    </tr>\n",
       "    <tr>\n",
       "      <th>97</th>\n",
       "      <td>[ 1.  2.  3.  4.  5.  6.  7.  8.  9. 10.]</td>\n",
       "      <td>0.9</td>\n",
       "      <td>functools.partial(&lt;function concat_cls_n_hidde...</td>\n",
       "      <td>{0: 3, 1: 1, 2: 2, 3: 0}</td>\n",
       "      <td>0.849530</td>\n",
       "      <td>0.650787</td>\n",
       "      <td>0.621201</td>\n",
       "      <td>2</td>\n",
       "      <td>concat_cls_n_hidden_states</td>\n",
       "    </tr>\n",
       "    <tr>\n",
       "      <th>24</th>\n",
       "      <td>[ 1.  2.  3.  4.  5.  6.  7.  8.  9. 10.]</td>\n",
       "      <td>0.3</td>\n",
       "      <td>functools.partial(&lt;function concat_cls_n_hidde...</td>\n",
       "      <td>{0: 3, 1: 1, 2: 2, 3: 0}</td>\n",
       "      <td>0.849530</td>\n",
       "      <td>0.650437</td>\n",
       "      <td>0.624888</td>\n",
       "      <td>1</td>\n",
       "      <td>concat_cls_n_hidden_states</td>\n",
       "    </tr>\n",
       "    <tr>\n",
       "      <th>281</th>\n",
       "      <td>[1. 1. 1. 1. 1. 1. 1. 1. 1. 1.]</td>\n",
       "      <td>0.4</td>\n",
       "      <td>functools.partial(&lt;function concat_cls_n_hidde...</td>\n",
       "      <td>{0: 3, 1: 0, 2: 2, 3: 1}</td>\n",
       "      <td>0.847962</td>\n",
       "      <td>0.644629</td>\n",
       "      <td>0.611961</td>\n",
       "      <td>6</td>\n",
       "      <td>concat_cls_n_hidden_states</td>\n",
       "    </tr>\n",
       "    <tr>\n",
       "      <th>146</th>\n",
       "      <td>[1000. 1000. 1000. 1000. 1000. 1000. 1000. 100...</td>\n",
       "      <td>0.3</td>\n",
       "      <td>functools.partial(&lt;function concat_cls_n_hidde...</td>\n",
       "      <td>{0: 0, 1: 3, 2: 2, 3: 1}</td>\n",
       "      <td>0.847962</td>\n",
       "      <td>0.642740</td>\n",
       "      <td>0.610200</td>\n",
       "      <td>3</td>\n",
       "      <td>concat_cls_n_hidden_states</td>\n",
       "    </tr>\n",
       "  </tbody>\n",
       "</table>\n",
       "</div>"
      ],
      "text/plain": [
       "                                param_annealing_alphas  \\\n",
       "229  [1000. 1000. 1000. 1000. 1000. 1000. 1000. 100...   \n",
       "52           [ 1.  2.  3.  4.  5.  6.  7.  8.  9. 10.]   \n",
       "149  [1000. 1000. 1000. 1000. 1000. 1000. 1000. 100...   \n",
       "210  [1000. 1000. 1000. 1000. 1000. 1000. 1000. 100...   \n",
       "349                    [1. 1. 1. 1. 1. 1. 1. 1. 1. 1.]   \n",
       "352                    [1. 1. 1. 1. 1. 1. 1. 1. 1. 1.]   \n",
       "109          [ 1.  2.  3.  4.  5.  6.  7.  8.  9. 10.]   \n",
       "38           [ 1.  2.  3.  4.  5.  6.  7.  8.  9. 10.]   \n",
       "170  [1000. 1000. 1000. 1000. 1000. 1000. 1000. 100...   \n",
       "350                    [1. 1. 1. 1. 1. 1. 1. 1. 1. 1.]   \n",
       "423  [0.1        0.42320861 0.75156841 1.07797116 1...   \n",
       "88           [ 1.  2.  3.  4.  5.  6.  7.  8.  9. 10.]   \n",
       "15           [ 1.  2.  3.  4.  5.  6.  7.  8.  9. 10.]   \n",
       "25           [ 1.  2.  3.  4.  5.  6.  7.  8.  9. 10.]   \n",
       "27           [ 1.  2.  3.  4.  5.  6.  7.  8.  9. 10.]   \n",
       "48           [ 1.  2.  3.  4.  5.  6.  7.  8.  9. 10.]   \n",
       "97           [ 1.  2.  3.  4.  5.  6.  7.  8.  9. 10.]   \n",
       "24           [ 1.  2.  3.  4.  5.  6.  7.  8.  9. 10.]   \n",
       "281                    [1. 1. 1. 1. 1. 1. 1. 1. 1. 1.]   \n",
       "146  [1000. 1000. 1000. 1000. 1000. 1000. 1000. 100...   \n",
       "\n",
       "     param_clustering_loss_weight  \\\n",
       "229                           1.0   \n",
       "52                            0.5   \n",
       "149                           0.3   \n",
       "210                           0.8   \n",
       "349                           1.0   \n",
       "352                           1.0   \n",
       "109                           1.0   \n",
       "38                            0.4   \n",
       "170                           0.5   \n",
       "350                           1.0   \n",
       "423                           0.6   \n",
       "88                            0.8   \n",
       "15                            0.2   \n",
       "25                            0.3   \n",
       "27                            0.3   \n",
       "48                            0.5   \n",
       "97                            0.9   \n",
       "24                            0.3   \n",
       "281                           0.4   \n",
       "146                           0.3   \n",
       "\n",
       "                             param_embedding_extractor  \\\n",
       "229  functools.partial(<function concat_cls_n_hidde...   \n",
       "52   functools.partial(<function concat_cls_n_hidde...   \n",
       "149  functools.partial(<function concat_cls_n_hidde...   \n",
       "210  functools.partial(<function concat_mean_n_hidd...   \n",
       "349  functools.partial(<function concat_cls_n_hidde...   \n",
       "352  functools.partial(<function concat_cls_n_hidde...   \n",
       "109  functools.partial(<function concat_cls_n_hidde...   \n",
       "38   functools.partial(<function concat_cls_n_hidde...   \n",
       "170  functools.partial(<function concat_cls_n_hidde...   \n",
       "350  functools.partial(<function concat_cls_n_hidde...   \n",
       "423  functools.partial(<function concat_cls_n_hidde...   \n",
       "88   functools.partial(<function concat_cls_n_hidde...   \n",
       "15   functools.partial(<function concat_cls_n_hidde...   \n",
       "25   functools.partial(<function concat_cls_n_hidde...   \n",
       "27   functools.partial(<function concat_cls_n_hidde...   \n",
       "48   functools.partial(<function concat_cls_n_hidde...   \n",
       "97   functools.partial(<function concat_cls_n_hidde...   \n",
       "24   functools.partial(<function concat_cls_n_hidde...   \n",
       "281  functools.partial(<function concat_cls_n_hidde...   \n",
       "146  functools.partial(<function concat_cls_n_hidde...   \n",
       "\n",
       "                best_matching  accuracy       ari       nmi  n  \\\n",
       "229  {0: 1, 1: 2, 2: 3, 3: 0}  0.868339  0.687084  0.651968  2   \n",
       "52   {0: 1, 1: 3, 2: 0, 3: 2}  0.865204  0.682562  0.653894  5   \n",
       "149  {0: 0, 1: 3, 2: 1, 3: 2}  0.865204  0.679371  0.649483  6   \n",
       "210  {0: 0, 1: 3, 2: 2, 3: 1}  0.862069  0.673072  0.639687  1   \n",
       "349  {0: 1, 1: 2, 2: 0, 3: 3}  0.858934  0.668971  0.637447  2   \n",
       "352  {0: 3, 1: 0, 2: 2, 3: 1}  0.858934  0.668720  0.641739  5   \n",
       "109  {0: 1, 1: 2, 2: 3, 3: 0}  0.857367  0.667855  0.638040  2   \n",
       "38   {0: 2, 1: 0, 2: 1, 3: 3}  0.857367  0.665686  0.637221  3   \n",
       "170  {0: 3, 1: 2, 2: 1, 3: 0}  0.855799  0.661693  0.634656  3   \n",
       "350  {0: 3, 1: 2, 2: 0, 3: 1}  0.855799  0.660729  0.630778  3   \n",
       "423  {0: 1, 1: 3, 2: 0, 3: 2}  0.854232  0.659698  0.633420  4   \n",
       "88   {0: 1, 1: 3, 2: 2, 3: 0}  0.854232  0.659001  0.631735  5   \n",
       "15   {0: 0, 1: 2, 2: 3, 3: 1}  0.854232  0.656884  0.626427  4   \n",
       "25   {0: 2, 1: 3, 2: 1, 3: 0}  0.852665  0.654464  0.628814  2   \n",
       "27   {0: 3, 1: 2, 2: 0, 3: 1}  0.851097  0.652174  0.623494  4   \n",
       "48   {0: 2, 1: 1, 2: 0, 3: 3}  0.849530  0.652180  0.625303  1   \n",
       "97   {0: 3, 1: 1, 2: 2, 3: 0}  0.849530  0.650787  0.621201  2   \n",
       "24   {0: 3, 1: 1, 2: 2, 3: 0}  0.849530  0.650437  0.624888  1   \n",
       "281  {0: 3, 1: 0, 2: 2, 3: 1}  0.847962  0.644629  0.611961  6   \n",
       "146  {0: 0, 1: 3, 2: 2, 3: 1}  0.847962  0.642740  0.610200  3   \n",
       "\n",
       "                       extractor  \n",
       "229   concat_cls_n_hidden_states  \n",
       "52    concat_cls_n_hidden_states  \n",
       "149   concat_cls_n_hidden_states  \n",
       "210  concat_mean_n_hidden_states  \n",
       "349   concat_cls_n_hidden_states  \n",
       "352   concat_cls_n_hidden_states  \n",
       "109   concat_cls_n_hidden_states  \n",
       "38    concat_cls_n_hidden_states  \n",
       "170   concat_cls_n_hidden_states  \n",
       "350   concat_cls_n_hidden_states  \n",
       "423   concat_cls_n_hidden_states  \n",
       "88    concat_cls_n_hidden_states  \n",
       "15    concat_cls_n_hidden_states  \n",
       "25    concat_cls_n_hidden_states  \n",
       "27    concat_cls_n_hidden_states  \n",
       "48    concat_cls_n_hidden_states  \n",
       "97    concat_cls_n_hidden_states  \n",
       "24    concat_cls_n_hidden_states  \n",
       "281   concat_cls_n_hidden_states  \n",
       "146   concat_cls_n_hidden_states  "
      ]
     },
     "execution_count": 45,
     "metadata": {},
     "output_type": "execute_result"
    }
   ],
   "source": [
    "top = df.sort_values(['accuracy', 'ari', 'nmi'], ascending=False).head(20)\n",
    "top"
   ]
  },
  {
   "cell_type": "code",
   "execution_count": 47,
   "metadata": {},
   "outputs": [
    {
     "data": {
      "text/plain": [
       "<AxesSubplot:ylabel='Frequency'>"
      ]
     },
     "execution_count": 47,
     "metadata": {},
     "output_type": "execute_result"
    },
    {
     "data": {
      "image/png": "[encoded data removed]",
      "text/plain": [
       "<Figure size 432x288 with 1 Axes>"
      ]
     },
     "metadata": {
      "needs_background": "light"
     },
     "output_type": "display_data"
    }
   ],
   "source": [
    "top.n.plot(kind='hist')"
   ]
  },
  {
   "cell_type": "code",
   "execution_count": 8,
   "metadata": {},
   "outputs": [
    {
     "data": {
      "text/plain": [
       "<AxesSubplot:>"
      ]
     },
     "execution_count": 8,
     "metadata": {},
     "output_type": "execute_result"
    },
    {
     "data": {
      "image/png": "[encoded data removed]",
      "text/plain": [
       "<Figure size 432x288 with 1 Axes>"
      ]
     },
     "metadata": {
      "needs_background": "light"
     },
     "output_type": "display_data"
    }
   ],
   "source": [
    "top.reset_index().accuracy.plot()"
   ]
  },
  {
   "cell_type": "code",
   "execution_count": 9,
   "metadata": {},
   "outputs": [
    {
     "data": {
      "text/plain": [
       "<AxesSubplot:>"
      ]
     },
     "execution_count": 9,
     "metadata": {},
     "output_type": "execute_result"
    },
    {
     "data": {
      "image/png": "[encoded data removed]",
      "text/plain": [
       "<Figure size 432x288 with 1 Axes>"
      ]
     },
     "metadata": {
      "needs_background": "light"
     },
     "output_type": "display_data"
    }
   ],
   "source": [
    "top.reset_index().ari.plot()"
   ]
  },
  {
   "cell_type": "code",
   "execution_count": 10,
   "metadata": {},
   "outputs": [
    {
     "data": {
      "text/plain": [
       "<AxesSubplot:>"
      ]
     },
     "execution_count": 10,
     "metadata": {},
     "output_type": "execute_result"
    },
    {
     "data": {
      "image/png": "[encoded data removed]",
      "text/plain": [
       "<Figure size 432x288 with 1 Axes>"
      ]
     },
     "metadata": {
      "needs_background": "light"
     },
     "output_type": "display_data"
    }
   ],
   "source": [
    "top.reset_index().nmi.plot()"
   ]
  },
  {
   "cell_type": "code",
   "execution_count": 11,
   "metadata": {},
   "outputs": [
    {
     "data": {
      "text/html": [
       "<div>\n",
       "<style scoped>\n",
       "    .dataframe tbody tr th:only-of-type {\n",
       "        vertical-align: middle;\n",
       "    }\n",
       "\n",
       "    .dataframe tbody tr th {\n",
       "        vertical-align: top;\n",
       "    }\n",
       "\n",
       "    .dataframe thead th {\n",
       "        text-align: right;\n",
       "    }\n",
       "</style>\n",
       "<table border=\"1\" class=\"dataframe\">\n",
       "  <thead>\n",
       "    <tr style=\"text-align: right;\">\n",
       "      <th></th>\n",
       "      <th>param_annealing_alphas</th>\n",
       "      <th>param_clustering_loss_weight</th>\n",
       "      <th>param_embedding_extractor</th>\n",
       "      <th>best_matching</th>\n",
       "      <th>accuracy</th>\n",
       "      <th>ari</th>\n",
       "      <th>nmi</th>\n",
       "      <th>n</th>\n",
       "      <th>extractor</th>\n",
       "    </tr>\n",
       "  </thead>\n",
       "  <tbody>\n",
       "    <tr>\n",
       "      <th>288</th>\n",
       "      <td>[1. 1. 1. 1. 1. 1. 1. 1. 1. 1.]</td>\n",
       "      <td>0.5</td>\n",
       "      <td>functools.partial(&lt;function concat_cls_n_hidde...</td>\n",
       "      <td>{0: 0, 1: 1, 2: 3, 3: 2}</td>\n",
       "      <td>0.271160</td>\n",
       "      <td>-0.000374</td>\n",
       "      <td>0.005788</td>\n",
       "      <td>1</td>\n",
       "      <td>concat_cls_n_hidden_states</td>\n",
       "    </tr>\n",
       "    <tr>\n",
       "      <th>282</th>\n",
       "      <td>[1. 1. 1. 1. 1. 1. 1. 1. 1. 1.]</td>\n",
       "      <td>0.4</td>\n",
       "      <td>functools.partial(&lt;function concat_mean_n_hidd...</td>\n",
       "      <td>{0: 3, 1: 1, 2: 2, 3: 0}</td>\n",
       "      <td>0.272727</td>\n",
       "      <td>-0.001664</td>\n",
       "      <td>0.003709</td>\n",
       "      <td>1</td>\n",
       "      <td>concat_mean_n_hidden_states</td>\n",
       "    </tr>\n",
       "    <tr>\n",
       "      <th>366</th>\n",
       "      <td>[0.1        0.42320861 0.75156841 1.07797116 1...</td>\n",
       "      <td>0.1</td>\n",
       "      <td>functools.partial(&lt;function concat_mean_n_hidd...</td>\n",
       "      <td>{0: 0, 1: 2, 2: 1, 3: 3}</td>\n",
       "      <td>0.274295</td>\n",
       "      <td>-0.000679</td>\n",
       "      <td>0.029506</td>\n",
       "      <td>1</td>\n",
       "      <td>concat_mean_n_hidden_states</td>\n",
       "    </tr>\n",
       "    <tr>\n",
       "      <th>270</th>\n",
       "      <td>[1. 1. 1. 1. 1. 1. 1. 1. 1. 1.]</td>\n",
       "      <td>0.3</td>\n",
       "      <td>functools.partial(&lt;function concat_mean_n_hidd...</td>\n",
       "      <td>{0: 0, 1: 3, 2: 1, 3: 2}</td>\n",
       "      <td>0.274295</td>\n",
       "      <td>0.000000</td>\n",
       "      <td>0.000000</td>\n",
       "      <td>1</td>\n",
       "      <td>concat_mean_n_hidden_states</td>\n",
       "    </tr>\n",
       "    <tr>\n",
       "      <th>360</th>\n",
       "      <td>[0.1        0.42320861 0.75156841 1.07797116 1...</td>\n",
       "      <td>0.1</td>\n",
       "      <td>functools.partial(&lt;function concat_cls_n_hidde...</td>\n",
       "      <td>{0: 0, 1: 3, 2: 1, 3: 2}</td>\n",
       "      <td>0.274295</td>\n",
       "      <td>0.000000</td>\n",
       "      <td>0.000000</td>\n",
       "      <td>1</td>\n",
       "      <td>concat_cls_n_hidden_states</td>\n",
       "    </tr>\n",
       "    <tr>\n",
       "      <th>361</th>\n",
       "      <td>[0.1        0.42320861 0.75156841 1.07797116 1...</td>\n",
       "      <td>0.1</td>\n",
       "      <td>functools.partial(&lt;function concat_cls_n_hidde...</td>\n",
       "      <td>{0: 0, 1: 3, 2: 1, 3: 2}</td>\n",
       "      <td>0.274295</td>\n",
       "      <td>0.000000</td>\n",
       "      <td>0.000000</td>\n",
       "      <td>2</td>\n",
       "      <td>concat_cls_n_hidden_states</td>\n",
       "    </tr>\n",
       "    <tr>\n",
       "      <th>372</th>\n",
       "      <td>[0.1        0.42320861 0.75156841 1.07797116 1...</td>\n",
       "      <td>0.2</td>\n",
       "      <td>functools.partial(&lt;function concat_cls_n_hidde...</td>\n",
       "      <td>{0: 0, 1: 3, 2: 1, 3: 2}</td>\n",
       "      <td>0.274295</td>\n",
       "      <td>0.000000</td>\n",
       "      <td>0.000000</td>\n",
       "      <td>1</td>\n",
       "      <td>concat_cls_n_hidden_states</td>\n",
       "    </tr>\n",
       "    <tr>\n",
       "      <th>373</th>\n",
       "      <td>[0.1        0.42320861 0.75156841 1.07797116 1...</td>\n",
       "      <td>0.2</td>\n",
       "      <td>functools.partial(&lt;function concat_cls_n_hidde...</td>\n",
       "      <td>{0: 0, 1: 1, 2: 3, 3: 2}</td>\n",
       "      <td>0.274295</td>\n",
       "      <td>0.000000</td>\n",
       "      <td>0.000000</td>\n",
       "      <td>2</td>\n",
       "      <td>concat_cls_n_hidden_states</td>\n",
       "    </tr>\n",
       "    <tr>\n",
       "      <th>378</th>\n",
       "      <td>[0.1        0.42320861 0.75156841 1.07797116 1...</td>\n",
       "      <td>0.2</td>\n",
       "      <td>functools.partial(&lt;function concat_mean_n_hidd...</td>\n",
       "      <td>{0: 0, 1: 1, 2: 3, 3: 2}</td>\n",
       "      <td>0.274295</td>\n",
       "      <td>0.000000</td>\n",
       "      <td>0.000000</td>\n",
       "      <td>1</td>\n",
       "      <td>concat_mean_n_hidden_states</td>\n",
       "    </tr>\n",
       "    <tr>\n",
       "      <th>384</th>\n",
       "      <td>[0.1        0.42320861 0.75156841 1.07797116 1...</td>\n",
       "      <td>0.3</td>\n",
       "      <td>functools.partial(&lt;function concat_cls_n_hidde...</td>\n",
       "      <td>{0: 0, 1: 1, 2: 3, 3: 2}</td>\n",
       "      <td>0.274295</td>\n",
       "      <td>0.000000</td>\n",
       "      <td>0.000000</td>\n",
       "      <td>1</td>\n",
       "      <td>concat_cls_n_hidden_states</td>\n",
       "    </tr>\n",
       "    <tr>\n",
       "      <th>390</th>\n",
       "      <td>[0.1        0.42320861 0.75156841 1.07797116 1...</td>\n",
       "      <td>0.3</td>\n",
       "      <td>functools.partial(&lt;function concat_mean_n_hidd...</td>\n",
       "      <td>{0: 3, 1: 0, 2: 1, 3: 2}</td>\n",
       "      <td>0.274295</td>\n",
       "      <td>0.000000</td>\n",
       "      <td>0.000000</td>\n",
       "      <td>1</td>\n",
       "      <td>concat_mean_n_hidden_states</td>\n",
       "    </tr>\n",
       "    <tr>\n",
       "      <th>396</th>\n",
       "      <td>[0.1        0.42320861 0.75156841 1.07797116 1...</td>\n",
       "      <td>0.4</td>\n",
       "      <td>functools.partial(&lt;function concat_cls_n_hidde...</td>\n",
       "      <td>{0: 0, 1: 3, 2: 1, 3: 2}</td>\n",
       "      <td>0.274295</td>\n",
       "      <td>0.000000</td>\n",
       "      <td>0.000000</td>\n",
       "      <td>1</td>\n",
       "      <td>concat_cls_n_hidden_states</td>\n",
       "    </tr>\n",
       "    <tr>\n",
       "      <th>398</th>\n",
       "      <td>[0.1        0.42320861 0.75156841 1.07797116 1...</td>\n",
       "      <td>0.4</td>\n",
       "      <td>functools.partial(&lt;function concat_cls_n_hidde...</td>\n",
       "      <td>{0: 0, 1: 3, 2: 1, 3: 2}</td>\n",
       "      <td>0.274295</td>\n",
       "      <td>0.000000</td>\n",
       "      <td>0.000000</td>\n",
       "      <td>3</td>\n",
       "      <td>concat_cls_n_hidden_states</td>\n",
       "    </tr>\n",
       "    <tr>\n",
       "      <th>408</th>\n",
       "      <td>[0.1        0.42320861 0.75156841 1.07797116 1...</td>\n",
       "      <td>0.5</td>\n",
       "      <td>functools.partial(&lt;function concat_cls_n_hidde...</td>\n",
       "      <td>{0: 0, 1: 1, 2: 2, 3: 3}</td>\n",
       "      <td>0.274295</td>\n",
       "      <td>0.000000</td>\n",
       "      <td>0.000000</td>\n",
       "      <td>1</td>\n",
       "      <td>concat_cls_n_hidden_states</td>\n",
       "    </tr>\n",
       "    <tr>\n",
       "      <th>410</th>\n",
       "      <td>[0.1        0.42320861 0.75156841 1.07797116 1...</td>\n",
       "      <td>0.5</td>\n",
       "      <td>functools.partial(&lt;function concat_cls_n_hidde...</td>\n",
       "      <td>{0: 0, 1: 3, 2: 1, 3: 2}</td>\n",
       "      <td>0.274295</td>\n",
       "      <td>0.000000</td>\n",
       "      <td>0.000000</td>\n",
       "      <td>3</td>\n",
       "      <td>concat_cls_n_hidden_states</td>\n",
       "    </tr>\n",
       "    <tr>\n",
       "      <th>414</th>\n",
       "      <td>[0.1        0.42320861 0.75156841 1.07797116 1...</td>\n",
       "      <td>0.5</td>\n",
       "      <td>functools.partial(&lt;function concat_mean_n_hidd...</td>\n",
       "      <td>{0: 0, 1: 3, 2: 1, 3: 2}</td>\n",
       "      <td>0.274295</td>\n",
       "      <td>0.000000</td>\n",
       "      <td>0.000000</td>\n",
       "      <td>1</td>\n",
       "      <td>concat_mean_n_hidden_states</td>\n",
       "    </tr>\n",
       "    <tr>\n",
       "      <th>420</th>\n",
       "      <td>[0.1        0.42320861 0.75156841 1.07797116 1...</td>\n",
       "      <td>0.6</td>\n",
       "      <td>functools.partial(&lt;function concat_cls_n_hidde...</td>\n",
       "      <td>{0: 0, 1: 3, 2: 1, 3: 2}</td>\n",
       "      <td>0.274295</td>\n",
       "      <td>0.000000</td>\n",
       "      <td>0.000000</td>\n",
       "      <td>1</td>\n",
       "      <td>concat_cls_n_hidden_states</td>\n",
       "    </tr>\n",
       "    <tr>\n",
       "      <th>425</th>\n",
       "      <td>[0.1        0.42320861 0.75156841 1.07797116 1...</td>\n",
       "      <td>0.6</td>\n",
       "      <td>functools.partial(&lt;function concat_cls_n_hidde...</td>\n",
       "      <td>{0: 0, 1: 3, 2: 1, 3: 2}</td>\n",
       "      <td>0.274295</td>\n",
       "      <td>0.000000</td>\n",
       "      <td>0.000000</td>\n",
       "      <td>6</td>\n",
       "      <td>concat_cls_n_hidden_states</td>\n",
       "    </tr>\n",
       "    <tr>\n",
       "      <th>426</th>\n",
       "      <td>[0.1        0.42320861 0.75156841 1.07797116 1...</td>\n",
       "      <td>0.6</td>\n",
       "      <td>functools.partial(&lt;function concat_mean_n_hidd...</td>\n",
       "      <td>{0: 0, 1: 3, 2: 1, 3: 2}</td>\n",
       "      <td>0.274295</td>\n",
       "      <td>0.000000</td>\n",
       "      <td>0.000000</td>\n",
       "      <td>1</td>\n",
       "      <td>concat_mean_n_hidden_states</td>\n",
       "    </tr>\n",
       "    <tr>\n",
       "      <th>432</th>\n",
       "      <td>[0.1        0.42320861 0.75156841 1.07797116 1...</td>\n",
       "      <td>0.7</td>\n",
       "      <td>functools.partial(&lt;function concat_cls_n_hidde...</td>\n",
       "      <td>{0: 0, 1: 3, 2: 1, 3: 2}</td>\n",
       "      <td>0.274295</td>\n",
       "      <td>0.000000</td>\n",
       "      <td>0.000000</td>\n",
       "      <td>1</td>\n",
       "      <td>concat_cls_n_hidden_states</td>\n",
       "    </tr>\n",
       "  </tbody>\n",
       "</table>\n",
       "</div>"
      ],
      "text/plain": [
       "                                param_annealing_alphas  \\\n",
       "288                    [1. 1. 1. 1. 1. 1. 1. 1. 1. 1.]   \n",
       "282                    [1. 1. 1. 1. 1. 1. 1. 1. 1. 1.]   \n",
       "366  [0.1        0.42320861 0.75156841 1.07797116 1...   \n",
       "270                    [1. 1. 1. 1. 1. 1. 1. 1. 1. 1.]   \n",
       "360  [0.1        0.42320861 0.75156841 1.07797116 1...   \n",
       "361  [0.1        0.42320861 0.75156841 1.07797116 1...   \n",
       "372  [0.1        0.42320861 0.75156841 1.07797116 1...   \n",
       "373  [0.1        0.42320861 0.75156841 1.07797116 1...   \n",
       "378  [0.1        0.42320861 0.75156841 1.07797116 1...   \n",
       "384  [0.1        0.42320861 0.75156841 1.07797116 1...   \n",
       "390  [0.1        0.42320861 0.75156841 1.07797116 1...   \n",
       "396  [0.1        0.42320861 0.75156841 1.07797116 1...   \n",
       "398  [0.1        0.42320861 0.75156841 1.07797116 1...   \n",
       "408  [0.1        0.42320861 0.75156841 1.07797116 1...   \n",
       "410  [0.1        0.42320861 0.75156841 1.07797116 1...   \n",
       "414  [0.1        0.42320861 0.75156841 1.07797116 1...   \n",
       "420  [0.1        0.42320861 0.75156841 1.07797116 1...   \n",
       "425  [0.1        0.42320861 0.75156841 1.07797116 1...   \n",
       "426  [0.1        0.42320861 0.75156841 1.07797116 1...   \n",
       "432  [0.1        0.42320861 0.75156841 1.07797116 1...   \n",
       "\n",
       "     param_clustering_loss_weight  \\\n",
       "288                           0.5   \n",
       "282                           0.4   \n",
       "366                           0.1   \n",
       "270                           0.3   \n",
       "360                           0.1   \n",
       "361                           0.1   \n",
       "372                           0.2   \n",
       "373                           0.2   \n",
       "378                           0.2   \n",
       "384                           0.3   \n",
       "390                           0.3   \n",
       "396                           0.4   \n",
       "398                           0.4   \n",
       "408                           0.5   \n",
       "410                           0.5   \n",
       "414                           0.5   \n",
       "420                           0.6   \n",
       "425                           0.6   \n",
       "426                           0.6   \n",
       "432                           0.7   \n",
       "\n",
       "                             param_embedding_extractor  \\\n",
       "288  functools.partial(<function concat_cls_n_hidde...   \n",
       "282  functools.partial(<function concat_mean_n_hidd...   \n",
       "366  functools.partial(<function concat_mean_n_hidd...   \n",
       "270  functools.partial(<function concat_mean_n_hidd...   \n",
       "360  functools.partial(<function concat_cls_n_hidde...   \n",
       "361  functools.partial(<function concat_cls_n_hidde...   \n",
       "372  functools.partial(<function concat_cls_n_hidde...   \n",
       "373  functools.partial(<function concat_cls_n_hidde...   \n",
       "378  functools.partial(<function concat_mean_n_hidd...   \n",
       "384  functools.partial(<function concat_cls_n_hidde...   \n",
       "390  functools.partial(<function concat_mean_n_hidd...   \n",
       "396  functools.partial(<function concat_cls_n_hidde...   \n",
       "398  functools.partial(<function concat_cls_n_hidde...   \n",
       "408  functools.partial(<function concat_cls_n_hidde...   \n",
       "410  functools.partial(<function concat_cls_n_hidde...   \n",
       "414  functools.partial(<function concat_mean_n_hidd...   \n",
       "420  functools.partial(<function concat_cls_n_hidde...   \n",
       "425  functools.partial(<function concat_cls_n_hidde...   \n",
       "426  functools.partial(<function concat_mean_n_hidd...   \n",
       "432  functools.partial(<function concat_cls_n_hidde...   \n",
       "\n",
       "                best_matching  accuracy       ari       nmi  n  \\\n",
       "288  {0: 0, 1: 1, 2: 3, 3: 2}  0.271160 -0.000374  0.005788  1   \n",
       "282  {0: 3, 1: 1, 2: 2, 3: 0}  0.272727 -0.001664  0.003709  1   \n",
       "366  {0: 0, 1: 2, 2: 1, 3: 3}  0.274295 -0.000679  0.029506  1   \n",
       "270  {0: 0, 1: 3, 2: 1, 3: 2}  0.274295  0.000000  0.000000  1   \n",
       "360  {0: 0, 1: 3, 2: 1, 3: 2}  0.274295  0.000000  0.000000  1   \n",
       "361  {0: 0, 1: 3, 2: 1, 3: 2}  0.274295  0.000000  0.000000  2   \n",
       "372  {0: 0, 1: 3, 2: 1, 3: 2}  0.274295  0.000000  0.000000  1   \n",
       "373  {0: 0, 1: 1, 2: 3, 3: 2}  0.274295  0.000000  0.000000  2   \n",
       "378  {0: 0, 1: 1, 2: 3, 3: 2}  0.274295  0.000000  0.000000  1   \n",
       "384  {0: 0, 1: 1, 2: 3, 3: 2}  0.274295  0.000000  0.000000  1   \n",
       "390  {0: 3, 1: 0, 2: 1, 3: 2}  0.274295  0.000000  0.000000  1   \n",
       "396  {0: 0, 1: 3, 2: 1, 3: 2}  0.274295  0.000000  0.000000  1   \n",
       "398  {0: 0, 1: 3, 2: 1, 3: 2}  0.274295  0.000000  0.000000  3   \n",
       "408  {0: 0, 1: 1, 2: 2, 3: 3}  0.274295  0.000000  0.000000  1   \n",
       "410  {0: 0, 1: 3, 2: 1, 3: 2}  0.274295  0.000000  0.000000  3   \n",
       "414  {0: 0, 1: 3, 2: 1, 3: 2}  0.274295  0.000000  0.000000  1   \n",
       "420  {0: 0, 1: 3, 2: 1, 3: 2}  0.274295  0.000000  0.000000  1   \n",
       "425  {0: 0, 1: 3, 2: 1, 3: 2}  0.274295  0.000000  0.000000  6   \n",
       "426  {0: 0, 1: 3, 2: 1, 3: 2}  0.274295  0.000000  0.000000  1   \n",
       "432  {0: 0, 1: 3, 2: 1, 3: 2}  0.274295  0.000000  0.000000  1   \n",
       "\n",
       "                       extractor  \n",
       "288   concat_cls_n_hidden_states  \n",
       "282  concat_mean_n_hidden_states  \n",
       "366  concat_mean_n_hidden_states  \n",
       "270  concat_mean_n_hidden_states  \n",
       "360   concat_cls_n_hidden_states  \n",
       "361   concat_cls_n_hidden_states  \n",
       "372   concat_cls_n_hidden_states  \n",
       "373   concat_cls_n_hidden_states  \n",
       "378  concat_mean_n_hidden_states  \n",
       "384   concat_cls_n_hidden_states  \n",
       "390  concat_mean_n_hidden_states  \n",
       "396   concat_cls_n_hidden_states  \n",
       "398   concat_cls_n_hidden_states  \n",
       "408   concat_cls_n_hidden_states  \n",
       "410   concat_cls_n_hidden_states  \n",
       "414  concat_mean_n_hidden_states  \n",
       "420   concat_cls_n_hidden_states  \n",
       "425   concat_cls_n_hidden_states  \n",
       "426  concat_mean_n_hidden_states  \n",
       "432   concat_cls_n_hidden_states  "
      ]
     },
     "execution_count": 11,
     "metadata": {},
     "output_type": "execute_result"
    }
   ],
   "source": [
    "low = df.sort_values(['accuracy', 'ari', 'nmi'], ascending=True).head(20)\n",
    "low"
   ]
  },
  {
   "cell_type": "code",
   "execution_count": 12,
   "metadata": {},
   "outputs": [
    {
     "data": {
      "text/plain": [
       "count    480.000000\n",
       "mean       0.627890\n",
       "std        0.191405\n",
       "min        0.271160\n",
       "25%        0.512147\n",
       "50%        0.688088\n",
       "75%        0.791536\n",
       "max        0.868339\n",
       "Name: accuracy, dtype: float64"
      ]
     },
     "execution_count": 12,
     "metadata": {},
     "output_type": "execute_result"
    }
   ],
   "source": [
    "df.accuracy.describe()"
   ]
  },
  {
   "cell_type": "code",
   "execution_count": 13,
   "metadata": {},
   "outputs": [
    {
     "data": {
      "text/plain": [
       "<AxesSubplot:>"
      ]
     },
     "execution_count": 13,
     "metadata": {},
     "output_type": "execute_result"
    },
    {
     "data": {
      "image/png": "[encoded data removed]",
      "text/plain": [
       "<Figure size 432x288 with 1 Axes>"
      ]
     },
     "metadata": {
      "needs_background": "light"
     },
     "output_type": "display_data"
    }
   ],
   "source": [
    "df.accuracy.hist(bins=50)"
   ]
  },
  {
   "cell_type": "code",
   "execution_count": 14,
   "metadata": {},
   "outputs": [
    {
     "data": {
      "text/html": [
       "<div>\n",
       "<style scoped>\n",
       "    .dataframe tbody tr th:only-of-type {\n",
       "        vertical-align: middle;\n",
       "    }\n",
       "\n",
       "    .dataframe tbody tr th {\n",
       "        vertical-align: top;\n",
       "    }\n",
       "\n",
       "    .dataframe thead th {\n",
       "        text-align: right;\n",
       "    }\n",
       "</style>\n",
       "<table border=\"1\" class=\"dataframe\">\n",
       "  <thead>\n",
       "    <tr style=\"text-align: right;\">\n",
       "      <th></th>\n",
       "      <th>count</th>\n",
       "      <th>mean</th>\n",
       "      <th>std</th>\n",
       "      <th>min</th>\n",
       "      <th>25%</th>\n",
       "      <th>50%</th>\n",
       "      <th>75%</th>\n",
       "      <th>max</th>\n",
       "    </tr>\n",
       "    <tr>\n",
       "      <th>param_annealing_alphas</th>\n",
       "      <th></th>\n",
       "      <th></th>\n",
       "      <th></th>\n",
       "      <th></th>\n",
       "      <th></th>\n",
       "      <th></th>\n",
       "      <th></th>\n",
       "      <th></th>\n",
       "    </tr>\n",
       "  </thead>\n",
       "  <tbody>\n",
       "    <tr>\n",
       "      <th>[ 1.  2.  3.  4.  5.  6.  7.  8.  9. 10.]</th>\n",
       "      <td>120.0</td>\n",
       "      <td>0.686351</td>\n",
       "      <td>0.135310</td>\n",
       "      <td>0.283699</td>\n",
       "      <td>0.592476</td>\n",
       "      <td>0.711599</td>\n",
       "      <td>0.802900</td>\n",
       "      <td>0.865204</td>\n",
       "    </tr>\n",
       "    <tr>\n",
       "      <th>[0.1        0.42320861 0.75156841 1.07797116 1.40871101 1.74819141\\n 2.09936739 2.46436829 2.84484834 3.24217832]</th>\n",
       "      <td>120.0</td>\n",
       "      <td>0.421108</td>\n",
       "      <td>0.195003</td>\n",
       "      <td>0.274295</td>\n",
       "      <td>0.274295</td>\n",
       "      <td>0.300157</td>\n",
       "      <td>0.523903</td>\n",
       "      <td>0.854232</td>\n",
       "    </tr>\n",
       "    <tr>\n",
       "      <th>[1. 1. 1. 1. 1. 1. 1. 1. 1. 1.]</th>\n",
       "      <td>120.0</td>\n",
       "      <td>0.687526</td>\n",
       "      <td>0.143518</td>\n",
       "      <td>0.271160</td>\n",
       "      <td>0.610502</td>\n",
       "      <td>0.720219</td>\n",
       "      <td>0.799765</td>\n",
       "      <td>0.858934</td>\n",
       "    </tr>\n",
       "    <tr>\n",
       "      <th>[1000. 1000. 1000. 1000. 1000. 1000. 1000. 1000. 1000. 1000.]</th>\n",
       "      <td>120.0</td>\n",
       "      <td>0.716575</td>\n",
       "      <td>0.111589</td>\n",
       "      <td>0.429467</td>\n",
       "      <td>0.643809</td>\n",
       "      <td>0.752351</td>\n",
       "      <td>0.804859</td>\n",
       "      <td>0.868339</td>\n",
       "    </tr>\n",
       "  </tbody>\n",
       "</table>\n",
       "</div>"
      ],
      "text/plain": [
       "                                                    count      mean       std  \\\n",
       "param_annealing_alphas                                                          \n",
       "[ 1.  2.  3.  4.  5.  6.  7.  8.  9. 10.]           120.0  0.686351  0.135310   \n",
       "[0.1        0.42320861 0.75156841 1.07797116 1....  120.0  0.421108  0.195003   \n",
       "[1. 1. 1. 1. 1. 1. 1. 1. 1. 1.]                     120.0  0.687526  0.143518   \n",
       "[1000. 1000. 1000. 1000. 1000. 1000. 1000. 1000...  120.0  0.716575  0.111589   \n",
       "\n",
       "                                                         min       25%  \\\n",
       "param_annealing_alphas                                                   \n",
       "[ 1.  2.  3.  4.  5.  6.  7.  8.  9. 10.]           0.283699  0.592476   \n",
       "[0.1        0.42320861 0.75156841 1.07797116 1....  0.274295  0.274295   \n",
       "[1. 1. 1. 1. 1. 1. 1. 1. 1. 1.]                     0.271160  0.610502   \n",
       "[1000. 1000. 1000. 1000. 1000. 1000. 1000. 1000...  0.429467  0.643809   \n",
       "\n",
       "                                                         50%       75%  \\\n",
       "param_annealing_alphas                                                   \n",
       "[ 1.  2.  3.  4.  5.  6.  7.  8.  9. 10.]           0.711599  0.802900   \n",
       "[0.1        0.42320861 0.75156841 1.07797116 1....  0.300157  0.523903   \n",
       "[1. 1. 1. 1. 1. 1. 1. 1. 1. 1.]                     0.720219  0.799765   \n",
       "[1000. 1000. 1000. 1000. 1000. 1000. 1000. 1000...  0.752351  0.804859   \n",
       "\n",
       "                                                         max  \n",
       "param_annealing_alphas                                        \n",
       "[ 1.  2.  3.  4.  5.  6.  7.  8.  9. 10.]           0.865204  \n",
       "[0.1        0.42320861 0.75156841 1.07797116 1....  0.854232  \n",
       "[1. 1. 1. 1. 1. 1. 1. 1. 1. 1.]                     0.858934  \n",
       "[1000. 1000. 1000. 1000. 1000. 1000. 1000. 1000...  0.868339  "
      ]
     },
     "execution_count": 14,
     "metadata": {},
     "output_type": "execute_result"
    }
   ],
   "source": [
    "df.groupby('param_annealing_alphas').accuracy.describe()"
   ]
  },
  {
   "cell_type": "code",
   "execution_count": 15,
   "metadata": {},
   "outputs": [
    {
     "data": {
      "text/plain": [
       "86"
      ]
     },
     "execution_count": 15,
     "metadata": {},
     "output_type": "execute_result"
    }
   ],
   "source": [
    "df.groupby(\n",
    "    [\n",
    "        'param_clustering_loss_weight',\n",
    "        'param_annealing_alphas',\n",
    "        'n'\n",
    "    ]\n",
    ").accuracy.mean().argmax()"
   ]
  },
  {
   "cell_type": "code",
   "execution_count": 16,
   "metadata": {},
   "outputs": [
    {
     "data": {
      "text/plain": [
       "accuracy  count    2.000000\n",
       "          mean     0.836207\n",
       "          std      0.003325\n",
       "          min      0.833856\n",
       "          25%      0.835031\n",
       "          50%      0.836207\n",
       "          75%      0.837382\n",
       "          max      0.838558\n",
       "ari       count    2.000000\n",
       "          mean     0.621828\n",
       "          std      0.009905\n",
       "          min      0.614824\n",
       "          25%      0.618326\n",
       "          50%      0.621828\n",
       "          75%      0.625330\n",
       "          max      0.628832\n",
       "nmi       count    2.000000\n",
       "          mean     0.596158\n",
       "          std      0.015327\n",
       "          min      0.585321\n",
       "          25%      0.590739\n",
       "          50%      0.596158\n",
       "          75%      0.601577\n",
       "          max      0.606996\n",
       "Name: (0.4, [1. 1. 1. 1. 1. 1. 1. 1. 1. 1.], 3), dtype: float64"
      ]
     },
     "execution_count": 16,
     "metadata": {},
     "output_type": "execute_result"
    }
   ],
   "source": [
    "df.groupby(\n",
    "    [\n",
    "        'param_clustering_loss_weight',\n",
    "        'param_annealing_alphas',\n",
    "        'n'\n",
    "    ]\n",
    ").describe().iloc[df.groupby(\n",
    "    [\n",
    "        'param_clustering_loss_weight',\n",
    "        'param_annealing_alphas',\n",
    "        'n'\n",
    "    ]\n",
    ").accuracy.mean().argmax()]"
   ]
  },
  {
   "cell_type": "code",
   "execution_count": 17,
   "metadata": {},
   "outputs": [
    {
     "data": {
      "text/plain": [
       "<AxesSubplot:>"
      ]
     },
     "execution_count": 17,
     "metadata": {},
     "output_type": "execute_result"
    },
    {
     "data": {
      "image/png": "[encoded data removed]",
      "text/plain": [
       "<Figure size 432x288 with 1 Axes>"
      ]
     },
     "metadata": {
      "needs_background": "light"
     },
     "output_type": "display_data"
    }
   ],
   "source": [
    "df[df['n']==1].boxplot('accuracy')"
   ]
  },
  {
   "cell_type": "code",
   "execution_count": 18,
   "metadata": {},
   "outputs": [
    {
     "data": {
      "text/plain": [
       "<AxesSubplot:xlabel='n', ylabel='accuracy'>"
      ]
     },
     "execution_count": 18,
     "metadata": {},
     "output_type": "execute_result"
    },
    {
     "data": {
      "image/png": "[encoded data removed]",
      "text/plain": [
       "<Figure size 432x288 with 1 Axes>"
      ]
     },
     "metadata": {
      "needs_background": "light"
     },
     "output_type": "display_data"
    }
   ],
   "source": [
    "sns.boxplot(x='n', y='accuracy', data=df)"
   ]
  },
  {
   "cell_type": "code",
   "execution_count": 19,
   "metadata": {},
   "outputs": [
    {
     "data": {
      "text/plain": [
       "<AxesSubplot:xlabel='param_clustering_loss_weight', ylabel='accuracy'>"
      ]
     },
     "execution_count": 19,
     "metadata": {},
     "output_type": "execute_result"
    },
    {
     "data": {
      "image/png": "[encoded data removed]",
      "text/plain": [
       "<Figure size 432x288 with 1 Axes>"
      ]
     },
     "metadata": {
      "needs_background": "light"
     },
     "output_type": "display_data"
    }
   ],
   "source": [
    "sns.boxplot(x='param_clustering_loss_weight', y='accuracy', data=df)"
   ]
  },
  {
   "cell_type": "code",
   "execution_count": 20,
   "metadata": {},
   "outputs": [
    {
     "data": {
      "text/plain": [
       "[Text(0, 0, '[ 1.  2.  3.  4.  5.  6.  7.  8.  9. 10.]'),\n",
       " Text(1, 0, '[1000. 1000. 1000. 1000. 1000. 1000. 1000. 1000. 1000. 1000.]'),\n",
       " Text(2, 0, '[1. 1. 1. 1. 1. 1. 1. 1. 1. 1.]'),\n",
       " Text(3, 0, '[0.1        0.42320861 0.75156841 1.07797116 1.40871101 1.74819141\\n 2.09936739 2.46436829 2.84484834 3.24217832]')]"
      ]
     },
     "execution_count": 20,
     "metadata": {},
     "output_type": "execute_result"
    },
    {
     "data": {
      "image/png": "[encoded data removed]",
      "text/plain": [
       "<Figure size 432x288 with 1 Axes>"
      ]
     },
     "metadata": {
      "needs_background": "light"
     },
     "output_type": "display_data"
    }
   ],
   "source": [
    "g = sns.boxplot(x='param_annealing_alphas', y='accuracy', data=df)\n",
    "g.set_xticklabels(g.get_xticklabels(), rotation=90)"
   ]
  },
  {
   "cell_type": "code",
   "execution_count": 21,
   "metadata": {},
   "outputs": [
    {
     "data": {
      "text/plain": [
       "<AxesSubplot:xlabel='extractor', ylabel='accuracy'>"
      ]
     },
     "execution_count": 21,
     "metadata": {},
     "output_type": "execute_result"
    },
    {
     "data": {
      "image/png": "[encoded data removed]",
      "text/plain": [
       "<Figure size 432x288 with 1 Axes>"
      ]
     },
     "metadata": {
      "needs_background": "light"
     },
     "output_type": "display_data"
    }
   ],
   "source": [
    "sns.boxplot(x='extractor', y='accuracy', data=df)"
   ]
  },
  {
   "cell_type": "code",
   "execution_count": 22,
   "metadata": {},
   "outputs": [
    {
     "name": "stdout",
     "output_type": "stream",
     "text": [
      "param_annealing_alphas: [0.1        0.42320861 0.75156841 1.07797116 1.40871101 1.74819141\n",
      " 2.09936739 2.46436829 2.84484834 3.24217832]\n",
      "param_clustering_loss_weight: 0.6\n",
      "n: 5\n",
      "extractor: concat_cls_n_hidden_states\n"
     ]
    }
   ],
   "source": [
    "for param in ['param_annealing_alphas', 'param_clustering_loss_weight', 'n', 'extractor']:\n",
    "    best_mean = df[param].unique()[df.groupby(param).accuracy.mean().argmax()]\n",
    "    print(f'{param}: {best_mean}')"
   ]
  },
  {
   "cell_type": "code",
   "execution_count": 23,
   "metadata": {},
   "outputs": [
    {
     "name": "stdout",
     "output_type": "stream",
     "text": [
      "param_clustering_loss_weight  count    120.000000\n",
      "                              mean       0.550000\n",
      "                              std        0.288432\n",
      "                              min        0.100000\n",
      "                              25%        0.300000\n",
      "                              50%        0.550000\n",
      "                              75%        0.800000\n",
      "                              max        1.000000\n",
      "accuracy                      count    120.000000\n",
      "                              mean       0.686351\n",
      "                              std        0.135310\n",
      "                              min        0.283699\n",
      "                              25%        0.592476\n",
      "                              50%        0.711599\n",
      "                              75%        0.802900\n",
      "                              max        0.865204\n",
      "ari                           count    120.000000\n",
      "                              mean       0.442291\n",
      "                              std        0.159737\n",
      "                              min        0.001814\n",
      "                              25%        0.334161\n",
      "                              50%        0.467659\n",
      "                              75%        0.566033\n",
      "                              max        0.682562\n",
      "nmi                           count    120.000000\n",
      "                              mean       0.454767\n",
      "                              std        0.143277\n",
      "                              min        0.007662\n",
      "                              25%        0.360483\n",
      "                              50%        0.493914\n",
      "                              75%        0.561831\n",
      "                              max        0.653894\n",
      "n                             count    120.000000\n",
      "                              mean       3.500000\n",
      "                              std        1.714986\n",
      "                              min        1.000000\n",
      "                              25%        2.000000\n",
      "                              50%        3.500000\n",
      "                              75%        5.000000\n",
      "                              max        6.000000\n",
      "Name: [ 1.  2.  3.  4.  5.  6.  7.  8.  9. 10.], dtype: float64\n",
      "accuracy  count    48.000000\n",
      "          mean      0.597734\n",
      "          std       0.183513\n",
      "          min       0.274295\n",
      "          25%       0.499608\n",
      "          50%       0.649687\n",
      "          75%       0.722962\n",
      "          max       0.843260\n",
      "ari       count    48.000000\n",
      "          mean      0.341547\n",
      "          std       0.205596\n",
      "          min      -0.000679\n",
      "          25%       0.212081\n",
      "          50%       0.408100\n",
      "          75%       0.483739\n",
      "          max       0.636909\n",
      "nmi       count    48.000000\n",
      "          mean      0.363101\n",
      "          std       0.200979\n",
      "          min       0.000000\n",
      "          25%       0.248199\n",
      "          50%       0.422133\n",
      "          75%       0.506599\n",
      "          max       0.614823\n",
      "n         count    48.000000\n",
      "          mean      3.500000\n",
      "          std       1.725898\n",
      "          min       1.000000\n",
      "          25%       2.000000\n",
      "          50%       3.500000\n",
      "          75%       5.000000\n",
      "          max       6.000000\n",
      "Name: 0.1, dtype: float64\n",
      "param_clustering_loss_weight  count    40.000000\n",
      "                              mean      0.550000\n",
      "                              std       0.290887\n",
      "                              min       0.100000\n",
      "                              25%       0.300000\n",
      "                              50%       0.550000\n",
      "                              75%       0.800000\n",
      "                              max       1.000000\n",
      "accuracy                      count    40.000000\n",
      "                              mean      0.594828\n",
      "                              std       0.220478\n",
      "                              min       0.271160\n",
      "                              25%       0.293103\n",
      "                              50%       0.689655\n",
      "                              75%       0.770768\n",
      "                              max       0.849530\n",
      "ari                           count    40.000000\n",
      "                              mean      0.351038\n",
      "                              std       0.242687\n",
      "                              min      -0.000374\n",
      "                              25%       0.002906\n",
      "                              50%       0.458017\n",
      "                              75%       0.529554\n",
      "                              max       0.652180\n",
      "nmi                           count    40.000000\n",
      "                              mean      0.368037\n",
      "                              std       0.240871\n",
      "                              min       0.000000\n",
      "                              25%       0.034081\n",
      "                              50%       0.484898\n",
      "                              75%       0.556616\n",
      "                              max       0.625303\n",
      "n                             count    40.000000\n",
      "                              mean      1.000000\n",
      "                              std       0.000000\n",
      "                              min       1.000000\n",
      "                              25%       1.000000\n",
      "                              50%       1.000000\n",
      "                              75%       1.000000\n",
      "                              max       1.000000\n",
      "Name: functools.partial(<function concat_cls_n_hidden_states at 0x7fb048539040>, n=1), dtype: float64\n",
      "param_clustering_loss_weight  count    80.000000\n",
      "                              mean      0.550000\n",
      "                              std       0.289040\n",
      "                              min       0.100000\n",
      "                              25%       0.300000\n",
      "                              50%       0.550000\n",
      "                              75%       0.800000\n",
      "                              max       1.000000\n",
      "accuracy                      count    80.000000\n",
      "                              mean      0.581426\n",
      "                              std       0.228898\n",
      "                              min       0.271160\n",
      "                              25%       0.277038\n",
      "                              50%       0.666928\n",
      "                              75%       0.802900\n",
      "                              max       0.862069\n",
      "ari                           count    80.000000\n",
      "                              mean      0.332152\n",
      "                              std       0.254501\n",
      "                              min      -0.001664\n",
      "                              25%       0.000267\n",
      "                              50%       0.440503\n",
      "                              75%       0.566743\n",
      "                              max       0.673072\n",
      "nmi                           count    80.000000\n",
      "                              mean      0.344358\n",
      "                              std       0.251375\n",
      "                              min       0.000000\n",
      "                              25%       0.019130\n",
      "                              50%       0.472008\n",
      "                              75%       0.556616\n",
      "                              max       0.639687\n",
      "Name: 1, dtype: float64\n"
     ]
    }
   ],
   "source": [
    "for param in [c for c in df.columns if c.startswith('param')] + ['n']:\n",
    "    print(df.groupby(param).describe().iloc[\n",
    "        df.groupby(param).describe().accuracy.mean().argmax()\n",
    "    ])\n"
   ]
  },
  {
   "cell_type": "code",
   "execution_count": 24,
   "metadata": {},
   "outputs": [
    {
     "data": {
      "text/plain": [
       "<AxesSubplot:xlabel='accuracy', ylabel='nmi'>"
      ]
     },
     "execution_count": 24,
     "metadata": {},
     "output_type": "execute_result"
    },
    {
     "data": {
      "image/png": "[encoded data removed]",
      "text/plain": [
       "<Figure size 432x288 with 1 Axes>"
      ]
     },
     "metadata": {
      "needs_background": "light"
     },
     "output_type": "display_data"
    }
   ],
   "source": [
    "sns.scatterplot(x='accuracy', y='nmi', data=df)"
   ]
  },
  {
   "cell_type": "code",
   "execution_count": 25,
   "metadata": {},
   "outputs": [
    {
     "data": {
      "text/plain": [
       "<AxesSubplot:xlabel='accuracy', ylabel='ari'>"
      ]
     },
     "execution_count": 25,
     "metadata": {},
     "output_type": "execute_result"
    },
    {
     "data": {
      "image/png": "[encoded data removed]",
      "text/plain": [
       "<Figure size 432x288 with 1 Axes>"
      ]
     },
     "metadata": {
      "needs_background": "light"
     },
     "output_type": "display_data"
    }
   ],
   "source": [
    "sns.scatterplot(x='accuracy', y='ari', data=df)"
   ]
  },
  {
   "cell_type": "code",
   "execution_count": 26,
   "metadata": {},
   "outputs": [
    {
     "data": {
      "text/plain": [
       "<AxesSubplot:xlabel='param_clustering_loss_weight', ylabel='accuracy'>"
      ]
     },
     "execution_count": 26,
     "metadata": {},
     "output_type": "execute_result"
    },
    {
     "data": {
      "image/png": "[encoded data removed]",
      "text/plain": [
       "<Figure size 432x288 with 1 Axes>"
      ]
     },
     "metadata": {
      "needs_background": "light"
     },
     "output_type": "display_data"
    }
   ],
   "source": [
    "sns.scatterplot(x='param_clustering_loss_weight', y='accuracy', data=df)"
   ]
  },
  {
   "cell_type": "code",
   "execution_count": 27,
   "metadata": {},
   "outputs": [
    {
     "data": {
      "text/html": [
       "<div>\n",
       "<style scoped>\n",
       "    .dataframe tbody tr th:only-of-type {\n",
       "        vertical-align: middle;\n",
       "    }\n",
       "\n",
       "    .dataframe tbody tr th {\n",
       "        vertical-align: top;\n",
       "    }\n",
       "\n",
       "    .dataframe thead tr th {\n",
       "        text-align: left;\n",
       "    }\n",
       "\n",
       "    .dataframe thead tr:last-of-type th {\n",
       "        text-align: right;\n",
       "    }\n",
       "</style>\n",
       "<table border=\"1\" class=\"dataframe\">\n",
       "  <thead>\n",
       "    <tr>\n",
       "      <th></th>\n",
       "      <th colspan=\"8\" halign=\"left\">param_clustering_loss_weight</th>\n",
       "      <th colspan=\"2\" halign=\"left\">accuracy</th>\n",
       "      <th>...</th>\n",
       "      <th colspan=\"2\" halign=\"left\">ari</th>\n",
       "      <th colspan=\"8\" halign=\"left\">nmi</th>\n",
       "    </tr>\n",
       "    <tr>\n",
       "      <th></th>\n",
       "      <th>count</th>\n",
       "      <th>mean</th>\n",
       "      <th>std</th>\n",
       "      <th>min</th>\n",
       "      <th>25%</th>\n",
       "      <th>50%</th>\n",
       "      <th>75%</th>\n",
       "      <th>max</th>\n",
       "      <th>count</th>\n",
       "      <th>mean</th>\n",
       "      <th>...</th>\n",
       "      <th>75%</th>\n",
       "      <th>max</th>\n",
       "      <th>count</th>\n",
       "      <th>mean</th>\n",
       "      <th>std</th>\n",
       "      <th>min</th>\n",
       "      <th>25%</th>\n",
       "      <th>50%</th>\n",
       "      <th>75%</th>\n",
       "      <th>max</th>\n",
       "    </tr>\n",
       "    <tr>\n",
       "      <th>n</th>\n",
       "      <th></th>\n",
       "      <th></th>\n",
       "      <th></th>\n",
       "      <th></th>\n",
       "      <th></th>\n",
       "      <th></th>\n",
       "      <th></th>\n",
       "      <th></th>\n",
       "      <th></th>\n",
       "      <th></th>\n",
       "      <th></th>\n",
       "      <th></th>\n",
       "      <th></th>\n",
       "      <th></th>\n",
       "      <th></th>\n",
       "      <th></th>\n",
       "      <th></th>\n",
       "      <th></th>\n",
       "      <th></th>\n",
       "      <th></th>\n",
       "      <th></th>\n",
       "    </tr>\n",
       "  </thead>\n",
       "  <tbody>\n",
       "    <tr>\n",
       "      <th>1</th>\n",
       "      <td>80.0</td>\n",
       "      <td>0.55</td>\n",
       "      <td>0.28904</td>\n",
       "      <td>0.1</td>\n",
       "      <td>0.3</td>\n",
       "      <td>0.55</td>\n",
       "      <td>0.8</td>\n",
       "      <td>1.0</td>\n",
       "      <td>80.0</td>\n",
       "      <td>0.581426</td>\n",
       "      <td>...</td>\n",
       "      <td>0.566743</td>\n",
       "      <td>0.673072</td>\n",
       "      <td>80.0</td>\n",
       "      <td>0.344358</td>\n",
       "      <td>0.251375</td>\n",
       "      <td>0.0</td>\n",
       "      <td>0.019130</td>\n",
       "      <td>0.472008</td>\n",
       "      <td>0.556616</td>\n",
       "      <td>0.639687</td>\n",
       "    </tr>\n",
       "    <tr>\n",
       "      <th>2</th>\n",
       "      <td>80.0</td>\n",
       "      <td>0.55</td>\n",
       "      <td>0.28904</td>\n",
       "      <td>0.1</td>\n",
       "      <td>0.3</td>\n",
       "      <td>0.55</td>\n",
       "      <td>0.8</td>\n",
       "      <td>1.0</td>\n",
       "      <td>80.0</td>\n",
       "      <td>0.631642</td>\n",
       "      <td>...</td>\n",
       "      <td>0.539872</td>\n",
       "      <td>0.687084</td>\n",
       "      <td>80.0</td>\n",
       "      <td>0.403880</td>\n",
       "      <td>0.212231</td>\n",
       "      <td>0.0</td>\n",
       "      <td>0.340779</td>\n",
       "      <td>0.493691</td>\n",
       "      <td>0.548848</td>\n",
       "      <td>0.651968</td>\n",
       "    </tr>\n",
       "    <tr>\n",
       "      <th>3</th>\n",
       "      <td>80.0</td>\n",
       "      <td>0.55</td>\n",
       "      <td>0.28904</td>\n",
       "      <td>0.1</td>\n",
       "      <td>0.3</td>\n",
       "      <td>0.55</td>\n",
       "      <td>0.8</td>\n",
       "      <td>1.0</td>\n",
       "      <td>80.0</td>\n",
       "      <td>0.634248</td>\n",
       "      <td>...</td>\n",
       "      <td>0.573642</td>\n",
       "      <td>0.665686</td>\n",
       "      <td>80.0</td>\n",
       "      <td>0.397458</td>\n",
       "      <td>0.216313</td>\n",
       "      <td>0.0</td>\n",
       "      <td>0.327529</td>\n",
       "      <td>0.484068</td>\n",
       "      <td>0.565493</td>\n",
       "      <td>0.637221</td>\n",
       "    </tr>\n",
       "    <tr>\n",
       "      <th>4</th>\n",
       "      <td>80.0</td>\n",
       "      <td>0.55</td>\n",
       "      <td>0.28904</td>\n",
       "      <td>0.1</td>\n",
       "      <td>0.3</td>\n",
       "      <td>0.55</td>\n",
       "      <td>0.8</td>\n",
       "      <td>1.0</td>\n",
       "      <td>80.0</td>\n",
       "      <td>0.642065</td>\n",
       "      <td>...</td>\n",
       "      <td>0.562248</td>\n",
       "      <td>0.659698</td>\n",
       "      <td>80.0</td>\n",
       "      <td>0.403163</td>\n",
       "      <td>0.205007</td>\n",
       "      <td>0.0</td>\n",
       "      <td>0.314847</td>\n",
       "      <td>0.490787</td>\n",
       "      <td>0.568623</td>\n",
       "      <td>0.633420</td>\n",
       "    </tr>\n",
       "    <tr>\n",
       "      <th>5</th>\n",
       "      <td>80.0</td>\n",
       "      <td>0.55</td>\n",
       "      <td>0.28904</td>\n",
       "      <td>0.1</td>\n",
       "      <td>0.3</td>\n",
       "      <td>0.55</td>\n",
       "      <td>0.8</td>\n",
       "      <td>1.0</td>\n",
       "      <td>80.0</td>\n",
       "      <td>0.646669</td>\n",
       "      <td>...</td>\n",
       "      <td>0.531039</td>\n",
       "      <td>0.682562</td>\n",
       "      <td>80.0</td>\n",
       "      <td>0.408177</td>\n",
       "      <td>0.183223</td>\n",
       "      <td>0.0</td>\n",
       "      <td>0.309609</td>\n",
       "      <td>0.485651</td>\n",
       "      <td>0.539056</td>\n",
       "      <td>0.653894</td>\n",
       "    </tr>\n",
       "    <tr>\n",
       "      <th>6</th>\n",
       "      <td>80.0</td>\n",
       "      <td>0.55</td>\n",
       "      <td>0.28904</td>\n",
       "      <td>0.1</td>\n",
       "      <td>0.3</td>\n",
       "      <td>0.55</td>\n",
       "      <td>0.8</td>\n",
       "      <td>1.0</td>\n",
       "      <td>80.0</td>\n",
       "      <td>0.631289</td>\n",
       "      <td>...</td>\n",
       "      <td>0.534861</td>\n",
       "      <td>0.679371</td>\n",
       "      <td>80.0</td>\n",
       "      <td>0.386396</td>\n",
       "      <td>0.174395</td>\n",
       "      <td>0.0</td>\n",
       "      <td>0.280997</td>\n",
       "      <td>0.396441</td>\n",
       "      <td>0.534038</td>\n",
       "      <td>0.649483</td>\n",
       "    </tr>\n",
       "  </tbody>\n",
       "</table>\n",
       "<p>6 rows × 32 columns</p>\n",
       "</div>"
      ],
      "text/plain": [
       "  param_clustering_loss_weight                                           \\\n",
       "                         count  mean      std  min  25%   50%  75%  max   \n",
       "n                                                                         \n",
       "1                         80.0  0.55  0.28904  0.1  0.3  0.55  0.8  1.0   \n",
       "2                         80.0  0.55  0.28904  0.1  0.3  0.55  0.8  1.0   \n",
       "3                         80.0  0.55  0.28904  0.1  0.3  0.55  0.8  1.0   \n",
       "4                         80.0  0.55  0.28904  0.1  0.3  0.55  0.8  1.0   \n",
       "5                         80.0  0.55  0.28904  0.1  0.3  0.55  0.8  1.0   \n",
       "6                         80.0  0.55  0.28904  0.1  0.3  0.55  0.8  1.0   \n",
       "\n",
       "  accuracy            ...       ari             nmi                           \\\n",
       "     count      mean  ...       75%       max count      mean       std  min   \n",
       "n                     ...                                                      \n",
       "1     80.0  0.581426  ...  0.566743  0.673072  80.0  0.344358  0.251375  0.0   \n",
       "2     80.0  0.631642  ...  0.539872  0.687084  80.0  0.403880  0.212231  0.0   \n",
       "3     80.0  0.634248  ...  0.573642  0.665686  80.0  0.397458  0.216313  0.0   \n",
       "4     80.0  0.642065  ...  0.562248  0.659698  80.0  0.403163  0.205007  0.0   \n",
       "5     80.0  0.646669  ...  0.531039  0.682562  80.0  0.408177  0.183223  0.0   \n",
       "6     80.0  0.631289  ...  0.534861  0.679371  80.0  0.386396  0.174395  0.0   \n",
       "\n",
       "                                           \n",
       "        25%       50%       75%       max  \n",
       "n                                          \n",
       "1  0.019130  0.472008  0.556616  0.639687  \n",
       "2  0.340779  0.493691  0.548848  0.651968  \n",
       "3  0.327529  0.484068  0.565493  0.637221  \n",
       "4  0.314847  0.490787  0.568623  0.633420  \n",
       "5  0.309609  0.485651  0.539056  0.653894  \n",
       "6  0.280997  0.396441  0.534038  0.649483  \n",
       "\n",
       "[6 rows x 32 columns]"
      ]
     },
     "execution_count": 27,
     "metadata": {},
     "output_type": "execute_result"
    }
   ],
   "source": [
    "df.groupby('n').describe()"
   ]
  },
  {
   "cell_type": "code",
   "execution_count": 28,
   "metadata": {},
   "outputs": [
    {
     "data": {
      "text/html": [
       "<div>\n",
       "<style scoped>\n",
       "    .dataframe tbody tr th:only-of-type {\n",
       "        vertical-align: middle;\n",
       "    }\n",
       "\n",
       "    .dataframe tbody tr th {\n",
       "        vertical-align: top;\n",
       "    }\n",
       "\n",
       "    .dataframe thead th {\n",
       "        text-align: right;\n",
       "    }\n",
       "</style>\n",
       "<table border=\"1\" class=\"dataframe\">\n",
       "  <thead>\n",
       "    <tr style=\"text-align: right;\">\n",
       "      <th></th>\n",
       "      <th>param_annealing_alphas</th>\n",
       "      <th>param_clustering_loss_weight</th>\n",
       "      <th>param_embedding_extractor</th>\n",
       "      <th>best_matching</th>\n",
       "      <th>accuracy</th>\n",
       "      <th>ari</th>\n",
       "      <th>nmi</th>\n",
       "      <th>n</th>\n",
       "      <th>extractor</th>\n",
       "    </tr>\n",
       "  </thead>\n",
       "  <tbody>\n",
       "    <tr>\n",
       "      <th>108</th>\n",
       "      <td>[ 1.  2.  3.  4.  5.  6.  7.  8.  9. 10.]</td>\n",
       "      <td>1.0</td>\n",
       "      <td>functools.partial(&lt;function concat_cls_n_hidde...</td>\n",
       "      <td>{0: 1, 1: 0, 2: 3, 3: 2}</td>\n",
       "      <td>0.686520</td>\n",
       "      <td>0.410731</td>\n",
       "      <td>0.453452</td>\n",
       "      <td>1</td>\n",
       "      <td>concat_cls_n_hidden_states</td>\n",
       "    </tr>\n",
       "    <tr>\n",
       "      <th>114</th>\n",
       "      <td>[ 1.  2.  3.  4.  5.  6.  7.  8.  9. 10.]</td>\n",
       "      <td>1.0</td>\n",
       "      <td>functools.partial(&lt;function concat_mean_n_hidd...</td>\n",
       "      <td>{0: 1, 1: 3, 2: 0, 3: 2}</td>\n",
       "      <td>0.666144</td>\n",
       "      <td>0.438936</td>\n",
       "      <td>0.475197</td>\n",
       "      <td>1</td>\n",
       "      <td>concat_mean_n_hidden_states</td>\n",
       "    </tr>\n",
       "    <tr>\n",
       "      <th>228</th>\n",
       "      <td>[1000. 1000. 1000. 1000. 1000. 1000. 1000. 100...</td>\n",
       "      <td>1.0</td>\n",
       "      <td>functools.partial(&lt;function concat_cls_n_hidde...</td>\n",
       "      <td>{0: 1, 1: 2, 2: 0, 3: 3}</td>\n",
       "      <td>0.575235</td>\n",
       "      <td>0.378103</td>\n",
       "      <td>0.419263</td>\n",
       "      <td>1</td>\n",
       "      <td>concat_cls_n_hidden_states</td>\n",
       "    </tr>\n",
       "    <tr>\n",
       "      <th>234</th>\n",
       "      <td>[1000. 1000. 1000. 1000. 1000. 1000. 1000. 100...</td>\n",
       "      <td>1.0</td>\n",
       "      <td>functools.partial(&lt;function concat_mean_n_hidd...</td>\n",
       "      <td>{0: 3, 1: 0, 2: 2, 3: 1}</td>\n",
       "      <td>0.802508</td>\n",
       "      <td>0.566512</td>\n",
       "      <td>0.549619</td>\n",
       "      <td>1</td>\n",
       "      <td>concat_mean_n_hidden_states</td>\n",
       "    </tr>\n",
       "    <tr>\n",
       "      <th>348</th>\n",
       "      <td>[1. 1. 1. 1. 1. 1. 1. 1. 1. 1.]</td>\n",
       "      <td>1.0</td>\n",
       "      <td>functools.partial(&lt;function concat_cls_n_hidde...</td>\n",
       "      <td>{0: 1, 1: 3, 2: 2, 3: 0}</td>\n",
       "      <td>0.708464</td>\n",
       "      <td>0.485688</td>\n",
       "      <td>0.530240</td>\n",
       "      <td>1</td>\n",
       "      <td>concat_cls_n_hidden_states</td>\n",
       "    </tr>\n",
       "    <tr>\n",
       "      <th>354</th>\n",
       "      <td>[1. 1. 1. 1. 1. 1. 1. 1. 1. 1.]</td>\n",
       "      <td>1.0</td>\n",
       "      <td>functools.partial(&lt;function concat_mean_n_hidd...</td>\n",
       "      <td>{0: 1, 1: 0, 2: 3, 3: 2}</td>\n",
       "      <td>0.667712</td>\n",
       "      <td>0.473116</td>\n",
       "      <td>0.512752</td>\n",
       "      <td>1</td>\n",
       "      <td>concat_mean_n_hidden_states</td>\n",
       "    </tr>\n",
       "    <tr>\n",
       "      <th>468</th>\n",
       "      <td>[0.1        0.42320861 0.75156841 1.07797116 1...</td>\n",
       "      <td>1.0</td>\n",
       "      <td>functools.partial(&lt;function concat_cls_n_hidde...</td>\n",
       "      <td>{0: 0, 1: 1, 2: 3, 3: 2}</td>\n",
       "      <td>0.274295</td>\n",
       "      <td>0.000000</td>\n",
       "      <td>0.000000</td>\n",
       "      <td>1</td>\n",
       "      <td>concat_cls_n_hidden_states</td>\n",
       "    </tr>\n",
       "    <tr>\n",
       "      <th>474</th>\n",
       "      <td>[0.1        0.42320861 0.75156841 1.07797116 1...</td>\n",
       "      <td>1.0</td>\n",
       "      <td>functools.partial(&lt;function concat_mean_n_hidd...</td>\n",
       "      <td>{0: 2, 1: 3, 2: 1, 3: 0}</td>\n",
       "      <td>0.275862</td>\n",
       "      <td>0.000132</td>\n",
       "      <td>0.003256</td>\n",
       "      <td>1</td>\n",
       "      <td>concat_mean_n_hidden_states</td>\n",
       "    </tr>\n",
       "  </tbody>\n",
       "</table>\n",
       "</div>"
      ],
      "text/plain": [
       "                                param_annealing_alphas  \\\n",
       "108          [ 1.  2.  3.  4.  5.  6.  7.  8.  9. 10.]   \n",
       "114          [ 1.  2.  3.  4.  5.  6.  7.  8.  9. 10.]   \n",
       "228  [1000. 1000. 1000. 1000. 1000. 1000. 1000. 100...   \n",
       "234  [1000. 1000. 1000. 1000. 1000. 1000. 1000. 100...   \n",
       "348                    [1. 1. 1. 1. 1. 1. 1. 1. 1. 1.]   \n",
       "354                    [1. 1. 1. 1. 1. 1. 1. 1. 1. 1.]   \n",
       "468  [0.1        0.42320861 0.75156841 1.07797116 1...   \n",
       "474  [0.1        0.42320861 0.75156841 1.07797116 1...   \n",
       "\n",
       "     param_clustering_loss_weight  \\\n",
       "108                           1.0   \n",
       "114                           1.0   \n",
       "228                           1.0   \n",
       "234                           1.0   \n",
       "348                           1.0   \n",
       "354                           1.0   \n",
       "468                           1.0   \n",
       "474                           1.0   \n",
       "\n",
       "                             param_embedding_extractor  \\\n",
       "108  functools.partial(<function concat_cls_n_hidde...   \n",
       "114  functools.partial(<function concat_mean_n_hidd...   \n",
       "228  functools.partial(<function concat_cls_n_hidde...   \n",
       "234  functools.partial(<function concat_mean_n_hidd...   \n",
       "348  functools.partial(<function concat_cls_n_hidde...   \n",
       "354  functools.partial(<function concat_mean_n_hidd...   \n",
       "468  functools.partial(<function concat_cls_n_hidde...   \n",
       "474  functools.partial(<function concat_mean_n_hidd...   \n",
       "\n",
       "                best_matching  accuracy       ari       nmi  n  \\\n",
       "108  {0: 1, 1: 0, 2: 3, 3: 2}  0.686520  0.410731  0.453452  1   \n",
       "114  {0: 1, 1: 3, 2: 0, 3: 2}  0.666144  0.438936  0.475197  1   \n",
       "228  {0: 1, 1: 2, 2: 0, 3: 3}  0.575235  0.378103  0.419263  1   \n",
       "234  {0: 3, 1: 0, 2: 2, 3: 1}  0.802508  0.566512  0.549619  1   \n",
       "348  {0: 1, 1: 3, 2: 2, 3: 0}  0.708464  0.485688  0.530240  1   \n",
       "354  {0: 1, 1: 0, 2: 3, 3: 2}  0.667712  0.473116  0.512752  1   \n",
       "468  {0: 0, 1: 1, 2: 3, 3: 2}  0.274295  0.000000  0.000000  1   \n",
       "474  {0: 2, 1: 3, 2: 1, 3: 0}  0.275862  0.000132  0.003256  1   \n",
       "\n",
       "                       extractor  \n",
       "108   concat_cls_n_hidden_states  \n",
       "114  concat_mean_n_hidden_states  \n",
       "228   concat_cls_n_hidden_states  \n",
       "234  concat_mean_n_hidden_states  \n",
       "348   concat_cls_n_hidden_states  \n",
       "354  concat_mean_n_hidden_states  \n",
       "468   concat_cls_n_hidden_states  \n",
       "474  concat_mean_n_hidden_states  "
      ]
     },
     "execution_count": 28,
     "metadata": {},
     "output_type": "execute_result"
    }
   ],
   "source": [
    "df[(df['n']==1)&(df['param_clustering_loss_weight']==1.0)]"
   ]
  },
  {
   "cell_type": "code",
   "execution_count": 29,
   "metadata": {},
   "outputs": [],
   "source": [
    "df.groupby(['n', 'extractor', 'param_annealing_alphas'])[['accuracy', 'param_clustering_loss_weight']].corr(method=\"pearson\").to_csv('temp.csv')"
   ]
  },
  {
   "cell_type": "code",
   "execution_count": 30,
   "metadata": {},
   "outputs": [
    {
     "data": {
      "text/plain": [
       "dtype('O')"
      ]
     },
     "execution_count": 30,
     "metadata": {},
     "output_type": "execute_result"
    }
   ],
   "source": [
    "df.param_annealing_alphas.dtype"
   ]
  },
  {
   "cell_type": "code",
   "execution_count": 31,
   "metadata": {},
   "outputs": [],
   "source": [
    "import numpy as np\n",
    "mu, sigma = 2e-5, 0.0001\n",
    "s = np.random.normal(mu, sigma, 1000)"
   ]
  },
  {
   "cell_type": "code",
   "execution_count": 32,
   "metadata": {},
   "outputs": [
    {
     "data": {
      "image/png": "[encoded data removed]",
      "text/plain": [
       "<Figure size 432x288 with 1 Axes>"
      ]
     },
     "metadata": {
      "needs_background": "light"
     },
     "output_type": "display_data"
    }
   ],
   "source": [
    "count, bins, ignored = plt.hist(s, 20)"
   ]
  },
  {
   "cell_type": "code",
   "execution_count": 33,
   "metadata": {},
   "outputs": [],
   "source": [
    "def psoftmin(x, alpha=1):\n",
    "    exp = np.exp(-alpha * x)\n",
    "    return exp/np.sum(exp)"
   ]
  },
  {
   "cell_type": "code",
   "execution_count": 34,
   "metadata": {},
   "outputs": [
    {
     "data": {
      "image/png": "[encoded data removed]",
      "text/plain": [
       "<Figure size 432x288 with 1 Axes>"
      ]
     },
     "metadata": {
      "needs_background": "light"
     },
     "output_type": "display_data"
    }
   ],
   "source": [
    "count, bins, ignored = plt.hist(psoftmin(s, alpha=1000), 20)"
   ]
  },
  {
   "cell_type": "code",
   "execution_count": 35,
   "metadata": {},
   "outputs": [
    {
     "data": {
      "image/png": "[encoded data removed]",
      "text/plain": [
       "<Figure size 432x288 with 1 Axes>"
      ]
     },
     "metadata": {
      "needs_background": "light"
     },
     "output_type": "display_data"
    },
    {
     "data": {
      "image/png": "[encoded data removed]",
      "text/plain": [
       "<Figure size 432x288 with 1 Axes>"
      ]
     },
     "metadata": {
      "needs_background": "light"
     },
     "output_type": "display_data"
    },
    {
     "data": {
      "image/png": "[encoded data removed]",
      "text/plain": [
       "<Figure size 432x288 with 1 Axes>"
      ]
     },
     "metadata": {
      "needs_background": "light"
     },
     "output_type": "display_data"
    },
    {
     "data": {
      "image/png": "[encoded data removed]",
      "text/plain": [
       "<Figure size 432x288 with 1 Axes>"
      ]
     },
     "metadata": {
      "needs_background": "light"
     },
     "output_type": "display_data"
    },
    {
     "data": {
      "image/png": "[encoded data removed]",
      "text/plain": [
       "<Figure size 432x288 with 1 Axes>"
      ]
     },
     "metadata": {
      "needs_background": "light"
     },
     "output_type": "display_data"
    },
    {
     "data": {
      "image/png": "[encoded data removed]",
      "text/plain": [
       "<Figure size 432x288 with 1 Axes>"
      ]
     },
     "metadata": {
      "needs_background": "light"
     },
     "output_type": "display_data"
    },
    {
     "data": {
      "image/png": "[encoded data removed]",
      "text/plain": [
       "<Figure size 432x288 with 1 Axes>"
      ]
     },
     "metadata": {
      "needs_background": "light"
     },
     "output_type": "display_data"
    },
    {
     "data": {
      "image/png": "[encoded data removed]",
      "text/plain": [
       "<Figure size 432x288 with 1 Axes>"
      ]
     },
     "metadata": {
      "needs_background": "light"
     },
     "output_type": "display_data"
    },
    {
     "data": {
      "image/png": "[encoded data removed]",
      "text/plain": [
       "<Figure size 432x288 with 1 Axes>"
      ]
     },
     "metadata": {
      "needs_background": "light"
     },
     "output_type": "display_data"
    },
    {
     "data": {
      "image/png": "[encoded data removed]",
      "text/plain": [
       "<Figure size 432x288 with 1 Axes>"
      ]
     },
     "metadata": {
      "needs_background": "light"
     },
     "output_type": "display_data"
    }
   ],
   "source": [
    "for i in range(10):\n",
    "    plt.hist(psoftmin(s, alpha=i), bins=9)\n",
    "    plt.show()"
   ]
  },
  {
   "cell_type": "code",
   "execution_count": null,
   "metadata": {},
   "outputs": [],
   "source": []
  }
 ],
 "metadata": {
  "kernelspec": {
   "display_name": "Python 3",
   "language": "python",
   "name": "python3"
  },
  "language_info": {
   "codemirror_mode": {
    "name": "ipython",
    "version": 3
   },
   "file_extension": ".py",
   "mimetype": "text/x-python",
   "name": "python",
   "nbconvert_exporter": "python",
   "pygments_lexer": "ipython3",
   "version": "3.8.5"
  }
 },
 "nbformat": 4,
 "nbformat_minor": 4
}
