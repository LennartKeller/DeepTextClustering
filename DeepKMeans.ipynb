{
 "cells": [
  {
   "cell_type": "code",
   "execution_count": 1,
   "metadata": {},
   "outputs": [],
   "source": [
    "import torch\n",
    "from torch import nn"
   ]
  },
  {
   "cell_type": "markdown",
   "metadata": {},
   "source": [
    "# Model definition:"
   ]
  },
  {
   "cell_type": "code",
   "execution_count": 2,
   "metadata": {},
   "outputs": [],
   "source": [
    "import torch\n",
    "\n",
    "\n",
    "def parameterized_softmax(X, p=1):\n",
    "    \"\"\"\n",
    "    Computes the parameterized softmax of an 2d array along the first axis.\n",
    "    \"\"\"\n",
    "    return torch.exp(-p * X) / torch.sum(torch.exp(-p * X), dim=1).unsqueeze(1)\n",
    "\n",
    "\n",
    "def lp_distance(X, Y, p=1):\n",
    "    \"\"\"\n",
    "    Computes row wise minkowski distances between matrices X and Y\n",
    "    \"\"\"\n",
    "    return torch.sum(torch.abs(X-Y)**p, dim=1)**(1/p)"
   ]
  },
  {
   "cell_type": "code",
   "execution_count": 3,
   "metadata": {},
   "outputs": [],
   "source": [
    "class DeepKMeansWithLM(nn.Module):\n",
    "    \"\"\"\n",
    "    This model implements the deep kmeans clustering as described in https://arxiv.org/abs/1806.10069.\n",
    "    In order to adopt the algorithm for document clustering we use a lm to obtain low dimensional document representations\n",
    "    Instead of the autoencoder reconstruction loss, we let the model continue the mask language task which is part of its pretraining\n",
    "    \"\"\"\n",
    "    def __init__(self,\n",
    "                 lm_model,\n",
    "                 k,\n",
    "                 n_features,\n",
    "                 alpha=0.1,\n",
    "                 lm_weight=0.1,\n",
    "                 initial_centroids=None,\n",
    "                 p=1,\n",
    "                 device='cuda'):\n",
    "        super(DeepKMeansWithLM, self).__init__()\n",
    "        self.lm_model = lm_model\n",
    "        self.k = k\n",
    "        self.alpha = alpha\n",
    "        self.p = p\n",
    "        self.lm_weight = lm_weight\n",
    "        self.device = device\n",
    "        \n",
    "        if initial_centroids is not None:\n",
    "            assert initial_centroids.shape[0] == k, \"Number of centroids must be equal to number of clusters\"\n",
    "            self.centroids = initial_centroidsi\n",
    "        self.centroids = self._random_init_centroids(k, n_features)\n",
    "        self.to(self.device)\n",
    "        \n",
    "        \n",
    "    \n",
    "        \n",
    "    \n",
    "    def forward(self, inputs):\n",
    "        \"\"\"\n",
    "        Returns:\n",
    "            (\n",
    "                - idx of nearest centroid for each sample,\n",
    "                - clustering loss average of summed distances of each input to sample to the centroid,\n",
    "                - lm loss\n",
    "                - combined and weighted loss\n",
    "            )\n",
    "        \"\"\"\n",
    "        \n",
    "        # transfer input to device of the model instance\n",
    "        inputs = inputs.to(self.device)\n",
    "        \n",
    "        # compute the lm loss w.r.t. to the inputs\n",
    "        outputs = self.lm_model(labels=inputs['input_ids'], **inputs)\n",
    "        lm_loss = outputs.loss\n",
    "        \n",
    "        # START: Clustering part\n",
    "        \n",
    "        # 0. obtain embeddings for each input\n",
    "        input_embeddings = self.embed(inputs)\n",
    "        \n",
    "        # 1. compute distances of each input sample to each centroid\n",
    "        # shape (n_samples, n_centroids)\n",
    "        distances = torch.stack([lp_distance(embedding, self.centroids) for embedding in input_embeddings])\n",
    "        \n",
    "        # 2. get index nearest centroid for each sample\n",
    "        nearest_centroids = distances.argmin(dim=1)\n",
    "        \n",
    "        # 3. compute softmax for each min_distance\n",
    "        \n",
    "        exponentials = torch.exp(-self.alpha * distances)\n",
    "        \n",
    "        softmaxes = []\n",
    "        weighted_distances = []\n",
    "        for index, nc in enumerate(nearest_centroids):\n",
    "            min_distance = distances[index, nc]\n",
    "            \n",
    "            sm = torch.exp(-self.alpha * min_distance) / torch.sum(exponentials[index])\n",
    "            softmaxes.append(sm)\n",
    "            weighted_distances.append(distances[index] * sm)\n",
    "            \n",
    "        \n",
    "        softmaxes = torch.tensor(softmaxes, dtype=torch.float32, device=self.device)\n",
    "        weighted_distances = torch.stack(weighted_distances)\n",
    "        \n",
    "        clustering_loss = weighted_distances.sum(dim=1).mean()\n",
    "        \n",
    "        combined_loss = clustering_loss + self.lm_weight * lm_loss\n",
    "        \n",
    "        return nearest_centroids.cpu().detach(), clustering_loss, lm_loss, combined_loss\n",
    "        \n",
    "        \n",
    "        \n",
    "    \n",
    "    def embed(self, inputs):\n",
    "        \"\"\"\n",
    "        Returns the cls embeddings of the input sequences as provided by the base model of the lm_model\n",
    "        \"\"\"\n",
    "        return self.lm_model.base_model(**inputs).last_hidden_state[:,0,:]\n",
    "    \n",
    "    def _random_init_centroids(self, k, n_dims):\n",
    "        \"\"\"\n",
    "        Returns randomly uniform initalized centroids\n",
    "        \"\"\"\n",
    "        return nn.Parameter(torch.rand((k, n_dims), device=self.device).to(self.device), requires_grad=True)"
   ]
  },
  {
   "cell_type": "code",
   "execution_count": 4,
   "metadata": {},
   "outputs": [],
   "source": [
    "from transformers import PreTrainedTokenizer\n",
    "from typing import *\n",
    "\n",
    "def mask_tokens(inputs: torch.Tensor, tokenizer) -> Tuple[torch.Tensor, torch.Tensor]:\n",
    "    \"\"\"\n",
    "    Prepare masked tokens inputs/labels for masked language modeling: 80% MASK, 10% random, 10% original.\n",
    "    \"\"\"\n",
    "\n",
    "    if tokenizer.mask_token is None:\n",
    "        raise ValueError(\n",
    "            \"This tokenizer does not have a mask token which is necessary for masked language modeling. Remove the --mlm flag if you want to use this tokenizer.\"\n",
    "        )\n",
    "\n",
    "    labels = inputs.clone()\n",
    "    # We sample a few tokens in each sequence for masked-LM training (with probability args.mlm_probability defaults to 0.15 in Bert/RoBERTa)\n",
    "    probability_matrix = torch.full(labels.shape, 0.15)\n",
    "    special_tokens_mask = [\n",
    "        tokenizer.get_special_tokens_mask(val, already_has_special_tokens=True) for val in labels.tolist()\n",
    "    ]\n",
    "    probability_matrix.masked_fill_(torch.tensor(special_tokens_mask, dtype=torch.bool), value=0.0)\n",
    "    if tokenizer._pad_token is not None:\n",
    "        padding_mask = labels.eq(tokenizer.pad_token_id)\n",
    "        probability_matrix.masked_fill_(padding_mask, value=0.0)\n",
    "    masked_indices = torch.bernoulli(probability_matrix).bool()\n",
    "    labels[~masked_indices] = -100  # We only compute loss on masked tokens\n",
    "\n",
    "    # 80% of the time, we replace masked input tokens with tokenizer.mask_token ([MASK])\n",
    "    indices_replaced = torch.bernoulli(torch.full(labels.shape, 0.8)).bool() & masked_indices\n",
    "    inputs[indices_replaced] = tokenizer.convert_tokens_to_ids(tokenizer.mask_token)\n",
    "\n",
    "    # 10% of the time, we replace masked input tokens with random word\n",
    "    indices_random = torch.bernoulli(torch.full(labels.shape, 0.5)).bool() & masked_indices & ~indices_replaced\n",
    "    random_words = torch.randint(len(tokenizer), labels.shape, dtype=torch.long)\n",
    "    inputs[indices_random] = random_words[indices_random]\n",
    "\n",
    "    # The rest of the time (10% of the time) we keep the masked input tokens unchanged\n",
    "    return inputs, labels"
   ]
  },
  {
   "cell_type": "code",
   "execution_count": 5,
   "metadata": {},
   "outputs": [],
   "source": [
    "#class DeepKMeansWithLM2(nn.Module):\n",
    "#    \"\"\"\n",
    "#    This model implements the deep kmeans clustering as described in https://arxiv.org/abs/1806.10069.\n",
    "#    In order to adopt the algorithm for document clustering we use a lm to obtain low dimensional document representations\n",
    "#    Instead of the autoencoder reconstruction loss, we let the model continue the mask language task which is part of its pretraining\n",
    "#    \"\"\"\n",
    "#    def __init__(self,\n",
    "#                 lm_model,\n",
    "#                 k,\n",
    "#                 n_features,\n",
    "#                 tokenizer,\n",
    "#                 alpha=0.1,\n",
    "#                 lm_weight=0.1,\n",
    "#                 initial_centroids=None,\n",
    "#                 p=1,\n",
    "#                 device='cuda'):\n",
    "#        super(DeepKMeansWithLM2, self).__init__()\n",
    "#        self.lm_model = lm_model\n",
    "#        self.k = k\n",
    "#        self.alpha = alpha\n",
    "#        self.p = p\n",
    "#        self.lm_weight = lm_weight\n",
    "#        self.tokenizer = tokenizer\n",
    "#        self.device = device\n",
    "#        \n",
    "#        if initial_centroids is not None:\n",
    "#            assert initial_centroids.shape[0] == k, \"Number of centroids must be equal to number of clusters\"\n",
    "#            #self.centroids = nn.Parameter(initial_centroids.clone().to(torch.float64), requires_grad=True)\n",
    "#            self.centroids = initial_centroids.clone().to('cuda').requires_grad_(True)\n",
    "#        else:\n",
    "#            self.centroids = self._random_init_centroids(k, n_features)\n",
    "#            print(\"init centroids\", self.centroids)\n",
    "#        \n",
    "#        self.to(self.device)\n",
    "#    \n",
    "#    def forward(self, inputs):\n",
    "#        \"\"\"\n",
    "#        Returns:\n",
    "#            (\n",
    "#                - idx of nearest centroid for each sample,\n",
    "#                - clustering loss average of summed distances of each input to sample to the centroid,\n",
    "#                - lm loss\n",
    "#                - combined and weighted loss\n",
    "#            )\n",
    "#        \"\"\"\n",
    "#        \n",
    "#        # transfer input to device of the model instance\n",
    "#        \n",
    "#        \n",
    "#        # compute the lm loss w.r.t. to the inputs\n",
    "#        input_ids = inputs['input_ids'].clone()\n",
    "#        input_ids, labels = mask_tokens(input_ids, self.tokenizer)\n",
    "#        inputs['input_ids'] = input_ids\n",
    "#\n",
    "#        inputs = inputs.to(self.device)\n",
    "#        labels = labels.to(self.device)\n",
    "#        outputs = self.lm_model(labels=labels, **inputs)\n",
    "#        lm_loss = outputs.loss\n",
    "#        \n",
    "#        \n",
    "#        # 0. obtain embeddings for each input\n",
    "#        input_embeddings = self.lm_model.base_model(**inputs).last_hidden_state[:,0,:]\n",
    "#        input_embeddings = input_embeddings.to(torch.float64).requires_grad_(True)\n",
    "#        \n",
    "#        # START: Clustering part\n",
    "#        # to compute the clustering loss we\n",
    "#        # 1. compute the distance from each sample in batch to each centroid\n",
    "#        distances = torch.stack([lp_distance(embedding.unsqueeze(0), self.centroids) for embedding in input_embeddings])\n",
    "#        # nearest_centroids = torch.argmin(distances, dim=1).cpu().clone().detach()\n",
    "#        nearest_centroids = torch.argmin(distances.cpu().clone().detach(), dim=1)\n",
    "#        distances = torch.transpose(distances, 0, 1)    \n",
    "#        \n",
    "#        # => shape (n_centroids, n_samples)\n",
    "#        # 2. compute the softmax for each centroid of each distance to each centroid per input sample\n",
    "#        # find min distances for each centroid\n",
    "#        #nearest_centroids = torch.min(distances, dim=0).indices.cpu().clone().detach()\n",
    "#        \n",
    "#        #min_distances = torch.min(distances).values\n",
    "#        #exponentials = torch.exp(-self.alpha * (distances - min_distances.unsqueeze(1)))\n",
    "#        exponentials = torch.exp(-self.alpha * (distances - torch.min(distances)))       \n",
    "#        softmax = exponentials / torch.sum(exponentials, dim=1).unsqueeze(1)\n",
    "#        \n",
    "#        # 3. weight the distanace between each sample and each centroid\n",
    "#        weighted_distances = distances * softmax\n",
    "#        \n",
    "#        # 4. sum over centroids to obtain loss\n",
    "#        #clustering_loss = weighted_distances.mean(dim=1).sum().requires_grad_(True)\n",
    "#        #clustering_loss = weighted_distances.min(dim=1).values.sum().requires_grad_(True)\n",
    "#        clustering_loss = weighted_distances.sum()\n",
    "#        \n",
    "#        combined_loss =  clustering_loss + (self.lm_weight * lm_loss)\n",
    "#        \n",
    "#        #print(\"dists\", distances)\n",
    "#        #print(distances.requires_grad)\n",
    "#        #print(distances.sum())\n",
    "#        #print(\"inp_emb\", input_embeddings)\n",
    "#        #print(\"centroids\", self.centroids)\n",
    "#        #print(self.centroids.requires_grad)\n",
    "#        #print(\"min_dists\", min_distances)\n",
    "#        #print(\"nerast_centroids\", nearest_centroids)\n",
    "#        #print(\"exponentials\", exponentials)\n",
    "#        #print(\"softmax\", softmax)\n",
    "#        #print(\"weighted_distances\", weighted_distances)\n",
    "#        #print(weighted_distances.requires_grad)\n",
    "#        #print(\"clustering_loss\", clustering_loss)\n",
    "#        \n",
    "#        return nearest_centroids, clustering_loss, lm_loss, combined_loss\n",
    "#        \n",
    "#        \n",
    "#        \n",
    "#    \n",
    "#    def embed(self, inputs):\n",
    "#        \"\"\"\n",
    "#        Returns the cls embeddings of the input sequences as provided by the base model of the lm_model\n",
    "#        \"\"\"\n",
    "#        return self.lm_model.base_model(**inputs).last_hidden_state[:,0,:]\n",
    "#    \n",
    "#    def _random_init_centroids(self, k, n_dims):\n",
    "#        \"\"\"\n",
    "#        Returns randomly uniform initalized centroids\n",
    "#        \"\"\"\n",
    "#        #return torch.rand((k, n_dims), device=self.device), requires_grad=True)\n",
    "#        return nn.Parameter(torch.Tensor(k, n_dims).uniform_(-1, 1).to(torch.float64), requires_grad=True)"
   ]
  },
  {
   "cell_type": "code",
   "execution_count": 6,
   "metadata": {},
   "outputs": [],
   "source": [
    "class DeepKMeansWithLM2(nn.Module):\n",
    "    \"\"\"\n",
    "    This model implements the deep kmeans clustering as described in https://arxiv.org/abs/1806.10069.\n",
    "    In order to adopt the algorithm for document clustering we use a lm to obtain low dimensional document representations\n",
    "    Instead of the autoencoder reconstruction loss, we let the model continue the mask language task which is part of its pretraining\n",
    "    \"\"\"\n",
    "    def __init__(self,\n",
    "                 lm_model,\n",
    "                 k,\n",
    "                 n_features,\n",
    "                 tokenizer,\n",
    "                 alpha=0.1,\n",
    "                 lm_weight=0.1,\n",
    "                 initial_centroids=None,\n",
    "                 p=1,\n",
    "                 device='cuda'):\n",
    "        super(DeepKMeansWithLM2, self).__init__()\n",
    "        self.lm_model = lm_model\n",
    "        self.k = k\n",
    "        self.alpha = alpha\n",
    "        self.p = p\n",
    "        self.lm_weight = lm_weight\n",
    "        self.tokenizer = tokenizer\n",
    "        self.device = device\n",
    "        self.centroids = initial_centroids.clone().to('cuda').requires_grad_(True)\n",
    "\n",
    "            \n",
    "    def forward(self, inputs):\n",
    "        \"\"\"\n",
    "        Returns:\n",
    "            (\n",
    "                - idx of nearest centroid for each sample,\n",
    "                - clustering loss average of summed distances of each input to sample to the centroid,\n",
    "                - lm loss\n",
    "                - combined and weighted loss\n",
    "            )\n",
    "        \"\"\"\n",
    "        \n",
    "        # transfer input to device of the model instance\n",
    "        \n",
    "        \n",
    "        # compute the lm loss w.r.t. to the inputs\n",
    "        input_ids = inputs['input_ids'].clone()\n",
    "        input_ids, labels = mask_tokens(input_ids, self.tokenizer)\n",
    "        inputs['input_ids'] = input_ids\n",
    "\n",
    "        inputs = inputs.to(self.device)\n",
    "        labels = labels.to(self.device)\n",
    "        outputs = self.lm_model(labels=labels, **inputs)\n",
    "        lm_loss = outputs.loss\n",
    "        \n",
    "        \n",
    "        # 0. obtain embeddings for each input\n",
    "        input_embeddings = self.lm_model.base_model(**inputs).last_hidden_state[:,0,:]\n",
    "        input_embeddings = input_embeddings.to(torch.float64)\n",
    "\n",
    "\n",
    "        # 1. compute distance to centroids\n",
    "        distances = torch.stack([lp_distance(embedding.unsqueeze(0), self.centroids) for embedding in input_embeddings])\n",
    "        nearest_centroids = torch.argmin(distances.cpu().clone().detach(), dim=1)\n",
    "        distances = torch.transpose(distances, 0, 1)    \n",
    "\n",
    "        # => shape (n_centroids, n_samples)\n",
    "        # 2. compute the softmax for each centroid of each distance to each centroid per input sample\n",
    "        # find min distances for each centroid\n",
    "\n",
    "        min_distances = torch.min(distances, dim=1).values\n",
    "        exponentials = torch.exp(-1 * (distances - min_distances.unsqueeze(1)))\n",
    "        softmax = exponentials / torch.sum(exponentials, dim=1).unsqueeze(1)\n",
    "\n",
    "        # 3. weight the distanace between each sample and each centroid\n",
    "        weighted_distances = distances * softmax\n",
    "\n",
    "\n",
    "        # 4. sum over centroids to obtain loss\n",
    "        clustering_loss = weighted_distances.sum(dim=1).sum()\n",
    "        \n",
    "        \n",
    "        combined_loss = torch.add(lm_loss, clustering_loss)\n",
    "        \n",
    "        return nearest_centroids, clustering_loss, lm_loss, combined_loss\n",
    "        \n",
    "        \n",
    "        \n",
    "    \n",
    "    def embed(self, inputs):\n",
    "        \"\"\"\n",
    "        Returns the cls embeddings of the input sequences as provided by the base model of the lm_model\n",
    "        \"\"\"\n",
    "        return self.lm_model.base_model(**inputs).last_hidden_state[:,0,:]\n",
    "    \n",
    "    def _random_init_centroids(self, k, n_dims):\n",
    "        \"\"\"\n",
    "        Returns randomly uniform initalized centroids\n",
    "        \"\"\"\n",
    "        #return torch.rand((k, n_dims), device=self.device), requires_grad=True)\n",
    "        return nn.Parameter(torch.Tensor(k, n_dims).uniform_(-1, 1).to(torch.float64), requires_grad=True)"
   ]
  },
  {
   "cell_type": "markdown",
   "metadata": {},
   "source": [
    "# Some helpers:"
   ]
  },
  {
   "cell_type": "code",
   "execution_count": 7,
   "metadata": {},
   "outputs": [],
   "source": [
    "import matplotlib.pyplot as plt\n",
    "\n",
    "def plot_grad_flow_v2(named_parameters):\n",
    "    '''Plots the gradients flowing through different layers in the net during training.\n",
    "    Can be used for checking for possible gradient vanishing / exploding problems.\n",
    "    \n",
    "    Usage: Plug this function in Trainer class after loss.backwards() as \n",
    "    \"plot_grad_flow(self.model.named_parameters())\" to visualize the gradient flow'''\n",
    "    ave_grads = []\n",
    "    max_grads= []\n",
    "    layers = []\n",
    "    for n, p in named_parameters:\n",
    "        if(p.requires_grad) and (\"bias\" not in n):\n",
    "            layers.append(n)\n",
    "            ave_grads.append(p.grad.abs().mean())\n",
    "            max_grads.append(p.grad.abs().max())\n",
    "    plt.bar(np.arange(len(max_grads)), max_grads, alpha=0.1, lw=1, color=\"c\")\n",
    "    plt.bar(np.arange(len(max_grads)), ave_grads, alpha=0.1, lw=1, color=\"b\")\n",
    "    plt.hlines(0, 0, len(ave_grads)+1, lw=2, color=\"k\" )\n",
    "    plt.xticks(range(0,len(ave_grads), 1), layers, rotation=\"vertical\")\n",
    "    plt.xlim(left=0, right=len(ave_grads))\n",
    "    plt.ylim(bottom = -0.001, top=0.02) # zoom in on the lower gradient regions\n",
    "    plt.xlabel(\"Layers\")\n",
    "    plt.ylabel(\"average gradient\")\n",
    "    plt.title(\"Gradient flow\")\n",
    "    plt.grid(True)\n",
    "    plt.legend([Line2D([0], [0], color=\"c\", lw=4),\n",
    "                Line2D([0], [0], color=\"b\", lw=4),\n",
    "                Line2D([0], [0], color=\"k\", lw=4)], ['max-gradient', 'mean-gradient', 'zero-gradient'])"
   ]
  },
  {
   "cell_type": "code",
   "execution_count": 8,
   "metadata": {},
   "outputs": [],
   "source": [
    "def plot_grad_flow(named_parameters):\n",
    "    ave_grads = []\n",
    "    layers = []\n",
    "    for n, p in named_parameters:\n",
    "        if(p.requires_grad) and (\"bias\" not in n):\n",
    "            layers.append(n)\n",
    "            ave_grads.append(p.grad.abs().mean())\n",
    "    plt.plot(ave_grads, alpha=0.3, color=\"b\")\n",
    "    plt.hlines(0, 0, len(ave_grads)+1, linewidth=1, color=\"k\" )\n",
    "    plt.xticks(range(0,len(ave_grads), 1), layers, rotation=\"vertical\")\n",
    "    plt.xlim(xmin=0, xmax=len(ave_grads))\n",
    "    plt.xlabel(\"Layers\")\n",
    "    plt.ylabel(\"average gradient\")\n",
    "    plt.title(\"Gradient flow\")\n",
    "    plt.grid(True)"
   ]
  },
  {
   "cell_type": "code",
   "execution_count": 9,
   "metadata": {},
   "outputs": [],
   "source": [
    "import numpy as np\n",
    "import torch\n",
    "from typing import Optional\n",
    "from scipy.optimize import linear_sum_assignment\n",
    "\n",
    "\n",
    "def cluster_accuracy(y_true, y_predicted, cluster_number: Optional[int] = None):\n",
    "    \"\"\"\n",
    "    Calculate clustering accuracy after using the linear_sum_assignment function in SciPy to\n",
    "    determine reassignments.\n",
    "    :param y_true: list of true cluster numbers, an integer array 0-indexed\n",
    "    :param y_predicted: list  of predicted cluster numbers, an integer array 0-indexed\n",
    "    :param cluster_number: number of clusters, if None then calculated from input\n",
    "    :return: reassignment dictionary, clustering accuracy\n",
    "    \"\"\"\n",
    "    if cluster_number is None:\n",
    "        cluster_number = (\n",
    "            max(y_predicted.max(), y_true.max()) + 1\n",
    "        )  # assume labels are 0-indexed\n",
    "    count_matrix = np.zeros((cluster_number, cluster_number), dtype=np.int64)\n",
    "    for i in range(y_predicted.size):\n",
    "        count_matrix[y_predicted[i], y_true[i]] += 1\n",
    "\n",
    "    row_ind, col_ind = linear_sum_assignment(count_matrix.max() - count_matrix)\n",
    "    reassignment = dict(zip(row_ind, col_ind))\n",
    "    accuracy = count_matrix[row_ind, col_ind].sum() / y_predicted.size\n",
    "    return reassignment, accuracy"
   ]
  },
  {
   "cell_type": "code",
   "execution_count": 10,
   "metadata": {},
   "outputs": [],
   "source": [
    "from torch.utils.data import Dataset, DataLoader\n",
    "\n",
    "\n",
    "class TextDataset(Dataset):\n",
    "    def __init__(self, texts, labels):\n",
    "        \n",
    "        self.texts = texts\n",
    "        self.labels = labels\n",
    "\n",
    "\n",
    "        self.labels = torch.tensor(self.labels, dtype=torch.float)\n",
    "        \n",
    "    def __getitem__(self, index):\n",
    "        return self.texts[index], self.labels[index]\n",
    "\n",
    "    \n",
    "    def __len__(self):\n",
    "        return len(self.texts)"
   ]
  },
  {
   "cell_type": "code",
   "execution_count": 11,
   "metadata": {},
   "outputs": [
    {
     "data": {
      "text/plain": [
       "array([1, 0, 3, ..., 1, 0, 0])"
      ]
     },
     "execution_count": 11,
     "metadata": {},
     "output_type": "execute_result"
    }
   ],
   "source": [
    "from sklearn.datasets import fetch_20newsgroups\n",
    "import numpy as np\n",
    "data = fetch_20newsgroups(\n",
    "    categories=['comp.graphics', 'talk.religion.misc', 'rec.autos', 'sci.med'],\n",
    "    remove=('headers', 'footers', 'quotes'),\n",
    "    shuffle=True,\n",
    "    random_state=42\n",
    ")\n",
    "texts, labels = data.data, data.target\n",
    "labels"
   ]
  },
  {
   "cell_type": "code",
   "execution_count": 12,
   "metadata": {},
   "outputs": [],
   "source": [
    "from sklearn.model_selection import train_test_split\n",
    "\n",
    "texts, _, labels, _ = train_test_split(texts, labels, test_size=0.9)"
   ]
  },
  {
   "cell_type": "code",
   "execution_count": 13,
   "metadata": {},
   "outputs": [],
   "source": [
    "data = TextDataset(texts, labels)\n",
    "data_loader = DataLoader(dataset=data, batch_size=4, shuffle=False)"
   ]
  },
  {
   "cell_type": "markdown",
   "metadata": {},
   "source": [
    "# Init distilbert lm model"
   ]
  },
  {
   "cell_type": "code",
   "execution_count": 14,
   "metadata": {},
   "outputs": [
    {
     "data": {
      "text/plain": [
       "DistilBertForMaskedLM(\n",
       "  (distilbert): DistilBertModel(\n",
       "    (embeddings): Embeddings(\n",
       "      (word_embeddings): Embedding(30522, 768, padding_idx=0)\n",
       "      (position_embeddings): Embedding(512, 768)\n",
       "      (LayerNorm): LayerNorm((768,), eps=1e-12, elementwise_affine=True)\n",
       "      (dropout): Dropout(p=0.1, inplace=False)\n",
       "    )\n",
       "    (transformer): Transformer(\n",
       "      (layer): ModuleList(\n",
       "        (0): TransformerBlock(\n",
       "          (attention): MultiHeadSelfAttention(\n",
       "            (dropout): Dropout(p=0.1, inplace=False)\n",
       "            (q_lin): Linear(in_features=768, out_features=768, bias=True)\n",
       "            (k_lin): Linear(in_features=768, out_features=768, bias=True)\n",
       "            (v_lin): Linear(in_features=768, out_features=768, bias=True)\n",
       "            (out_lin): Linear(in_features=768, out_features=768, bias=True)\n",
       "          )\n",
       "          (sa_layer_norm): LayerNorm((768,), eps=1e-12, elementwise_affine=True)\n",
       "          (ffn): FFN(\n",
       "            (dropout): Dropout(p=0.1, inplace=False)\n",
       "            (lin1): Linear(in_features=768, out_features=3072, bias=True)\n",
       "            (lin2): Linear(in_features=3072, out_features=768, bias=True)\n",
       "          )\n",
       "          (output_layer_norm): LayerNorm((768,), eps=1e-12, elementwise_affine=True)\n",
       "        )\n",
       "        (1): TransformerBlock(\n",
       "          (attention): MultiHeadSelfAttention(\n",
       "            (dropout): Dropout(p=0.1, inplace=False)\n",
       "            (q_lin): Linear(in_features=768, out_features=768, bias=True)\n",
       "            (k_lin): Linear(in_features=768, out_features=768, bias=True)\n",
       "            (v_lin): Linear(in_features=768, out_features=768, bias=True)\n",
       "            (out_lin): Linear(in_features=768, out_features=768, bias=True)\n",
       "          )\n",
       "          (sa_layer_norm): LayerNorm((768,), eps=1e-12, elementwise_affine=True)\n",
       "          (ffn): FFN(\n",
       "            (dropout): Dropout(p=0.1, inplace=False)\n",
       "            (lin1): Linear(in_features=768, out_features=3072, bias=True)\n",
       "            (lin2): Linear(in_features=3072, out_features=768, bias=True)\n",
       "          )\n",
       "          (output_layer_norm): LayerNorm((768,), eps=1e-12, elementwise_affine=True)\n",
       "        )\n",
       "        (2): TransformerBlock(\n",
       "          (attention): MultiHeadSelfAttention(\n",
       "            (dropout): Dropout(p=0.1, inplace=False)\n",
       "            (q_lin): Linear(in_features=768, out_features=768, bias=True)\n",
       "            (k_lin): Linear(in_features=768, out_features=768, bias=True)\n",
       "            (v_lin): Linear(in_features=768, out_features=768, bias=True)\n",
       "            (out_lin): Linear(in_features=768, out_features=768, bias=True)\n",
       "          )\n",
       "          (sa_layer_norm): LayerNorm((768,), eps=1e-12, elementwise_affine=True)\n",
       "          (ffn): FFN(\n",
       "            (dropout): Dropout(p=0.1, inplace=False)\n",
       "            (lin1): Linear(in_features=768, out_features=3072, bias=True)\n",
       "            (lin2): Linear(in_features=3072, out_features=768, bias=True)\n",
       "          )\n",
       "          (output_layer_norm): LayerNorm((768,), eps=1e-12, elementwise_affine=True)\n",
       "        )\n",
       "        (3): TransformerBlock(\n",
       "          (attention): MultiHeadSelfAttention(\n",
       "            (dropout): Dropout(p=0.1, inplace=False)\n",
       "            (q_lin): Linear(in_features=768, out_features=768, bias=True)\n",
       "            (k_lin): Linear(in_features=768, out_features=768, bias=True)\n",
       "            (v_lin): Linear(in_features=768, out_features=768, bias=True)\n",
       "            (out_lin): Linear(in_features=768, out_features=768, bias=True)\n",
       "          )\n",
       "          (sa_layer_norm): LayerNorm((768,), eps=1e-12, elementwise_affine=True)\n",
       "          (ffn): FFN(\n",
       "            (dropout): Dropout(p=0.1, inplace=False)\n",
       "            (lin1): Linear(in_features=768, out_features=3072, bias=True)\n",
       "            (lin2): Linear(in_features=3072, out_features=768, bias=True)\n",
       "          )\n",
       "          (output_layer_norm): LayerNorm((768,), eps=1e-12, elementwise_affine=True)\n",
       "        )\n",
       "        (4): TransformerBlock(\n",
       "          (attention): MultiHeadSelfAttention(\n",
       "            (dropout): Dropout(p=0.1, inplace=False)\n",
       "            (q_lin): Linear(in_features=768, out_features=768, bias=True)\n",
       "            (k_lin): Linear(in_features=768, out_features=768, bias=True)\n",
       "            (v_lin): Linear(in_features=768, out_features=768, bias=True)\n",
       "            (out_lin): Linear(in_features=768, out_features=768, bias=True)\n",
       "          )\n",
       "          (sa_layer_norm): LayerNorm((768,), eps=1e-12, elementwise_affine=True)\n",
       "          (ffn): FFN(\n",
       "            (dropout): Dropout(p=0.1, inplace=False)\n",
       "            (lin1): Linear(in_features=768, out_features=3072, bias=True)\n",
       "            (lin2): Linear(in_features=3072, out_features=768, bias=True)\n",
       "          )\n",
       "          (output_layer_norm): LayerNorm((768,), eps=1e-12, elementwise_affine=True)\n",
       "        )\n",
       "        (5): TransformerBlock(\n",
       "          (attention): MultiHeadSelfAttention(\n",
       "            (dropout): Dropout(p=0.1, inplace=False)\n",
       "            (q_lin): Linear(in_features=768, out_features=768, bias=True)\n",
       "            (k_lin): Linear(in_features=768, out_features=768, bias=True)\n",
       "            (v_lin): Linear(in_features=768, out_features=768, bias=True)\n",
       "            (out_lin): Linear(in_features=768, out_features=768, bias=True)\n",
       "          )\n",
       "          (sa_layer_norm): LayerNorm((768,), eps=1e-12, elementwise_affine=True)\n",
       "          (ffn): FFN(\n",
       "            (dropout): Dropout(p=0.1, inplace=False)\n",
       "            (lin1): Linear(in_features=768, out_features=3072, bias=True)\n",
       "            (lin2): Linear(in_features=3072, out_features=768, bias=True)\n",
       "          )\n",
       "          (output_layer_norm): LayerNorm((768,), eps=1e-12, elementwise_affine=True)\n",
       "        )\n",
       "      )\n",
       "    )\n",
       "  )\n",
       "  (vocab_transform): Linear(in_features=768, out_features=768, bias=True)\n",
       "  (vocab_layer_norm): LayerNorm((768,), eps=1e-12, elementwise_affine=True)\n",
       "  (vocab_projector): Linear(in_features=768, out_features=30522, bias=True)\n",
       "  (mlm_loss_fct): CrossEntropyLoss()\n",
       ")"
      ]
     },
     "execution_count": 14,
     "metadata": {},
     "output_type": "execute_result"
    }
   ],
   "source": [
    "from transformers import DistilBertTokenizer, DistilBertForMaskedLM\n",
    "import torch\n",
    "\n",
    "tokenizer = DistilBertTokenizer.from_pretrained('distilbert-base-uncased', return_dict=True)\n",
    "lm_model = DistilBertForMaskedLM.from_pretrained('distilbert-base-uncased', return_dict=True)\n",
    "lm_model.to('cuda')"
   ]
  },
  {
   "cell_type": "markdown",
   "metadata": {},
   "source": [
    "# Obtain initial embeddings for dataset"
   ]
  },
  {
   "cell_type": "code",
   "execution_count": 15,
   "metadata": {},
   "outputs": [
    {
     "name": "stderr",
     "output_type": "stream",
     "text": [
      "214it [00:02, 92.48it/s]\n"
     ]
    }
   ],
   "source": [
    "from tqdm import tqdm\n",
    "embeddings = []\n",
    "for index, text in tqdm(enumerate(texts)):\n",
    "    inputs = tokenizer(text, return_tensors='pt', padding=True, truncation=True)\n",
    "    inputs = inputs.to('cuda')\n",
    "    outputs = lm_model.base_model(**inputs)\n",
    "    cls_embedding = outputs.last_hidden_state[:,0,:].flatten().cpu().detach().numpy() # \n",
    "    embeddings.append(cls_embedding)\n"
   ]
  },
  {
   "cell_type": "code",
   "execution_count": 16,
   "metadata": {},
   "outputs": [],
   "source": [
    "embeddings = np.array(embeddings)"
   ]
  },
  {
   "cell_type": "code",
   "execution_count": 17,
   "metadata": {},
   "outputs": [],
   "source": [
    "#embeddings = []\n",
    "#for batch in tqdm(data_loader):\n",
    "#    t, _ = batch\n",
    "#    inputs = tokenizer(t, return_tensors='pt', padding=True, truncation=True)\n",
    "#    inputs = inputs.to('cuda')\n",
    "#    outputs = lm_model.base_model(**inputs)\n",
    "#    e = outputs.last_hidden_state[:,0,:].cpu().detach().numpy()\n",
    "#    embeddings.append(e)\n",
    "#embeddings = np.vstack(embeddings)"
   ]
  },
  {
   "cell_type": "code",
   "execution_count": 18,
   "metadata": {},
   "outputs": [
    {
     "data": {
      "text/plain": [
       "array([[ 0.1308536 ,  0.2701226 , -0.23426995, ...,  0.29181436,\n",
       "         0.5142227 ,  0.23127735],\n",
       "       [-0.18909226, -0.05944828,  0.03693413, ..., -0.07156788,\n",
       "         0.13280612,  0.22173178],\n",
       "       [-0.14148836, -0.1906823 , -0.055812  , ..., -0.22927535,\n",
       "         0.25208536,  0.54102683],\n",
       "       ...,\n",
       "       [-0.52723783,  0.01346862, -0.13512269, ..., -0.02026371,\n",
       "         0.07071692,  0.8126688 ],\n",
       "       [-0.02691005,  0.0087589 , -0.07364602, ..., -0.01669286,\n",
       "         0.29560453,  0.28300652],\n",
       "       [-0.18651594, -0.25765517,  0.3606241 , ..., -0.310484  ,\n",
       "         0.35154006,  0.01166417]], dtype=float32)"
      ]
     },
     "execution_count": 18,
     "metadata": {},
     "output_type": "execute_result"
    }
   ],
   "source": [
    "embeddings"
   ]
  },
  {
   "cell_type": "markdown",
   "metadata": {},
   "source": [
    "# Initial KMeans clustering (just for evaluation)"
   ]
  },
  {
   "cell_type": "code",
   "execution_count": 19,
   "metadata": {},
   "outputs": [],
   "source": [
    "from sklearn.cluster import KMeans\n",
    "kmeans = KMeans(n_clusters=np.unique(labels).shape[0], n_init=20)\n",
    "\n",
    "kmeans_cluster = kmeans.fit_predict(embeddings)\n",
    "kmean_centroids = torch.from_numpy(kmeans.cluster_centers_)\n",
    "kmean_centroids = kmean_centroids.to('cuda')"
   ]
  },
  {
   "cell_type": "code",
   "execution_count": 20,
   "metadata": {},
   "outputs": [
    {
     "name": "stdout",
     "output_type": "stream",
     "text": [
      "0.7009345794392523\n",
      "0.5215189704873742\n",
      "0.4611069416094929\n"
     ]
    }
   ],
   "source": [
    "from sklearn.metrics import normalized_mutual_info_score, adjusted_rand_score\n",
    "\n",
    "print(cluster_accuracy(labels, kmeans_cluster)[1])\n",
    "print(normalized_mutual_info_score(labels, kmeans_cluster))\n",
    "print(adjusted_rand_score(labels, kmeans_cluster))"
   ]
  },
  {
   "cell_type": "markdown",
   "metadata": {},
   "source": [
    "# Init cluster model"
   ]
  },
  {
   "cell_type": "code",
   "execution_count": 21,
   "metadata": {},
   "outputs": [
    {
     "data": {
      "text/plain": [
       "tensor([[-0.0554, -0.0145, -0.1386,  ..., -0.0342,  0.1878,  0.4609],\n",
       "        [-0.1530, -0.0975,  0.1332,  ..., -0.0828,  0.3362,  0.4902],\n",
       "        [-0.1504, -0.0233, -0.0910,  ..., -0.1499,  0.3769,  0.4145],\n",
       "        [-0.0527, -0.0487,  0.0077,  ..., -0.0287,  0.3828,  0.3546]],\n",
       "       device='cuda:0')"
      ]
     },
     "execution_count": 21,
     "metadata": {},
     "output_type": "execute_result"
    }
   ],
   "source": [
    "import random\n",
    "initial_centroids = np.array([embeddings[i] for i in (random.randint(0, embeddings.shape[0]-1) for _ in range(4))])\n",
    "initial_centroids = torch.from_numpy(initial_centroids).to('cuda')\n",
    "initial_centroids"
   ]
  },
  {
   "cell_type": "code",
   "execution_count": 22,
   "metadata": {},
   "outputs": [],
   "source": [
    "cluster_model = DeepKMeansWithLM2(\n",
    "    lm_model=lm_model,\n",
    "    alpha=1,\n",
    "    lm_weight=1,\n",
    "    k=np.unique(labels).shape[0],\n",
    "    n_features=embeddings.shape[1],\n",
    "    p=2,\n",
    "    initial_centroids=initial_centroids,\n",
    "    tokenizer=tokenizer\n",
    ")"
   ]
  },
  {
   "cell_type": "code",
   "execution_count": 23,
   "metadata": {},
   "outputs": [
    {
     "data": {
      "text/plain": [
       "DeepKMeansWithLM2(\n",
       "  (lm_model): DistilBertForMaskedLM(\n",
       "    (distilbert): DistilBertModel(\n",
       "      (embeddings): Embeddings(\n",
       "        (word_embeddings): Embedding(30522, 768, padding_idx=0)\n",
       "        (position_embeddings): Embedding(512, 768)\n",
       "        (LayerNorm): LayerNorm((768,), eps=1e-12, elementwise_affine=True)\n",
       "        (dropout): Dropout(p=0.1, inplace=False)\n",
       "      )\n",
       "      (transformer): Transformer(\n",
       "        (layer): ModuleList(\n",
       "          (0): TransformerBlock(\n",
       "            (attention): MultiHeadSelfAttention(\n",
       "              (dropout): Dropout(p=0.1, inplace=False)\n",
       "              (q_lin): Linear(in_features=768, out_features=768, bias=True)\n",
       "              (k_lin): Linear(in_features=768, out_features=768, bias=True)\n",
       "              (v_lin): Linear(in_features=768, out_features=768, bias=True)\n",
       "              (out_lin): Linear(in_features=768, out_features=768, bias=True)\n",
       "            )\n",
       "            (sa_layer_norm): LayerNorm((768,), eps=1e-12, elementwise_affine=True)\n",
       "            (ffn): FFN(\n",
       "              (dropout): Dropout(p=0.1, inplace=False)\n",
       "              (lin1): Linear(in_features=768, out_features=3072, bias=True)\n",
       "              (lin2): Linear(in_features=3072, out_features=768, bias=True)\n",
       "            )\n",
       "            (output_layer_norm): LayerNorm((768,), eps=1e-12, elementwise_affine=True)\n",
       "          )\n",
       "          (1): TransformerBlock(\n",
       "            (attention): MultiHeadSelfAttention(\n",
       "              (dropout): Dropout(p=0.1, inplace=False)\n",
       "              (q_lin): Linear(in_features=768, out_features=768, bias=True)\n",
       "              (k_lin): Linear(in_features=768, out_features=768, bias=True)\n",
       "              (v_lin): Linear(in_features=768, out_features=768, bias=True)\n",
       "              (out_lin): Linear(in_features=768, out_features=768, bias=True)\n",
       "            )\n",
       "            (sa_layer_norm): LayerNorm((768,), eps=1e-12, elementwise_affine=True)\n",
       "            (ffn): FFN(\n",
       "              (dropout): Dropout(p=0.1, inplace=False)\n",
       "              (lin1): Linear(in_features=768, out_features=3072, bias=True)\n",
       "              (lin2): Linear(in_features=3072, out_features=768, bias=True)\n",
       "            )\n",
       "            (output_layer_norm): LayerNorm((768,), eps=1e-12, elementwise_affine=True)\n",
       "          )\n",
       "          (2): TransformerBlock(\n",
       "            (attention): MultiHeadSelfAttention(\n",
       "              (dropout): Dropout(p=0.1, inplace=False)\n",
       "              (q_lin): Linear(in_features=768, out_features=768, bias=True)\n",
       "              (k_lin): Linear(in_features=768, out_features=768, bias=True)\n",
       "              (v_lin): Linear(in_features=768, out_features=768, bias=True)\n",
       "              (out_lin): Linear(in_features=768, out_features=768, bias=True)\n",
       "            )\n",
       "            (sa_layer_norm): LayerNorm((768,), eps=1e-12, elementwise_affine=True)\n",
       "            (ffn): FFN(\n",
       "              (dropout): Dropout(p=0.1, inplace=False)\n",
       "              (lin1): Linear(in_features=768, out_features=3072, bias=True)\n",
       "              (lin2): Linear(in_features=3072, out_features=768, bias=True)\n",
       "            )\n",
       "            (output_layer_norm): LayerNorm((768,), eps=1e-12, elementwise_affine=True)\n",
       "          )\n",
       "          (3): TransformerBlock(\n",
       "            (attention): MultiHeadSelfAttention(\n",
       "              (dropout): Dropout(p=0.1, inplace=False)\n",
       "              (q_lin): Linear(in_features=768, out_features=768, bias=True)\n",
       "              (k_lin): Linear(in_features=768, out_features=768, bias=True)\n",
       "              (v_lin): Linear(in_features=768, out_features=768, bias=True)\n",
       "              (out_lin): Linear(in_features=768, out_features=768, bias=True)\n",
       "            )\n",
       "            (sa_layer_norm): LayerNorm((768,), eps=1e-12, elementwise_affine=True)\n",
       "            (ffn): FFN(\n",
       "              (dropout): Dropout(p=0.1, inplace=False)\n",
       "              (lin1): Linear(in_features=768, out_features=3072, bias=True)\n",
       "              (lin2): Linear(in_features=3072, out_features=768, bias=True)\n",
       "            )\n",
       "            (output_layer_norm): LayerNorm((768,), eps=1e-12, elementwise_affine=True)\n",
       "          )\n",
       "          (4): TransformerBlock(\n",
       "            (attention): MultiHeadSelfAttention(\n",
       "              (dropout): Dropout(p=0.1, inplace=False)\n",
       "              (q_lin): Linear(in_features=768, out_features=768, bias=True)\n",
       "              (k_lin): Linear(in_features=768, out_features=768, bias=True)\n",
       "              (v_lin): Linear(in_features=768, out_features=768, bias=True)\n",
       "              (out_lin): Linear(in_features=768, out_features=768, bias=True)\n",
       "            )\n",
       "            (sa_layer_norm): LayerNorm((768,), eps=1e-12, elementwise_affine=True)\n",
       "            (ffn): FFN(\n",
       "              (dropout): Dropout(p=0.1, inplace=False)\n",
       "              (lin1): Linear(in_features=768, out_features=3072, bias=True)\n",
       "              (lin2): Linear(in_features=3072, out_features=768, bias=True)\n",
       "            )\n",
       "            (output_layer_norm): LayerNorm((768,), eps=1e-12, elementwise_affine=True)\n",
       "          )\n",
       "          (5): TransformerBlock(\n",
       "            (attention): MultiHeadSelfAttention(\n",
       "              (dropout): Dropout(p=0.1, inplace=False)\n",
       "              (q_lin): Linear(in_features=768, out_features=768, bias=True)\n",
       "              (k_lin): Linear(in_features=768, out_features=768, bias=True)\n",
       "              (v_lin): Linear(in_features=768, out_features=768, bias=True)\n",
       "              (out_lin): Linear(in_features=768, out_features=768, bias=True)\n",
       "            )\n",
       "            (sa_layer_norm): LayerNorm((768,), eps=1e-12, elementwise_affine=True)\n",
       "            (ffn): FFN(\n",
       "              (dropout): Dropout(p=0.1, inplace=False)\n",
       "              (lin1): Linear(in_features=768, out_features=3072, bias=True)\n",
       "              (lin2): Linear(in_features=3072, out_features=768, bias=True)\n",
       "            )\n",
       "            (output_layer_norm): LayerNorm((768,), eps=1e-12, elementwise_affine=True)\n",
       "          )\n",
       "        )\n",
       "      )\n",
       "    )\n",
       "    (vocab_transform): Linear(in_features=768, out_features=768, bias=True)\n",
       "    (vocab_layer_norm): LayerNorm((768,), eps=1e-12, elementwise_affine=True)\n",
       "    (vocab_projector): Linear(in_features=768, out_features=30522, bias=True)\n",
       "    (mlm_loss_fct): CrossEntropyLoss()\n",
       "  )\n",
       ")"
      ]
     },
     "execution_count": 23,
     "metadata": {},
     "output_type": "execute_result"
    }
   ],
   "source": [
    "cluster_model.to('cuda')"
   ]
  },
  {
   "cell_type": "code",
   "execution_count": 24,
   "metadata": {},
   "outputs": [],
   "source": [
    "#optimizer = torch.optim.AdamW(params=cluster_model.parameters(), lr=0.02)\n",
    "#optimizer = torch.optim.AdamW(params=cluster_model.parameters(), lr=0.1, eps=1e-8)\n",
    "optimizer = torch.optim.SGD(params=cluster_model.parameters(), lr=0.001)\n",
    "cluster_optimizer = torch.optim.Adam(params=cluster_model.parameters(), lr=0.001)\n",
    "lm_optimizer = torch.optim.AdamW(params=cluster_model.lm_model.parameters(), lr=1e-5)"
   ]
  },
  {
   "cell_type": "code",
   "execution_count": 25,
   "metadata": {},
   "outputs": [],
   "source": [
    "from transformers import get_linear_schedule_with_warmup\n",
    "\n",
    "scheduler = get_linear_schedule_with_warmup(optimizer=optimizer, num_warmup_steps=5, num_training_steps=10)"
   ]
  },
  {
   "cell_type": "code",
   "execution_count": 26,
   "metadata": {},
   "outputs": [],
   "source": [
    "from tqdm import tqdm\n",
    "\n",
    "def train(epoch, cluster_model, data_loader, optimizer):\n",
    "    \n",
    "    #train part\n",
    "    cluster_model.train()\n",
    "        \n",
    "    pbar = tqdm(data_loader)\n",
    "    for batch_index, batch_data in enumerate(pbar):\n",
    "        \n",
    "        # tokenize texts each batch\n",
    "        texts, _ = batch_data\n",
    "        inputs = tokenizer(\n",
    "            texts,\n",
    "            return_tensors='pt',\n",
    "            padding=True,\n",
    "            truncation=True\n",
    "        )\n",
    "        \n",
    "        nearest_centroids, clustering_loss, lm_loss, combined_loss = cluster_model(inputs)\n",
    "        \n",
    "        optimizer.zero_grad()\n",
    "        clustering_loss.backward()\n",
    "        optimizer.step()\n",
    "\n",
    "        \n",
    "        pbar.set_description(f'''Epoch {epoch + 1} | Combined Loss {combined_loss.item()} | Clustering Loss {clustering_loss.item()} | LM Loss {lm_loss.item()}''')\n",
    "    \n",
    "\n",
    "    \n",
    "    # validation part\n",
    "    with torch.no_grad():\n",
    "        cluster_model.eval()\n",
    "        true_labels = []\n",
    "        predicted_labels = []\n",
    "        embeddings = []\n",
    "        for batch_index, batch_data in enumerate(pbar):\n",
    "            texts, labels = batch_data\n",
    "            inputs = tokenizer(\n",
    "                texts,\n",
    "                return_tensors='pt',\n",
    "                padding=True,\n",
    "                truncation=True\n",
    "            )\n",
    "            \n",
    "            nearest_centroids, _, _, _ = cluster_model(inputs)\n",
    "            nearest_centroids = nearest_centroids.numpy()\n",
    "            \n",
    "            \n",
    "            true_label = labels.cpu().detach().numpy()\n",
    "            predicted_labels.extend(nearest_centroids)\n",
    "            true_labels.extend(true_label)\n",
    "            \n",
    "            embeddings.append(\n",
    "                cluster_model.embed(inputs).cpu().detach().numpy()\n",
    "            )\n",
    "            \n",
    "        true_labels = np.array(true_labels).flatten().astype('int')\n",
    "        predicted_labels = np.array(predicted_labels).flatten().astype('int')\n",
    "\n",
    "        print('#' * 60)\n",
    "        print(\"NN Measures\")\n",
    "        print(\"NMI:\", normalized_mutual_info_score(true_labels, predicted_labels))\n",
    "        print(\"Accuracy:\", cluster_accuracy(true_labels, predicted_labels))\n",
    "        print(\"ARI:\", adjusted_rand_score(true_labels, predicted_labels))\n",
    "        \n",
    "        print(lp_distance(cluster_model.centroids, torch.flip(cluster_model.centroids, dims=(1,0))))\n",
    "        print(cluster_model.centroids)\n",
    "    \n",
    "    #return np.array(embeddings), true_labels, predicted_labels, combined_loss.item()\n",
    "    return np.array(embeddings), true_labels, predicted_labels, clustering_loss.item()\n",
    "        "
   ]
  },
  {
   "cell_type": "code",
   "execution_count": 27,
   "metadata": {},
   "outputs": [],
   "source": [
    "import numpy as np\n",
    "\n",
    "def alpha_epochs(epochs, min=0.0001, max=1):\n",
    "    alphas = np.linspace(min, max, epochs)\n",
    "    for e, alpha in zip(range(epochs), alphas):\n",
    "        yield alpha, e"
   ]
  },
  {
   "cell_type": "code",
   "execution_count": 28,
   "metadata": {},
   "outputs": [
    {
     "name": "stderr",
     "output_type": "stream",
     "text": [
      "Epoch 1 | Combined Loss 541.3658267603191 | Clustering Loss 538.1289064035686 | LM Loss 3.2369203567504883: 100%|██████████| 54/54 [00:05<00:00,  9.91it/s]  \n"
     ]
    },
    {
     "name": "stdout",
     "output_type": "stream",
     "text": [
      "############################################################\n",
      "NN Measures\n",
      "NMI: 0.17162256572903012\n",
      "Accuracy: ({0: 1, 1: 3, 2: 2, 3: 0}, 0.411214953271028)\n",
      "ARI: 0.04846315199109055\n",
      "tensor([261.1272, 270.9822, 270.9822, 261.1272], device='cuda:0')\n",
      "tensor([[-0.0554, -0.0145, -0.1386,  ..., -0.0342,  0.1878,  0.4609],\n",
      "        [-0.1530, -0.0975,  0.1332,  ..., -0.0828,  0.3362,  0.4902],\n",
      "        [-0.1504, -0.0233, -0.0910,  ..., -0.1499,  0.3769,  0.4145],\n",
      "        [-0.0527, -0.0487,  0.0077,  ..., -0.0287,  0.3828,  0.3546]],\n",
      "       device='cuda:0', requires_grad=True)\n"
     ]
    },
    {
     "data": {
      "image/png": "[encoded data removed]",
      "text/plain": [
       "<Figure size 432x288 with 1 Axes>"
      ]
     },
     "metadata": {
      "needs_background": "light"
     },
     "output_type": "display_data"
    },
    {
     "name": "stderr",
     "output_type": "stream",
     "text": [
      "Epoch 2 | Combined Loss 579.9266000490144 | Clustering Loss 576.8708499174073 | LM Loss 3.0557501316070557: 100%|██████████| 54/54 [00:05<00:00,  9.83it/s]  \n"
     ]
    },
    {
     "name": "stdout",
     "output_type": "stream",
     "text": [
      "############################################################\n",
      "NN Measures\n",
      "NMI: 0.1699034515765521\n",
      "Accuracy: ({0: 1, 1: 3, 2: 2, 3: 0}, 0.4205607476635514)\n",
      "ARI: 0.05540528496794953\n",
      "tensor([261.1272, 270.9822, 270.9822, 261.1272], device='cuda:0')\n",
      "tensor([[-0.0554, -0.0145, -0.1386,  ..., -0.0342,  0.1878,  0.4609],\n",
      "        [-0.1530, -0.0975,  0.1332,  ..., -0.0828,  0.3362,  0.4902],\n",
      "        [-0.1504, -0.0233, -0.0910,  ..., -0.1499,  0.3769,  0.4145],\n",
      "        [-0.0527, -0.0487,  0.0077,  ..., -0.0287,  0.3828,  0.3546]],\n",
      "       device='cuda:0', requires_grad=True)\n"
     ]
    },
    {
     "data": {
      "image/png": "[encoded data removed]",
      "text/plain": [
       "<Figure size 432x288 with 1 Axes>"
      ]
     },
     "metadata": {
      "needs_background": "light"
     },
     "output_type": "display_data"
    },
    {
     "name": "stderr",
     "output_type": "stream",
     "text": [
      "Epoch 3 | Combined Loss 514.0530325259103 | Clustering Loss 511.03242958439733 | LM Loss 3.0206029415130615:   0%|          | 0/54 [00:00<?, ?it/s]"
     ]
    },
    {
     "name": "stdout",
     "output_type": "stream",
     "text": [
      "tensor(True)\n"
     ]
    },
    {
     "name": "stderr",
     "output_type": "stream",
     "text": [
      "Epoch 3 | Combined Loss 550.1617733157304 | Clustering Loss 546.8580101645616 | LM Loss 3.3037631511688232: 100%|██████████| 54/54 [00:05<00:00,  9.72it/s]  \n"
     ]
    },
    {
     "name": "stdout",
     "output_type": "stream",
     "text": [
      "############################################################\n",
      "NN Measures\n",
      "NMI: 0.14610771592510657\n",
      "Accuracy: ({0: 1, 1: 3, 2: 2, 3: 0}, 0.397196261682243)\n",
      "ARI: 0.03270485374640904\n",
      "tensor([261.1272, 270.9822, 270.9822, 261.1272], device='cuda:0')\n",
      "tensor([[-0.0554, -0.0145, -0.1386,  ..., -0.0342,  0.1878,  0.4609],\n",
      "        [-0.1530, -0.0975,  0.1332,  ..., -0.0828,  0.3362,  0.4902],\n",
      "        [-0.1504, -0.0233, -0.0910,  ..., -0.1499,  0.3769,  0.4145],\n",
      "        [-0.0527, -0.0487,  0.0077,  ..., -0.0287,  0.3828,  0.3546]],\n",
      "       device='cuda:0', requires_grad=True)\n"
     ]
    },
    {
     "data": {
      "image/png": "[encoded data removed]",
      "text/plain": [
       "<Figure size 432x288 with 1 Axes>"
      ]
     },
     "metadata": {
      "needs_background": "light"
     },
     "output_type": "display_data"
    },
    {
     "name": "stderr",
     "output_type": "stream",
     "text": [
      "Epoch 4 | Combined Loss 502.6666038545077 | Clustering Loss 499.1855643304293 | LM Loss 3.481039524078369:   0%|          | 0/54 [00:00<?, ?it/s]"
     ]
    },
    {
     "name": "stdout",
     "output_type": "stream",
     "text": [
      "tensor(True)\n"
     ]
    },
    {
     "name": "stderr",
     "output_type": "stream",
     "text": [
      "Epoch 4 | Combined Loss 588.6671915255428 | Clustering Loss 585.9315283499599 | LM Loss 2.7356631755828857: 100%|██████████| 54/54 [00:05<00:00,  9.75it/s]  \n"
     ]
    },
    {
     "name": "stdout",
     "output_type": "stream",
     "text": [
      "############################################################\n",
      "NN Measures\n",
      "NMI: 0.1632628524110542\n",
      "Accuracy: ({0: 3, 1: 1, 2: 2, 3: 0}, 0.411214953271028)\n",
      "ARI: 0.05122176975557998\n",
      "tensor([261.1272, 270.9822, 270.9822, 261.1272], device='cuda:0')\n",
      "tensor([[-0.0554, -0.0145, -0.1386,  ..., -0.0342,  0.1878,  0.4609],\n",
      "        [-0.1530, -0.0975,  0.1332,  ..., -0.0828,  0.3362,  0.4902],\n",
      "        [-0.1504, -0.0233, -0.0910,  ..., -0.1499,  0.3769,  0.4145],\n",
      "        [-0.0527, -0.0487,  0.0077,  ..., -0.0287,  0.3828,  0.3546]],\n",
      "       device='cuda:0', requires_grad=True)\n"
     ]
    },
    {
     "data": {
      "image/png": "[encoded data removed]",
      "text/plain": [
       "<Figure size 432x288 with 1 Axes>"
      ]
     },
     "metadata": {
      "needs_background": "light"
     },
     "output_type": "display_data"
    },
    {
     "name": "stderr",
     "output_type": "stream",
     "text": [
      "Epoch 5 | Combined Loss 501.03162778266 | Clustering Loss 497.5286582792573 | LM Loss 3.50296950340271:   0%|          | 0/54 [00:00<?, ?it/s]"
     ]
    },
    {
     "name": "stdout",
     "output_type": "stream",
     "text": [
      "tensor(True)\n"
     ]
    },
    {
     "name": "stderr",
     "output_type": "stream",
     "text": [
      "Epoch 5 | Combined Loss 511.0574583539233 | Clustering Loss 508.3029429444537 | LM Loss 2.7545154094696045: 100%|██████████| 54/54 [00:05<00:00,  9.70it/s]  \n"
     ]
    },
    {
     "name": "stdout",
     "output_type": "stream",
     "text": [
      "############################################################\n",
      "NN Measures\n",
      "NMI: 0.21248724694724638\n",
      "Accuracy: ({0: 1, 1: 3, 2: 2, 3: 0}, 0.42990654205607476)\n",
      "ARI: 0.06718113503543276\n",
      "tensor([261.1272, 270.9822, 270.9822, 261.1272], device='cuda:0')\n",
      "tensor([[-0.0554, -0.0145, -0.1386,  ..., -0.0342,  0.1878,  0.4609],\n",
      "        [-0.1530, -0.0975,  0.1332,  ..., -0.0828,  0.3362,  0.4902],\n",
      "        [-0.1504, -0.0233, -0.0910,  ..., -0.1499,  0.3769,  0.4145],\n",
      "        [-0.0527, -0.0487,  0.0077,  ..., -0.0287,  0.3828,  0.3546]],\n",
      "       device='cuda:0', requires_grad=True)\n"
     ]
    },
    {
     "data": {
      "image/png": "[encoded data removed]",
      "text/plain": [
       "<Figure size 432x288 with 1 Axes>"
      ]
     },
     "metadata": {
      "needs_background": "light"
     },
     "output_type": "display_data"
    },
    {
     "name": "stderr",
     "output_type": "stream",
     "text": [
      "Epoch 6 | Combined Loss 507.20215206781035 | Clustering Loss 504.102687889725 | LM Loss 3.099464178085327:   0%|          | 0/54 [00:00<?, ?it/s]"
     ]
    },
    {
     "name": "stdout",
     "output_type": "stream",
     "text": [
      "tensor(True)\n"
     ]
    },
    {
     "name": "stderr",
     "output_type": "stream",
     "text": [
      "Epoch 6 | Combined Loss 550.0985413298159 | Clustering Loss 547.5588513121157 | LM Loss 2.5396900177001953: 100%|██████████| 54/54 [00:05<00:00,  9.72it/s]  \n"
     ]
    },
    {
     "name": "stdout",
     "output_type": "stream",
     "text": [
      "############################################################\n",
      "NN Measures\n",
      "NMI: 0.16350062822637254\n",
      "Accuracy: ({0: 1, 1: 3, 2: 2, 3: 0}, 0.40654205607476634)\n",
      "ARI: 0.04354891253799978\n",
      "tensor([261.1272, 270.9822, 270.9822, 261.1272], device='cuda:0')\n",
      "tensor([[-0.0554, -0.0145, -0.1386,  ..., -0.0342,  0.1878,  0.4609],\n",
      "        [-0.1530, -0.0975,  0.1332,  ..., -0.0828,  0.3362,  0.4902],\n",
      "        [-0.1504, -0.0233, -0.0910,  ..., -0.1499,  0.3769,  0.4145],\n",
      "        [-0.0527, -0.0487,  0.0077,  ..., -0.0287,  0.3828,  0.3546]],\n",
      "       device='cuda:0', requires_grad=True)\n"
     ]
    },
    {
     "data": {
      "image/png": "[encoded data removed]",
      "text/plain": [
       "<Figure size 432x288 with 1 Axes>"
      ]
     },
     "metadata": {
      "needs_background": "light"
     },
     "output_type": "display_data"
    },
    {
     "name": "stderr",
     "output_type": "stream",
     "text": [
      "Epoch 7 | Combined Loss 503.9511792533053 | Clustering Loss 501.27582906409634 | LM Loss 2.6753501892089844:   0%|          | 0/54 [00:00<?, ?it/s]"
     ]
    },
    {
     "name": "stdout",
     "output_type": "stream",
     "text": [
      "tensor(True)\n"
     ]
    },
    {
     "name": "stderr",
     "output_type": "stream",
     "text": [
      "Epoch 7 | Combined Loss 572.5427447967979 | Clustering Loss 568.1132284813377 | LM Loss 4.429516315460205: 100%|██████████| 54/54 [00:05<00:00,  9.67it/s]   \n"
     ]
    },
    {
     "name": "stdout",
     "output_type": "stream",
     "text": [
      "############################################################\n",
      "NN Measures\n",
      "NMI: 0.16725269277274607\n",
      "Accuracy: ({0: 1, 1: 3, 2: 2, 3: 0}, 0.40654205607476634)\n",
      "ARI: 0.040077061910933076\n",
      "tensor([261.1272, 270.9822, 270.9822, 261.1272], device='cuda:0')\n",
      "tensor([[-0.0554, -0.0145, -0.1386,  ..., -0.0342,  0.1878,  0.4609],\n",
      "        [-0.1530, -0.0975,  0.1332,  ..., -0.0828,  0.3362,  0.4902],\n",
      "        [-0.1504, -0.0233, -0.0910,  ..., -0.1499,  0.3769,  0.4145],\n",
      "        [-0.0527, -0.0487,  0.0077,  ..., -0.0287,  0.3828,  0.3546]],\n",
      "       device='cuda:0', requires_grad=True)\n"
     ]
    },
    {
     "data": {
      "image/png": "[encoded data removed]",
      "text/plain": [
       "<Figure size 432x288 with 1 Axes>"
      ]
     },
     "metadata": {
      "needs_background": "light"
     },
     "output_type": "display_data"
    },
    {
     "name": "stderr",
     "output_type": "stream",
     "text": [
      "Epoch 8 | Combined Loss 503.0408922017874 | Clustering Loss 499.46898348940033 | LM Loss 3.571908712387085:   0%|          | 0/54 [00:00<?, ?it/s]"
     ]
    },
    {
     "name": "stdout",
     "output_type": "stream",
     "text": [
      "tensor(True)\n"
     ]
    },
    {
     "name": "stderr",
     "output_type": "stream",
     "text": [
      "Epoch 8 | Combined Loss 558.9248186068653 | Clustering Loss 556.3152397589802 | LM Loss 2.609578847885132: 100%|██████████| 54/54 [00:05<00:00,  9.61it/s]   \n"
     ]
    },
    {
     "name": "stdout",
     "output_type": "stream",
     "text": [
      "############################################################\n",
      "NN Measures\n",
      "NMI: 0.16860458391729635\n",
      "Accuracy: ({0: 1, 1: 3, 2: 2, 3: 0}, 0.3925233644859813)\n",
      "ARI: 0.030461534249808336\n",
      "tensor([261.1272, 270.9822, 270.9822, 261.1272], device='cuda:0')\n",
      "tensor([[-0.0554, -0.0145, -0.1386,  ..., -0.0342,  0.1878,  0.4609],\n",
      "        [-0.1530, -0.0975,  0.1332,  ..., -0.0828,  0.3362,  0.4902],\n",
      "        [-0.1504, -0.0233, -0.0910,  ..., -0.1499,  0.3769,  0.4145],\n",
      "        [-0.0527, -0.0487,  0.0077,  ..., -0.0287,  0.3828,  0.3546]],\n",
      "       device='cuda:0', requires_grad=True)\n"
     ]
    },
    {
     "data": {
      "image/png": "[encoded data removed]",
      "text/plain": [
       "<Figure size 432x288 with 1 Axes>"
      ]
     },
     "metadata": {
      "needs_background": "light"
     },
     "output_type": "display_data"
    },
    {
     "name": "stderr",
     "output_type": "stream",
     "text": [
      "Epoch 9 | Combined Loss 515.5399343158642 | Clustering Loss 512.9366282607953 | LM Loss 2.6033060550689697:   0%|          | 0/54 [00:00<?, ?it/s]"
     ]
    },
    {
     "name": "stdout",
     "output_type": "stream",
     "text": [
      "tensor(True)\n"
     ]
    },
    {
     "name": "stderr",
     "output_type": "stream",
     "text": [
      "Epoch 9 | Combined Loss 554.9384874792438 | Clustering Loss 551.7795192690235 | LM Loss 3.158968210220337: 100%|██████████| 54/54 [00:05<00:00,  9.68it/s]   \n"
     ]
    },
    {
     "name": "stdout",
     "output_type": "stream",
     "text": [
      "############################################################\n",
      "NN Measures\n",
      "NMI: 0.14244940615322876\n",
      "Accuracy: ({0: 1, 1: 3, 2: 2, 3: 0}, 0.37850467289719625)\n",
      "ARI: 0.02149034385014642\n",
      "tensor([261.1272, 270.9822, 270.9822, 261.1272], device='cuda:0')\n",
      "tensor([[-0.0554, -0.0145, -0.1386,  ..., -0.0342,  0.1878,  0.4609],\n",
      "        [-0.1530, -0.0975,  0.1332,  ..., -0.0828,  0.3362,  0.4902],\n",
      "        [-0.1504, -0.0233, -0.0910,  ..., -0.1499,  0.3769,  0.4145],\n",
      "        [-0.0527, -0.0487,  0.0077,  ..., -0.0287,  0.3828,  0.3546]],\n",
      "       device='cuda:0', requires_grad=True)\n"
     ]
    },
    {
     "data": {
      "image/png": "[encoded data removed]",
      "text/plain": [
       "<Figure size 432x288 with 1 Axes>"
      ]
     },
     "metadata": {
      "needs_background": "light"
     },
     "output_type": "display_data"
    },
    {
     "name": "stderr",
     "output_type": "stream",
     "text": [
      "Epoch 10 | Combined Loss 492.98643236304065 | Clustering Loss 489.8359828486516 | LM Loss 3.150449514389038:   0%|          | 0/54 [00:00<?, ?it/s]"
     ]
    },
    {
     "name": "stdout",
     "output_type": "stream",
     "text": [
      "tensor(True)\n"
     ]
    },
    {
     "name": "stderr",
     "output_type": "stream",
     "text": [
      "Epoch 10 | Combined Loss 563.3270116449607 | Clustering Loss 559.9735942484153 | LM Loss 3.35341739654541: 100%|██████████| 54/54 [00:05<00:00,  9.55it/s]    \n"
     ]
    },
    {
     "name": "stdout",
     "output_type": "stream",
     "text": [
      "############################################################\n",
      "NN Measures\n",
      "NMI: 0.16121059333391413\n",
      "Accuracy: ({0: 1, 1: 3, 2: 2, 3: 0}, 0.397196261682243)\n",
      "ARI: 0.039386814420608623\n",
      "tensor([261.1272, 270.9822, 270.9822, 261.1272], device='cuda:0')\n",
      "tensor([[-0.0554, -0.0145, -0.1386,  ..., -0.0342,  0.1878,  0.4609],\n",
      "        [-0.1530, -0.0975,  0.1332,  ..., -0.0828,  0.3362,  0.4902],\n",
      "        [-0.1504, -0.0233, -0.0910,  ..., -0.1499,  0.3769,  0.4145],\n",
      "        [-0.0527, -0.0487,  0.0077,  ..., -0.0287,  0.3828,  0.3546]],\n",
      "       device='cuda:0', requires_grad=True)\n"
     ]
    },
    {
     "data": {
      "image/png": "[encoded data removed]",
      "text/plain": [
       "<Figure size 432x288 with 1 Axes>"
      ]
     },
     "metadata": {
      "needs_background": "light"
     },
     "output_type": "display_data"
    },
    {
     "name": "stderr",
     "output_type": "stream",
     "text": [
      "Epoch 11 | Combined Loss 487.59565745019614 | Clustering Loss 484.7163206162423 | LM Loss 2.8793368339538574:   0%|          | 0/54 [00:00<?, ?it/s]"
     ]
    },
    {
     "name": "stdout",
     "output_type": "stream",
     "text": [
      "tensor(True)\n"
     ]
    },
    {
     "name": "stderr",
     "output_type": "stream",
     "text": [
      "Epoch 11 | Combined Loss 480.1171864199506 | Clustering Loss 476.74417340038883 | LM Loss 3.3730130195617676:  37%|███▋      | 20/54 [00:02<00:03,  8.81it/s]\n"
     ]
    },
    {
     "ename": "KeyboardInterrupt",
     "evalue": "",
     "output_type": "error",
     "traceback": [
      "\u001b[0;31m---------------------------------------------------------------------------\u001b[0m",
      "\u001b[0;31mKeyboardInterrupt\u001b[0m                         Traceback (most recent call last)",
      "\u001b[0;32m<ipython-input-28-7e6ce6511c6f>\u001b[0m in \u001b[0;36m<module>\u001b[0;34m\u001b[0m\n\u001b[1;32m      4\u001b[0m \u001b[0mold\u001b[0m \u001b[0;34m=\u001b[0m \u001b[0;34m[\u001b[0m\u001b[0;34m]\u001b[0m\u001b[0;34m\u001b[0m\u001b[0;34m\u001b[0m\u001b[0m\n\u001b[1;32m      5\u001b[0m \u001b[0;32mfor\u001b[0m \u001b[0mepoch\u001b[0m \u001b[0;32min\u001b[0m \u001b[0mrange\u001b[0m\u001b[0;34m(\u001b[0m\u001b[0;36m30\u001b[0m\u001b[0;34m)\u001b[0m\u001b[0;34m:\u001b[0m\u001b[0;34m\u001b[0m\u001b[0;34m\u001b[0m\u001b[0m\n\u001b[0;32m----> 6\u001b[0;31m     new_embeddings, true_labels, predicted_labels, combined_loss = train(\n\u001b[0m\u001b[1;32m      7\u001b[0m         \u001b[0mepoch\u001b[0m\u001b[0;34m,\u001b[0m\u001b[0;34m\u001b[0m\u001b[0;34m\u001b[0m\u001b[0m\n\u001b[1;32m      8\u001b[0m         \u001b[0mcluster_model\u001b[0m\u001b[0;34m,\u001b[0m\u001b[0;34m\u001b[0m\u001b[0;34m\u001b[0m\u001b[0m\n",
      "\u001b[0;32m<ipython-input-26-080950e311b3>\u001b[0m in \u001b[0;36mtrain\u001b[0;34m(epoch, cluster_model, data_loader, optimizer)\u001b[0m\n\u001b[1;32m     11\u001b[0m         \u001b[0;31m# tokenize texts each batch\u001b[0m\u001b[0;34m\u001b[0m\u001b[0;34m\u001b[0m\u001b[0;34m\u001b[0m\u001b[0m\n\u001b[1;32m     12\u001b[0m         \u001b[0mtexts\u001b[0m\u001b[0;34m,\u001b[0m \u001b[0m_\u001b[0m \u001b[0;34m=\u001b[0m \u001b[0mbatch_data\u001b[0m\u001b[0;34m\u001b[0m\u001b[0;34m\u001b[0m\u001b[0m\n\u001b[0;32m---> 13\u001b[0;31m         inputs = tokenizer(\n\u001b[0m\u001b[1;32m     14\u001b[0m             \u001b[0mtexts\u001b[0m\u001b[0;34m,\u001b[0m\u001b[0;34m\u001b[0m\u001b[0;34m\u001b[0m\u001b[0m\n\u001b[1;32m     15\u001b[0m             \u001b[0mreturn_tensors\u001b[0m\u001b[0;34m=\u001b[0m\u001b[0;34m'pt'\u001b[0m\u001b[0;34m,\u001b[0m\u001b[0;34m\u001b[0m\u001b[0;34m\u001b[0m\u001b[0m\n",
      "\u001b[0;32m~/.conda/envs/cuda/lib/python3.8/site-packages/transformers/tokenization_utils_base.py\u001b[0m in \u001b[0;36m__call__\u001b[0;34m(self, text, text_pair, add_special_tokens, padding, truncation, max_length, stride, is_split_into_words, pad_to_multiple_of, return_tensors, return_token_type_ids, return_attention_mask, return_overflowing_tokens, return_special_tokens_mask, return_offsets_mapping, return_length, verbose, **kwargs)\u001b[0m\n\u001b[1;32m   1937\u001b[0m         \u001b[0;32mif\u001b[0m \u001b[0mis_batched\u001b[0m\u001b[0;34m:\u001b[0m\u001b[0;34m\u001b[0m\u001b[0;34m\u001b[0m\u001b[0m\n\u001b[1;32m   1938\u001b[0m             \u001b[0mbatch_text_or_text_pairs\u001b[0m \u001b[0;34m=\u001b[0m \u001b[0mlist\u001b[0m\u001b[0;34m(\u001b[0m\u001b[0mzip\u001b[0m\u001b[0;34m(\u001b[0m\u001b[0mtext\u001b[0m\u001b[0;34m,\u001b[0m \u001b[0mtext_pair\u001b[0m\u001b[0;34m)\u001b[0m\u001b[0;34m)\u001b[0m \u001b[0;32mif\u001b[0m \u001b[0mtext_pair\u001b[0m \u001b[0;32mis\u001b[0m \u001b[0;32mnot\u001b[0m \u001b[0;32mNone\u001b[0m \u001b[0;32melse\u001b[0m \u001b[0mtext\u001b[0m\u001b[0;34m\u001b[0m\u001b[0;34m\u001b[0m\u001b[0m\n\u001b[0;32m-> 1939\u001b[0;31m             return self.batch_encode_plus(\n\u001b[0m\u001b[1;32m   1940\u001b[0m                 \u001b[0mbatch_text_or_text_pairs\u001b[0m\u001b[0;34m=\u001b[0m\u001b[0mbatch_text_or_text_pairs\u001b[0m\u001b[0;34m,\u001b[0m\u001b[0;34m\u001b[0m\u001b[0;34m\u001b[0m\u001b[0m\n\u001b[1;32m   1941\u001b[0m                 \u001b[0madd_special_tokens\u001b[0m\u001b[0;34m=\u001b[0m\u001b[0madd_special_tokens\u001b[0m\u001b[0;34m,\u001b[0m\u001b[0;34m\u001b[0m\u001b[0;34m\u001b[0m\u001b[0m\n",
      "\u001b[0;32m~/.conda/envs/cuda/lib/python3.8/site-packages/transformers/tokenization_utils_base.py\u001b[0m in \u001b[0;36mbatch_encode_plus\u001b[0;34m(self, batch_text_or_text_pairs, add_special_tokens, padding, truncation, max_length, stride, is_split_into_words, pad_to_multiple_of, return_tensors, return_token_type_ids, return_attention_mask, return_overflowing_tokens, return_special_tokens_mask, return_offsets_mapping, return_length, verbose, **kwargs)\u001b[0m\n\u001b[1;32m   2122\u001b[0m         )\n\u001b[1;32m   2123\u001b[0m \u001b[0;34m\u001b[0m\u001b[0m\n\u001b[0;32m-> 2124\u001b[0;31m         return self._batch_encode_plus(\n\u001b[0m\u001b[1;32m   2125\u001b[0m             \u001b[0mbatch_text_or_text_pairs\u001b[0m\u001b[0;34m=\u001b[0m\u001b[0mbatch_text_or_text_pairs\u001b[0m\u001b[0;34m,\u001b[0m\u001b[0;34m\u001b[0m\u001b[0;34m\u001b[0m\u001b[0m\n\u001b[1;32m   2126\u001b[0m             \u001b[0madd_special_tokens\u001b[0m\u001b[0;34m=\u001b[0m\u001b[0madd_special_tokens\u001b[0m\u001b[0;34m,\u001b[0m\u001b[0;34m\u001b[0m\u001b[0;34m\u001b[0m\u001b[0m\n",
      "\u001b[0;32m~/.conda/envs/cuda/lib/python3.8/site-packages/transformers/tokenization_utils.py\u001b[0m in \u001b[0;36m_batch_encode_plus\u001b[0;34m(self, batch_text_or_text_pairs, add_special_tokens, padding_strategy, truncation_strategy, max_length, stride, is_split_into_words, pad_to_multiple_of, return_tensors, return_token_type_ids, return_attention_mask, return_overflowing_tokens, return_special_tokens_mask, return_offsets_mapping, return_length, verbose, **kwargs)\u001b[0m\n\u001b[1;32m    553\u001b[0m                 \u001b[0mids\u001b[0m\u001b[0;34m,\u001b[0m \u001b[0mpair_ids\u001b[0m \u001b[0;34m=\u001b[0m \u001b[0mids_or_pair_ids\u001b[0m\u001b[0;34m\u001b[0m\u001b[0;34m\u001b[0m\u001b[0m\n\u001b[1;32m    554\u001b[0m \u001b[0;34m\u001b[0m\u001b[0m\n\u001b[0;32m--> 555\u001b[0;31m             \u001b[0mfirst_ids\u001b[0m \u001b[0;34m=\u001b[0m \u001b[0mget_input_ids\u001b[0m\u001b[0;34m(\u001b[0m\u001b[0mids\u001b[0m\u001b[0;34m)\u001b[0m\u001b[0;34m\u001b[0m\u001b[0;34m\u001b[0m\u001b[0m\n\u001b[0m\u001b[1;32m    556\u001b[0m             \u001b[0msecond_ids\u001b[0m \u001b[0;34m=\u001b[0m \u001b[0mget_input_ids\u001b[0m\u001b[0;34m(\u001b[0m\u001b[0mpair_ids\u001b[0m\u001b[0;34m)\u001b[0m \u001b[0;32mif\u001b[0m \u001b[0mpair_ids\u001b[0m \u001b[0;32mis\u001b[0m \u001b[0;32mnot\u001b[0m \u001b[0;32mNone\u001b[0m \u001b[0;32melse\u001b[0m \u001b[0;32mNone\u001b[0m\u001b[0;34m\u001b[0m\u001b[0;34m\u001b[0m\u001b[0m\n\u001b[1;32m    557\u001b[0m             \u001b[0minput_ids\u001b[0m\u001b[0;34m.\u001b[0m\u001b[0mappend\u001b[0m\u001b[0;34m(\u001b[0m\u001b[0;34m(\u001b[0m\u001b[0mfirst_ids\u001b[0m\u001b[0;34m,\u001b[0m \u001b[0msecond_ids\u001b[0m\u001b[0;34m)\u001b[0m\u001b[0;34m)\u001b[0m\u001b[0;34m\u001b[0m\u001b[0;34m\u001b[0m\u001b[0m\n",
      "\u001b[0;32m~/.conda/envs/cuda/lib/python3.8/site-packages/transformers/tokenization_utils.py\u001b[0m in \u001b[0;36mget_input_ids\u001b[0;34m(text)\u001b[0m\n\u001b[1;32m    514\u001b[0m             \u001b[0;32mif\u001b[0m \u001b[0misinstance\u001b[0m\u001b[0;34m(\u001b[0m\u001b[0mtext\u001b[0m\u001b[0;34m,\u001b[0m \u001b[0mstr\u001b[0m\u001b[0;34m)\u001b[0m\u001b[0;34m:\u001b[0m\u001b[0;34m\u001b[0m\u001b[0;34m\u001b[0m\u001b[0m\n\u001b[1;32m    515\u001b[0m                 \u001b[0mtokens\u001b[0m \u001b[0;34m=\u001b[0m \u001b[0mself\u001b[0m\u001b[0;34m.\u001b[0m\u001b[0mtokenize\u001b[0m\u001b[0;34m(\u001b[0m\u001b[0mtext\u001b[0m\u001b[0;34m,\u001b[0m \u001b[0;34m**\u001b[0m\u001b[0mkwargs\u001b[0m\u001b[0;34m)\u001b[0m\u001b[0;34m\u001b[0m\u001b[0;34m\u001b[0m\u001b[0m\n\u001b[0;32m--> 516\u001b[0;31m                 \u001b[0;32mreturn\u001b[0m \u001b[0mself\u001b[0m\u001b[0;34m.\u001b[0m\u001b[0mconvert_tokens_to_ids\u001b[0m\u001b[0;34m(\u001b[0m\u001b[0mtokens\u001b[0m\u001b[0;34m)\u001b[0m\u001b[0;34m\u001b[0m\u001b[0;34m\u001b[0m\u001b[0m\n\u001b[0m\u001b[1;32m    517\u001b[0m             \u001b[0;32melif\u001b[0m \u001b[0misinstance\u001b[0m\u001b[0;34m(\u001b[0m\u001b[0mtext\u001b[0m\u001b[0;34m,\u001b[0m \u001b[0;34m(\u001b[0m\u001b[0mlist\u001b[0m\u001b[0;34m,\u001b[0m \u001b[0mtuple\u001b[0m\u001b[0;34m)\u001b[0m\u001b[0;34m)\u001b[0m \u001b[0;32mand\u001b[0m \u001b[0mlen\u001b[0m\u001b[0;34m(\u001b[0m\u001b[0mtext\u001b[0m\u001b[0;34m)\u001b[0m \u001b[0;34m>\u001b[0m \u001b[0;36m0\u001b[0m \u001b[0;32mand\u001b[0m \u001b[0misinstance\u001b[0m\u001b[0;34m(\u001b[0m\u001b[0mtext\u001b[0m\u001b[0;34m[\u001b[0m\u001b[0;36m0\u001b[0m\u001b[0;34m]\u001b[0m\u001b[0;34m,\u001b[0m \u001b[0mstr\u001b[0m\u001b[0;34m)\u001b[0m\u001b[0;34m:\u001b[0m\u001b[0;34m\u001b[0m\u001b[0;34m\u001b[0m\u001b[0m\n\u001b[1;32m    518\u001b[0m                 \u001b[0;32mif\u001b[0m \u001b[0mis_split_into_words\u001b[0m\u001b[0;34m:\u001b[0m\u001b[0;34m\u001b[0m\u001b[0;34m\u001b[0m\u001b[0m\n",
      "\u001b[0;32m~/.conda/envs/cuda/lib/python3.8/site-packages/transformers/tokenization_utils.py\u001b[0m in \u001b[0;36mconvert_tokens_to_ids\u001b[0;34m(self, tokens)\u001b[0m\n\u001b[1;32m    387\u001b[0m         \u001b[0mids\u001b[0m \u001b[0;34m=\u001b[0m \u001b[0;34m[\u001b[0m\u001b[0;34m]\u001b[0m\u001b[0;34m\u001b[0m\u001b[0;34m\u001b[0m\u001b[0m\n\u001b[1;32m    388\u001b[0m         \u001b[0;32mfor\u001b[0m \u001b[0mtoken\u001b[0m \u001b[0;32min\u001b[0m \u001b[0mtokens\u001b[0m\u001b[0;34m:\u001b[0m\u001b[0;34m\u001b[0m\u001b[0;34m\u001b[0m\u001b[0m\n\u001b[0;32m--> 389\u001b[0;31m             \u001b[0mids\u001b[0m\u001b[0;34m.\u001b[0m\u001b[0mappend\u001b[0m\u001b[0;34m(\u001b[0m\u001b[0mself\u001b[0m\u001b[0;34m.\u001b[0m\u001b[0m_convert_token_to_id_with_added_voc\u001b[0m\u001b[0;34m(\u001b[0m\u001b[0mtoken\u001b[0m\u001b[0;34m)\u001b[0m\u001b[0;34m)\u001b[0m\u001b[0;34m\u001b[0m\u001b[0;34m\u001b[0m\u001b[0m\n\u001b[0m\u001b[1;32m    390\u001b[0m         \u001b[0;32mreturn\u001b[0m \u001b[0mids\u001b[0m\u001b[0;34m\u001b[0m\u001b[0;34m\u001b[0m\u001b[0m\n\u001b[1;32m    391\u001b[0m \u001b[0;34m\u001b[0m\u001b[0m\n",
      "\u001b[0;32m~/.conda/envs/cuda/lib/python3.8/site-packages/transformers/tokenization_utils.py\u001b[0m in \u001b[0;36m_convert_token_to_id_with_added_voc\u001b[0;34m(self, token)\u001b[0m\n\u001b[1;32m    394\u001b[0m             \u001b[0;32mreturn\u001b[0m \u001b[0;32mNone\u001b[0m\u001b[0;34m\u001b[0m\u001b[0;34m\u001b[0m\u001b[0m\n\u001b[1;32m    395\u001b[0m \u001b[0;34m\u001b[0m\u001b[0m\n\u001b[0;32m--> 396\u001b[0;31m         \u001b[0;32mif\u001b[0m \u001b[0mtoken\u001b[0m \u001b[0;32min\u001b[0m \u001b[0mself\u001b[0m\u001b[0;34m.\u001b[0m\u001b[0madded_tokens_encoder\u001b[0m\u001b[0;34m:\u001b[0m\u001b[0;34m\u001b[0m\u001b[0;34m\u001b[0m\u001b[0m\n\u001b[0m\u001b[1;32m    397\u001b[0m             \u001b[0;32mreturn\u001b[0m \u001b[0mself\u001b[0m\u001b[0;34m.\u001b[0m\u001b[0madded_tokens_encoder\u001b[0m\u001b[0;34m[\u001b[0m\u001b[0mtoken\u001b[0m\u001b[0;34m]\u001b[0m\u001b[0;34m\u001b[0m\u001b[0;34m\u001b[0m\u001b[0m\n\u001b[1;32m    398\u001b[0m         \u001b[0;32mreturn\u001b[0m \u001b[0mself\u001b[0m\u001b[0;34m.\u001b[0m\u001b[0m_convert_token_to_id\u001b[0m\u001b[0;34m(\u001b[0m\u001b[0mtoken\u001b[0m\u001b[0;34m)\u001b[0m\u001b[0;34m\u001b[0m\u001b[0;34m\u001b[0m\u001b[0m\n",
      "\u001b[0;31mKeyboardInterrupt\u001b[0m: "
     ]
    }
   ],
   "source": [
    "import matplotlib.pyplot as plt\n",
    "\n",
    "losses = []\n",
    "old = []\n",
    "for epoch in range(30):\n",
    "    new_embeddings, true_labels, predicted_labels, combined_loss = train(\n",
    "        epoch,\n",
    "        cluster_model,\n",
    "        data_loader,\n",
    "        optimizer=optimizer)\n",
    "    losses.append(combined_loss)\n",
    "    plt.plot(losses)\n",
    "    plt.show()\n",
    "    old.append(cluster_model.centroids.clone().cpu())\n",
    "    if epoch > 0:\n",
    "        print((old[epoch - 1] == old[epoch]).all())\n",
    "    "
   ]
  },
  {
   "cell_type": "code",
   "execution_count": null,
   "metadata": {},
   "outputs": [],
   "source": [
    "for i in range(4):\n",
    "    print(torch.abs(cluster_model.centroids[0] - cluster_model.centroids[i]).mean())"
   ]
  },
  {
   "cell_type": "code",
   "execution_count": null,
   "metadata": {},
   "outputs": [],
   "source": [
    "mc = cluster_model.centroids.cpu().detach().numpy()\n",
    "ic = initial_centroids.cpu().detach().numpy()\n",
    "\n",
    "ym = np.ones(4)\n",
    "yi = np.zeros(4)\n",
    "\n",
    "c = np.concatenate([mc, ic])\n",
    "y = np.concatenate([ym, yi])"
   ]
  },
  {
   "cell_type": "code",
   "execution_count": null,
   "metadata": {},
   "outputs": [],
   "source": [
    "from umap import UMAP\n",
    "from sklearn.decomposition import PCA\n",
    "umap = PCA(n_components=2)\n",
    "Xo = np.vstack([embeddings, ic])\n",
    "Xro = umap.fit_transform(Xo)\n",
    "labels_co = np.concatenate([labels, [f\"Centroid {i}\" for i in range(4)]])"
   ]
  },
  {
   "cell_type": "code",
   "execution_count": null,
   "metadata": {},
   "outputs": [],
   "source": [
    "sns.scatterplot(x=Xro[:, 0], y=Xro[:, 1], hue=[f'{i}' for i in labels_co])"
   ]
  },
  {
   "cell_type": "code",
   "execution_count": null,
   "metadata": {},
   "outputs": [],
   "source": [
    "import plotly.express as px\n",
    "fig = px.scatter(x=Xro[:, 0], y=Xro[:, 1], color=[f'{i}' for i in labels_co])\n",
    "fig.show()"
   ]
  },
  {
   "cell_type": "code",
   "execution_count": null,
   "metadata": {},
   "outputs": [],
   "source": [
    "from umap import UMAP\n",
    "umap = PCA(n_components=2)\n",
    "Xn = np.vstack(new_embeddings)\n",
    "Xn = np.vstack([Xn, mc])\n",
    "Xrn = umap.fit_transform(Xn)\n",
    "labels_c = np.concatenate([predicted_labels, [f\"Centroid {i}\" for i in range(4)]])"
   ]
  },
  {
   "cell_type": "code",
   "execution_count": null,
   "metadata": {},
   "outputs": [],
   "source": [
    "sns.scatterplot(x=Xrn[:, 0], y=Xrn[:, 1], hue=[f'{i}' for i in labels_c])"
   ]
  },
  {
   "cell_type": "code",
   "execution_count": null,
   "metadata": {},
   "outputs": [],
   "source": [
    "import plotly.express as px\n",
    "fig = px.scatter(x=Xrn[:, 0], y=Xrn[:, 1], color=[f'{i}' for i in labels_c])\n",
    "fig.show()"
   ]
  },
  {
   "cell_type": "code",
   "execution_count": null,
   "metadata": {},
   "outputs": [],
   "source": [
    "new_embeddings.shape"
   ]
  },
  {
   "cell_type": "code",
   "execution_count": null,
   "metadata": {},
   "outputs": [],
   "source": [
    "np.vstack(new_embeddings).shape"
   ]
  },
  {
   "cell_type": "code",
   "execution_count": null,
   "metadata": {},
   "outputs": [],
   "source": [
    "predicted_labels, true_labels"
   ]
  },
  {
   "cell_type": "code",
   "execution_count": null,
   "metadata": {},
   "outputs": [],
   "source": [
    "d.argmin(dim=1)"
   ]
  },
  {
   "cell_type": "code",
   "execution_count": null,
   "metadata": {},
   "outputs": [],
   "source": [
    "torch.tensor([[440.9798, 450.8352, 440.8814, 459.5430],\n",
    "        [427.6426, 438.6551, 438.5712, 454.0493],\n",
    "        [434.4702, 445.4218, 429.3267, 445.5245],\n",
    "        [442.3625, 443.0142, 440.0734, 452.7371],\n",
    "        [434.8301, 444.0662, 437.4031, 456.6936],\n",
    "        [419.6922, 431.4528, 425.4351, 450.7135],\n",
    "        [450.8062, 462.0776, 455.6161, 456.2221]]).argmin(dim=1)"
   ]
  },
  {
   "cell_type": "code",
   "execution_count": null,
   "metadata": {},
   "outputs": [],
   "source": [
    "a = torch.tensor([[1,2,3]], dtype=torch.float64)\n",
    "b = torch.tensor([[3,2,1],\n",
    "                  [3,2,1]], dtype=torch.float64)"
   ]
  },
  {
   "cell_type": "code",
   "execution_count": null,
   "metadata": {},
   "outputs": [],
   "source": [
    "lp_distance(a,b, p=1)"
   ]
  },
  {
   "cell_type": "code",
   "execution_count": null,
   "metadata": {},
   "outputs": [],
   "source": [
    "lp_distance(a,b, p=2)"
   ]
  },
  {
   "cell_type": "code",
   "execution_count": null,
   "metadata": {},
   "outputs": [],
   "source": [
    "from scipy.spatial.distance import euclidean, minkowski\n",
    "euclidean(a.numpy(), b.numpy()[0]), minkowski(a.numpy(), b.numpy()[0], p=1)"
   ]
  },
  {
   "cell_type": "code",
   "execution_count": null,
   "metadata": {},
   "outputs": [],
   "source": [
    "parameterized_softmax(d, p=100)"
   ]
  },
  {
   "cell_type": "code",
   "execution_count": null,
   "metadata": {},
   "outputs": [],
   "source": [
    "from scipy.special import softmax\n",
    "softmax(d, axis=1).sum(axis=1)"
   ]
  },
  {
   "cell_type": "code",
   "execution_count": null,
   "metadata": {},
   "outputs": [],
   "source": [
    "1.1463e-16"
   ]
  },
  {
   "cell_type": "code",
   "execution_count": null,
   "metadata": {},
   "outputs": [],
   "source": [
    "def _softmax(X):\n",
    "    \"\"\"\n",
    "    Computes the parameterized softmax of an 2d array along the first axis.\n",
    "    \"\"\"\n",
    "    return torch.exp(X) / torch.sum(torch.exp(X), dim=1).unsqueeze(1)"
   ]
  },
  {
   "cell_type": "code",
   "execution_count": null,
   "metadata": {},
   "outputs": [],
   "source": [
    "_softmax(d), parameterized_softmax(d, p=0.00001).sum(dim=1)"
   ]
  },
  {
   "cell_type": "code",
   "execution_count": null,
   "metadata": {},
   "outputs": [],
   "source": [
    "p = -1\n",
    "parameterized_softmax(d, p=p), parameterized_softmax(d, p=p).sum(dim=1)"
   ]
  },
  {
   "cell_type": "code",
   "execution_count": null,
   "metadata": {},
   "outputs": [],
   "source": [
    "new_pred = kmeans.fit_predict(np.vstack(new_embeddings))"
   ]
  },
  {
   "cell_type": "code",
   "execution_count": null,
   "metadata": {},
   "outputs": [],
   "source": [
    "from sklearn.metrics import normalized_mutual_info_score, adjusted_rand_score\n",
    "\n",
    "print(cluster_accuracy(labels, new_pred)[1])\n",
    "print(normalized_mutual_info_score(labels, new_pred))\n",
    "print(adjusted_rand_score(labels, new_pred))"
   ]
  },
  {
   "cell_type": "code",
   "execution_count": null,
   "metadata": {},
   "outputs": [],
   "source": [
    "d.min(dim=1).indices"
   ]
  },
  {
   "cell_type": "markdown",
   "metadata": {},
   "source": [
    "# debug"
   ]
  },
  {
   "cell_type": "code",
   "execution_count": null,
   "metadata": {},
   "outputs": [],
   "source": [
    "cluster_model.eval()"
   ]
  },
  {
   "cell_type": "code",
   "execution_count": null,
   "metadata": {},
   "outputs": [],
   "source": [
    "import matplotlib.pyplot as plt\n",
    "from tqdm import tqdm\n",
    "sm = nn.Softmax()\n",
    "sg = nn.Sigmoid()"
   ]
  },
  {
   "cell_type": "code",
   "execution_count": null,
   "metadata": {},
   "outputs": [],
   "source": [
    "from scipy.signal import savgol_filter\n",
    "centroids = initial_centroids.clone().to('cuda').requires_grad_(True)\n",
    "#centroids = torch.Tensor(4, 768).uniform_(-10, 10).to(torch.float64).to('cuda').requires_grad_(True)\n",
    "#centroids = kmean_centroids.clone().to('cuda').requires_grad_(True)  # go this way (cluster hardening)\n",
    "opt = torch.optim.SGD(params=[centroids], lr=0.001)\n",
    "\n",
    "opt.zero_grad()\n",
    "\n",
    "losses = []\n",
    "c_hist = []\n",
    "for epoch in range(3):\n",
    "    \n",
    "    predicted_labels = []\n",
    "    true_labels = []\n",
    "    embs = []\n",
    "\n",
    "    cluster_model.eval()\n",
    "    c_hist.append(centroids.clone().detach().cpu().numpy())\n",
    "    pbar = tqdm(enumerate(data_loader))\n",
    "    for batch, batch_data in pbar:\n",
    "        texts, labels = batch_data\n",
    "        inputs = tokenizer(\n",
    "                    texts,\n",
    "                    return_tensors='pt',\n",
    "                    padding=True,\n",
    "                    truncation=True)\n",
    "        inputs = inputs.to('cuda')\n",
    "        \n",
    "        true_labels.extend(labels)\n",
    "        \n",
    "        # 0. obtain embeddings for each input\n",
    "        input_embeddings = cluster_model.embed(inputs)\n",
    "        input_embeddings = input_embeddings.to(torch.float64)\n",
    "        \n",
    "        embs.append(input_embeddings.cpu().detach().numpy())\n",
    "\n",
    "\n",
    "        distances = torch.stack([lp_distance(embedding.unsqueeze(0), centroids) for embedding in input_embeddings])\n",
    "        #nearest_centroids = torch.argmin(distances, dim=1).cpu().clone().detach()\n",
    "        nearest_centroids = torch.argmin(distances.cpu().clone().detach(), dim=1)\n",
    "        distances = torch.transpose(distances, 0, 1)    \n",
    "\n",
    "        # => shape (n_centroids, n_samples)\n",
    "        # 2. compute the softmax for each centroid of each distance to each centroid per input sample\n",
    "        # find min distances for each centroid\n",
    "        #nearest_centroids = torch.min(distances, dim=0).indices.cpu().clone().detach()\n",
    "\n",
    "        min_distances = torch.min(distances, dim=1).values\n",
    "        exponentials = torch.exp(-1 * (distances - min_distances.unsqueeze(1)))\n",
    "        softmax = exponentials / torch.sum(exponentials, dim=1).unsqueeze(1)\n",
    "\n",
    "        # 3. weight the distanace between each sample and each centroid\n",
    "        weighted_distances = distances * softmax\n",
    "\n",
    "\n",
    "        # 4. sum over centroids to obtain loss\n",
    "        #clustering_loss = weighted_distances.mean(dim=1).sum()\n",
    "        #clustering_loss = weighted_distances.min(dim=1).values.sum()\n",
    "        \n",
    "        opt.zero_grad()\n",
    "        \n",
    "        clustering_loss = weighted_distances.sum(dim=1).sum()\n",
    "        clustering_loss.backward()\n",
    "\n",
    "        #\n",
    "        #import pdb; pdb.set_trace()\n",
    "        opt.step()\n",
    "        \n",
    "        #with torch.no_grad():\n",
    "        #    acc_grads = centroids.grad.data.sum()\n",
    "        #    centroids.sub_(0.0001 * centroids.grad) #0.001\n",
    "        #centroids.grad = torch.zeros_like(centroids.grad) \n",
    "\n",
    "        \n",
    "        predicted_labels.extend(nearest_centroids.numpy())\n",
    "        losses.append(clustering_loss.item())\n",
    "        \n",
    "        pbar.set_description(f\"Epoch {epoch} | Batch: {batch} | Loss: {clustering_loss.item()}\")\n",
    "        \n",
    "        #print(centroids)\n",
    "    \n",
    "    plt.plot(losses)\n",
    "    plt.plot(savgol_filter(losses, 51, 3), color='red')\n",
    "    plt.show()"
   ]
  },
  {
   "cell_type": "code",
   "execution_count": null,
   "metadata": {},
   "outputs": [],
   "source": [
    "np_centroids = centroids.cpu().detach().numpy()\n",
    "predicted_labels = np.array(predicted_labels)\n",
    "true_labels = np.array(true_labels).astype('int')\n",
    "true_labels.shape, predicted_labels.shape\n",
    "\n",
    "embs = np.vstack(embs)"
   ]
  },
  {
   "cell_type": "code",
   "execution_count": null,
   "metadata": {},
   "outputs": [],
   "source": [
    "print(cluster_accuracy(true_labels, predicted_labels))\n",
    "print(normalized_mutual_info_score(true_labels, predicted_labels))"
   ]
  },
  {
   "cell_type": "code",
   "execution_count": null,
   "metadata": {},
   "outputs": [],
   "source": [
    "np.unique(predicted_labels, return_counts=True)"
   ]
  },
  {
   "cell_type": "code",
   "execution_count": null,
   "metadata": {},
   "outputs": [],
   "source": [
    "np.unique(true_labels, return_counts=True)"
   ]
  },
  {
   "cell_type": "code",
   "execution_count": null,
   "metadata": {},
   "outputs": [],
   "source": [
    "np.unique(kmeans_cluster, return_counts=True)"
   ]
  },
  {
   "cell_type": "code",
   "execution_count": null,
   "metadata": {},
   "outputs": [],
   "source": [
    "from umap import UMAP\n",
    "from sklearn.decomposition import PCA\n",
    "umap = UMAP(n_components=2)\n",
    "Xo = np.vstack([embs, np_centroids])\n",
    "Xro = umap.fit_transform(Xo)\n",
    "labels_co = np.concatenate([predicted_labels, [f\"Centroid {i}\" for i in range(4)]])\n",
    "label_kmeans = np.concatenate([kmeans_cluster, [f\"Centroid {i}\" for i in range(4)]])"
   ]
  },
  {
   "cell_type": "code",
   "execution_count": null,
   "metadata": {},
   "outputs": [],
   "source": [
    "import plotly.express as px\n",
    "fig = px.scatter(x=Xro[:, 0], y=Xro[:, 1], color=[f'{i}' for i in labels_co])\n",
    "fig.show()"
   ]
  },
  {
   "cell_type": "code",
   "execution_count": null,
   "metadata": {},
   "outputs": [],
   "source": [
    "import plotly.express as px\n",
    "fig = px.scatter(x=Xro[:, 0], y=Xro[:, 1], color=[f'{i}' for i in label_kmeans])\n",
    "fig.show()"
   ]
  },
  {
   "cell_type": "code",
   "execution_count": null,
   "metadata": {},
   "outputs": [],
   "source": [
    "(c_hist[0][0] == c_hist[1][0]).all()"
   ]
  },
  {
   "cell_type": "code",
   "execution_count": null,
   "metadata": {},
   "outputs": [],
   "source": [
    "c_hist[1][0]"
   ]
  },
  {
   "cell_type": "code",
   "execution_count": null,
   "metadata": {},
   "outputs": [],
   "source": [
    "np.linalg.norm(c_hist[0][0])"
   ]
  },
  {
   "cell_type": "code",
   "execution_count": null,
   "metadata": {},
   "outputs": [],
   "source": [
    "np.linalg.norm(c_hist[1][0])"
   ]
  },
  {
   "cell_type": "code",
   "execution_count": null,
   "metadata": {},
   "outputs": [],
   "source": [
    "np.linalg.norm(c_hist[2][0])"
   ]
  },
  {
   "cell_type": "code",
   "execution_count": null,
   "metadata": {},
   "outputs": [],
   "source": [
    "centroids.shape"
   ]
  },
  {
   "cell_type": "code",
   "execution_count": null,
   "metadata": {},
   "outputs": [],
   "source": []
  }
 ],
 "metadata": {
  "kernelspec": {
   "display_name": "Python 3",
   "language": "python",
   "name": "python3"
  },
  "language_info": {
   "codemirror_mode": {
    "name": "ipython",
    "version": 3
   },
   "file_extension": ".py",
   "mimetype": "text/x-python",
   "name": "python",
   "nbconvert_exporter": "python",
   "pygments_lexer": "ipython3",
   "version": "3.8.5"
  }
 },
 "nbformat": 4,
 "nbformat_minor": 4
}
